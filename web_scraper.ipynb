{
 "cells": [
  {
   "cell_type": "code",
   "execution_count": 95,
   "id": "315e94dd",
   "metadata": {},
   "outputs": [],
   "source": [
    "# Import Splinter and BeautifulSoup\n",
    "from splinter import Browser\n",
    "from bs4 import BeautifulSoup as soup\n",
    "from webdriver_manager.chrome import ChromeDriverManager\n",
    "import pandas as pd\n"
   ]
  },
  {
   "cell_type": "code",
   "execution_count": 96,
   "id": "5b96d240",
   "metadata": {},
   "outputs": [
    {
     "name": "stderr",
     "output_type": "stream",
     "text": [
      "\n",
      "\n",
      "====== WebDriver manager ======\n",
      "Current google-chrome version is 103.0.5060\n",
      "Get LATEST chromedriver version for 103.0.5060 google-chrome\n",
      "Driver [C:\\Users\\earth\\.wdm\\drivers\\chromedriver\\win32\\103.0.5060.53\\chromedriver.exe] found in cache\n"
     ]
    }
   ],
   "source": [
    "# set up splinter\n",
    "executable_path={\"executable_path\": ChromeDriverManager().install()}\n",
    "browser = Browser(\"chrome\", **executable_path, headless=False)\n"
   ]
  },
  {
   "cell_type": "code",
   "execution_count": 97,
   "id": "6ee4c55a",
   "metadata": {},
   "outputs": [],
   "source": [
    "# Visit the site, assign link to URL.\n",
    "url = 'https://crimegrade.org/crime-in-my-area/'\n",
    "browser.visit(url)"
   ]
  },
  {
   "cell_type": "code",
   "execution_count": 98,
   "id": "8b995433",
   "metadata": {},
   "outputs": [],
   "source": [
    "# Parse the HTML: BeautifulSoup will parse HTML, store compoenents as objects to access.\n",
    "html = browser.html\n",
    "html_soup = soup(html, 'html.parser')\n"
   ]
  },
  {
   "cell_type": "code",
   "execution_count": 99,
   "id": "50f6af30",
   "metadata": {},
   "outputs": [
    {
     "data": {
      "text/plain": [
       "'The Safest Places to Live in Every Area: Nearby Crime Rates and Maps'"
      ]
     },
     "execution_count": 99,
     "metadata": {},
     "output_type": "execute_result"
    }
   ],
   "source": [
    "# Scrape the Title\n",
    "title = html_soup.find('h1').text\n",
    "title"
   ]
  },
  {
   "cell_type": "code",
   "execution_count": 100,
   "id": "25011e55",
   "metadata": {},
   "outputs": [
    {
     "name": "stdout",
     "output_type": "stream",
     "text": [
      "<input class=\"FormBodyInput\" id=\"zip-code-form\" maxlength=\"5\" placeholder=\"Zip code\" type=\"tel\"/>\n"
     ]
    }
   ],
   "source": [
    "# Scrape the input field for zipcode\n",
    "form = html_soup.find('input', class_='FormBodyInput')\n",
    "print(form)"
   ]
  },
  {
   "cell_type": "code",
   "execution_count": 101,
   "id": "82b8e0b5",
   "metadata": {},
   "outputs": [],
   "source": [
    "browser.find_by_id(\"zip-code-form\").fill(\"27006\")"
   ]
  },
  {
   "cell_type": "code",
   "execution_count": 102,
   "id": "d1f74e52",
   "metadata": {},
   "outputs": [
    {
     "name": "stdout",
     "output_type": "stream",
     "text": [
      "<input class=\"FormBodySubmit\" id=\"submit\" type=\"submit\" value=\"Explore\"/>\n"
     ]
    }
   ],
   "source": [
    "form = html_soup.find('input', class_='FormBodySubmit')\n",
    "print(form)"
   ]
  },
  {
   "cell_type": "code",
   "execution_count": 103,
   "id": "7dd2ebf4",
   "metadata": {},
   "outputs": [],
   "source": [
    "browser.find_by_id(\"submit\").first.click()"
   ]
  },
  {
   "cell_type": "code",
   "execution_count": null,
   "id": "4947c5cd",
   "metadata": {},
   "outputs": [],
   "source": []
  },
  {
   "cell_type": "markdown",
   "id": "44f4cc90",
   "metadata": {},
   "source": [
    "   # code targets correct part of element, but need to make repeatable.\n",
    "   #### https://intellipaat.com/community/13892/extracting-embedded-span-in-python-using-beautifulsoup\n",
    "    from bs4 import BeautifulSoup as soup\n",
    "\n",
    "    html = '''\n",
    "\n",
    "     <span class=\"\">\"\"</span>\n",
    "\n",
    "    '''\n",
    "\n",
    "    result = soup(html, 'html.parser').find('span').contents[0]\n",
    "    print(result)"
   ]
  },
  {
   "cell_type": "code",
   "execution_count": null,
   "id": "934f803a",
   "metadata": {},
   "outputs": [],
   "source": []
  },
  {
   "cell_type": "code",
   "execution_count": null,
   "id": "adb5ce9c",
   "metadata": {},
   "outputs": [],
   "source": []
  },
  {
   "cell_type": "code",
   "execution_count": null,
   "id": "029f26fb",
   "metadata": {},
   "outputs": [],
   "source": []
  },
  {
   "cell_type": "code",
   "execution_count": null,
   "id": "d0600c20",
   "metadata": {},
   "outputs": [],
   "source": [
    "# write output to csv\n",
    "with open('housing.csv', 'w', encoding='utf8', newline='') as f:\n",
    "    thewriter = writer(f)\n",
    "    header = ['Title', 'Location', 'Price', 'Area']\n",
    "    thewriter.writerow(header)"
   ]
  },
  {
   "cell_type": "code",
   "execution_count": null,
   "id": "80c4c1aa",
   "metadata": {},
   "outputs": [],
   "source": [
    "for list in lists:\n",
    "        title = list.find('a', class_=\"listing-search-item__link--title\").text.replace('\\n', '')\n",
    "        location = list.find('div', class_=\"listing-search-item__location\").text.replace('\\n', '')\n",
    "        price = list.find('span', class_=\"listing-search-item__price\").text.replace('\\n', '')\n",
    "        area = list.find('span', class_=\"illustrated-features__description\").text.replace('\\n', '')\n",
    "        \n",
    "        info = [title, location, price, area]\n",
    "        thewriter.writerow(info)"
   ]
  }
 ],
 "metadata": {
  "kernelspec": {
   "display_name": "Python 3 (ipykernel)",
   "language": "python",
   "name": "python3"
  },
  "language_info": {
   "codemirror_mode": {
    "name": "ipython",
    "version": 3
   },
   "file_extension": ".py",
   "mimetype": "text/x-python",
   "name": "python",
   "nbconvert_exporter": "python",
   "pygments_lexer": "ipython3",
   "version": "3.9.7"
  }
 },
 "nbformat": 4,
 "nbformat_minor": 5
}
