{
 "cells": [
  {
   "cell_type": "markdown",
   "metadata": {},
   "source": [
    "# Clustering Crypto"
   ]
  },
  {
   "cell_type": "code",
   "execution_count": 56,
   "metadata": {},
   "outputs": [],
   "source": [
    "# Initial imports\n",
    "import pandas as pd\n",
    "import hvplot.pandas\n",
    "#from path import Path\n",
    "from os import path\n",
    "import plotly.express as px\n",
    "from sklearn.preprocessing import StandardScaler, MinMaxScaler\n",
    "from sklearn.decomposition import PCA\n",
    "from sklearn.cluster import KMeans\n"
   ]
  },
  {
   "cell_type": "markdown",
   "metadata": {},
   "source": [
    "### Deliverable 1: Preprocessing the Data for PCA"
   ]
  },
  {
   "cell_type": "code",
   "execution_count": 76,
   "metadata": {},
   "outputs": [
    {
     "data": {
      "text/html": [
       "<div>\n",
       "<style scoped>\n",
       "    .dataframe tbody tr th:only-of-type {\n",
       "        vertical-align: middle;\n",
       "    }\n",
       "\n",
       "    .dataframe tbody tr th {\n",
       "        vertical-align: top;\n",
       "    }\n",
       "\n",
       "    .dataframe thead th {\n",
       "        text-align: right;\n",
       "    }\n",
       "</style>\n",
       "<table border=\"1\" class=\"dataframe\">\n",
       "  <thead>\n",
       "    <tr style=\"text-align: right;\">\n",
       "      <th></th>\n",
       "      <th>Date</th>\n",
       "      <th>Year</th>\n",
       "      <th>County</th>\n",
       "      <th>median_listing_price</th>\n",
       "      <th>active_listing_count</th>\n",
       "      <th>median_days_on_market</th>\n",
       "      <th>new_listing_count</th>\n",
       "      <th>price_increased_count</th>\n",
       "      <th>price_reduced_count</th>\n",
       "      <th>median_square_feet</th>\n",
       "      <th>average_listing_price</th>\n",
       "      <th>total_listing_count</th>\n",
       "      <th>violent_crime_rate</th>\n",
       "      <th>30_Year_Fixed_Rate</th>\n",
       "      <th>Number_of_Schools</th>\n",
       "      <th>median_listing_price_mm</th>\n",
       "      <th>Number_of_Parks</th>\n",
       "      <th>Price_Status</th>\n",
       "    </tr>\n",
       "  </thead>\n",
       "  <tbody>\n",
       "    <tr>\n",
       "      <th>0</th>\n",
       "      <td>2022-06</td>\n",
       "      <td>2022</td>\n",
       "      <td>Cherokee</td>\n",
       "      <td>362500.0</td>\n",
       "      <td>271.0</td>\n",
       "      <td>38.0</td>\n",
       "      <td>148.0</td>\n",
       "      <td>8.0</td>\n",
       "      <td>76.0</td>\n",
       "      <td>1904.0</td>\n",
       "      <td>407510.0</td>\n",
       "      <td>467.0</td>\n",
       "      <td>NaN</td>\n",
       "      <td>5.52</td>\n",
       "      <td>NaN</td>\n",
       "      <td>-0.052164</td>\n",
       "      <td>2.0</td>\n",
       "      <td>down</td>\n",
       "    </tr>\n",
       "    <tr>\n",
       "      <th>1</th>\n",
       "      <td>2022-06</td>\n",
       "      <td>2022</td>\n",
       "      <td>Craven</td>\n",
       "      <td>313500.0</td>\n",
       "      <td>154.0</td>\n",
       "      <td>36.0</td>\n",
       "      <td>196.0</td>\n",
       "      <td>12.0</td>\n",
       "      <td>48.0</td>\n",
       "      <td>1927.0</td>\n",
       "      <td>396716.0</td>\n",
       "      <td>581.0</td>\n",
       "      <td>NaN</td>\n",
       "      <td>5.52</td>\n",
       "      <td>NaN</td>\n",
       "      <td>0.039801</td>\n",
       "      <td>63.0</td>\n",
       "      <td>up</td>\n",
       "    </tr>\n",
       "    <tr>\n",
       "      <th>2</th>\n",
       "      <td>2022-06</td>\n",
       "      <td>2022</td>\n",
       "      <td>Catawba</td>\n",
       "      <td>342450.0</td>\n",
       "      <td>207.0</td>\n",
       "      <td>34.0</td>\n",
       "      <td>224.0</td>\n",
       "      <td>0.0</td>\n",
       "      <td>96.0</td>\n",
       "      <td>1923.0</td>\n",
       "      <td>521108.0</td>\n",
       "      <td>508.0</td>\n",
       "      <td>NaN</td>\n",
       "      <td>5.52</td>\n",
       "      <td>NaN</td>\n",
       "      <td>-0.042098</td>\n",
       "      <td>65.0</td>\n",
       "      <td>down</td>\n",
       "    </tr>\n",
       "    <tr>\n",
       "      <th>3</th>\n",
       "      <td>2022-06</td>\n",
       "      <td>2022</td>\n",
       "      <td>Gaston</td>\n",
       "      <td>330000.0</td>\n",
       "      <td>283.0</td>\n",
       "      <td>30.0</td>\n",
       "      <td>412.0</td>\n",
       "      <td>12.0</td>\n",
       "      <td>200.0</td>\n",
       "      <td>1668.0</td>\n",
       "      <td>377406.0</td>\n",
       "      <td>828.0</td>\n",
       "      <td>NaN</td>\n",
       "      <td>5.52</td>\n",
       "      <td>NaN</td>\n",
       "      <td>0.039370</td>\n",
       "      <td>99.0</td>\n",
       "      <td>up</td>\n",
       "    </tr>\n",
       "    <tr>\n",
       "      <th>4</th>\n",
       "      <td>2022-06</td>\n",
       "      <td>2022</td>\n",
       "      <td>Warren</td>\n",
       "      <td>275000.0</td>\n",
       "      <td>19.0</td>\n",
       "      <td>68.0</td>\n",
       "      <td>12.0</td>\n",
       "      <td>0.0</td>\n",
       "      <td>4.0</td>\n",
       "      <td>1824.0</td>\n",
       "      <td>419452.0</td>\n",
       "      <td>29.0</td>\n",
       "      <td>NaN</td>\n",
       "      <td>5.52</td>\n",
       "      <td>NaN</td>\n",
       "      <td>NaN</td>\n",
       "      <td>1.0</td>\n",
       "      <td>down</td>\n",
       "    </tr>\n",
       "    <tr>\n",
       "      <th>5</th>\n",
       "      <td>2022-06</td>\n",
       "      <td>2022</td>\n",
       "      <td>Lenoir</td>\n",
       "      <td>200000.0</td>\n",
       "      <td>75.0</td>\n",
       "      <td>38.0</td>\n",
       "      <td>68.0</td>\n",
       "      <td>8.0</td>\n",
       "      <td>20.0</td>\n",
       "      <td>1810.0</td>\n",
       "      <td>211563.0</td>\n",
       "      <td>143.0</td>\n",
       "      <td>NaN</td>\n",
       "      <td>5.52</td>\n",
       "      <td>NaN</td>\n",
       "      <td>0.093494</td>\n",
       "      <td>13.0</td>\n",
       "      <td>up</td>\n",
       "    </tr>\n",
       "    <tr>\n",
       "      <th>6</th>\n",
       "      <td>2022-06</td>\n",
       "      <td>2022</td>\n",
       "      <td>Lee</td>\n",
       "      <td>341450.0</td>\n",
       "      <td>93.0</td>\n",
       "      <td>19.0</td>\n",
       "      <td>128.0</td>\n",
       "      <td>0.0</td>\n",
       "      <td>24.0</td>\n",
       "      <td>2325.0</td>\n",
       "      <td>411072.0</td>\n",
       "      <td>242.0</td>\n",
       "      <td>NaN</td>\n",
       "      <td>5.52</td>\n",
       "      <td>NaN</td>\n",
       "      <td>0.054021</td>\n",
       "      <td>22.0</td>\n",
       "      <td>up</td>\n",
       "    </tr>\n",
       "    <tr>\n",
       "      <th>7</th>\n",
       "      <td>2022-06</td>\n",
       "      <td>2022</td>\n",
       "      <td>Henderson</td>\n",
       "      <td>552500.0</td>\n",
       "      <td>235.0</td>\n",
       "      <td>39.0</td>\n",
       "      <td>212.0</td>\n",
       "      <td>4.0</td>\n",
       "      <td>88.0</td>\n",
       "      <td>2167.0</td>\n",
       "      <td>862483.0</td>\n",
       "      <td>556.0</td>\n",
       "      <td>NaN</td>\n",
       "      <td>5.52</td>\n",
       "      <td>NaN</td>\n",
       "      <td>-0.022124</td>\n",
       "      <td>104.0</td>\n",
       "      <td>down</td>\n",
       "    </tr>\n",
       "    <tr>\n",
       "      <th>8</th>\n",
       "      <td>2022-06</td>\n",
       "      <td>2022</td>\n",
       "      <td>Beaufort</td>\n",
       "      <td>324450.0</td>\n",
       "      <td>77.0</td>\n",
       "      <td>39.0</td>\n",
       "      <td>60.0</td>\n",
       "      <td>0.0</td>\n",
       "      <td>24.0</td>\n",
       "      <td>1900.0</td>\n",
       "      <td>383134.0</td>\n",
       "      <td>152.0</td>\n",
       "      <td>NaN</td>\n",
       "      <td>5.52</td>\n",
       "      <td>NaN</td>\n",
       "      <td>0.081504</td>\n",
       "      <td>18.0</td>\n",
       "      <td>up</td>\n",
       "    </tr>\n",
       "    <tr>\n",
       "      <th>9</th>\n",
       "      <td>2022-06</td>\n",
       "      <td>2022</td>\n",
       "      <td>Hertford</td>\n",
       "      <td>192000.0</td>\n",
       "      <td>23.0</td>\n",
       "      <td>57.0</td>\n",
       "      <td>16.0</td>\n",
       "      <td>0.0</td>\n",
       "      <td>0.0</td>\n",
       "      <td>2052.0</td>\n",
       "      <td>245064.0</td>\n",
       "      <td>41.0</td>\n",
       "      <td>NaN</td>\n",
       "      <td>5.52</td>\n",
       "      <td>NaN</td>\n",
       "      <td>NaN</td>\n",
       "      <td>3.0</td>\n",
       "      <td>down</td>\n",
       "    </tr>\n",
       "  </tbody>\n",
       "</table>\n",
       "</div>"
      ],
      "text/plain": [
       "      Date  Year     County  median_listing_price  active_listing_count  \\\n",
       "0  2022-06  2022   Cherokee              362500.0                 271.0   \n",
       "1  2022-06  2022     Craven              313500.0                 154.0   \n",
       "2  2022-06  2022    Catawba              342450.0                 207.0   \n",
       "3  2022-06  2022     Gaston              330000.0                 283.0   \n",
       "4  2022-06  2022     Warren              275000.0                  19.0   \n",
       "5  2022-06  2022     Lenoir              200000.0                  75.0   \n",
       "6  2022-06  2022        Lee              341450.0                  93.0   \n",
       "7  2022-06  2022  Henderson              552500.0                 235.0   \n",
       "8  2022-06  2022   Beaufort              324450.0                  77.0   \n",
       "9  2022-06  2022   Hertford              192000.0                  23.0   \n",
       "\n",
       "   median_days_on_market  new_listing_count  price_increased_count  \\\n",
       "0                   38.0              148.0                    8.0   \n",
       "1                   36.0              196.0                   12.0   \n",
       "2                   34.0              224.0                    0.0   \n",
       "3                   30.0              412.0                   12.0   \n",
       "4                   68.0               12.0                    0.0   \n",
       "5                   38.0               68.0                    8.0   \n",
       "6                   19.0              128.0                    0.0   \n",
       "7                   39.0              212.0                    4.0   \n",
       "8                   39.0               60.0                    0.0   \n",
       "9                   57.0               16.0                    0.0   \n",
       "\n",
       "   price_reduced_count  median_square_feet  average_listing_price  \\\n",
       "0                 76.0              1904.0               407510.0   \n",
       "1                 48.0              1927.0               396716.0   \n",
       "2                 96.0              1923.0               521108.0   \n",
       "3                200.0              1668.0               377406.0   \n",
       "4                  4.0              1824.0               419452.0   \n",
       "5                 20.0              1810.0               211563.0   \n",
       "6                 24.0              2325.0               411072.0   \n",
       "7                 88.0              2167.0               862483.0   \n",
       "8                 24.0              1900.0               383134.0   \n",
       "9                  0.0              2052.0               245064.0   \n",
       "\n",
       "   total_listing_count violent_crime_rate  30_Year_Fixed_Rate  \\\n",
       "0                467.0                NaN                5.52   \n",
       "1                581.0                NaN                5.52   \n",
       "2                508.0                NaN                5.52   \n",
       "3                828.0                NaN                5.52   \n",
       "4                 29.0                NaN                5.52   \n",
       "5                143.0                NaN                5.52   \n",
       "6                242.0                NaN                5.52   \n",
       "7                556.0                NaN                5.52   \n",
       "8                152.0                NaN                5.52   \n",
       "9                 41.0                NaN                5.52   \n",
       "\n",
       "   Number_of_Schools  median_listing_price_mm  Number_of_Parks Price_Status  \n",
       "0                NaN                -0.052164              2.0         down  \n",
       "1                NaN                 0.039801             63.0           up  \n",
       "2                NaN                -0.042098             65.0         down  \n",
       "3                NaN                 0.039370             99.0           up  \n",
       "4                NaN                      NaN              1.0         down  \n",
       "5                NaN                 0.093494             13.0           up  \n",
       "6                NaN                 0.054021             22.0           up  \n",
       "7                NaN                -0.022124            104.0         down  \n",
       "8                NaN                 0.081504             18.0           up  \n",
       "9                NaN                      NaN              3.0         down  "
      ]
     },
     "execution_count": 76,
     "metadata": {},
     "output_type": "execute_result"
    }
   ],
   "source": [
    "# Load the crypto_data.csv dataset.\n",
    "# Load data\n",
    "re_df = pd.read_csv(r'C:\\Users\\earth\\Desktop\\class_folder\\FinalProject\\Resources\\final_table_with_conditional.csv')\n",
    "re_df.head(10)"
   ]
  },
  {
   "cell_type": "code",
   "execution_count": 77,
   "metadata": {},
   "outputs": [
    {
     "data": {
      "text/html": [
       "<div>\n",
       "<style scoped>\n",
       "    .dataframe tbody tr th:only-of-type {\n",
       "        vertical-align: middle;\n",
       "    }\n",
       "\n",
       "    .dataframe tbody tr th {\n",
       "        vertical-align: top;\n",
       "    }\n",
       "\n",
       "    .dataframe thead th {\n",
       "        text-align: right;\n",
       "    }\n",
       "</style>\n",
       "<table border=\"1\" class=\"dataframe\">\n",
       "  <thead>\n",
       "    <tr style=\"text-align: right;\">\n",
       "      <th></th>\n",
       "      <th>Date</th>\n",
       "      <th>Year</th>\n",
       "      <th>County</th>\n",
       "      <th>median_listing_price</th>\n",
       "      <th>active_listing_count</th>\n",
       "      <th>median_days_on_market</th>\n",
       "      <th>new_listing_count</th>\n",
       "      <th>price_increased_count</th>\n",
       "      <th>price_reduced_count</th>\n",
       "      <th>median_square_feet</th>\n",
       "      <th>average_listing_price</th>\n",
       "      <th>total_listing_count</th>\n",
       "      <th>violent_crime_rate</th>\n",
       "      <th>30_Year_Fixed_Rate</th>\n",
       "      <th>Number_of_Schools</th>\n",
       "      <th>median_listing_price_mm</th>\n",
       "      <th>Number_of_Parks</th>\n",
       "      <th>Price_Status</th>\n",
       "    </tr>\n",
       "  </thead>\n",
       "  <tbody>\n",
       "    <tr>\n",
       "      <th>0</th>\n",
       "      <td>2018-12</td>\n",
       "      <td>2018</td>\n",
       "      <td>Wilkes</td>\n",
       "      <td>224000.0</td>\n",
       "      <td>306.0</td>\n",
       "      <td>126.0</td>\n",
       "      <td>52.0</td>\n",
       "      <td>0.0</td>\n",
       "      <td>28.0</td>\n",
       "      <td>2174.0</td>\n",
       "      <td>352753.0</td>\n",
       "      <td>340.0</td>\n",
       "      <td>243.6</td>\n",
       "      <td>4.64</td>\n",
       "      <td>53.0</td>\n",
       "      <td>-0.025663</td>\n",
       "      <td>34.0</td>\n",
       "      <td>down</td>\n",
       "    </tr>\n",
       "    <tr>\n",
       "      <th>1</th>\n",
       "      <td>2018-12</td>\n",
       "      <td>2018</td>\n",
       "      <td>Forsyth</td>\n",
       "      <td>245000.0</td>\n",
       "      <td>1197.0</td>\n",
       "      <td>85.0</td>\n",
       "      <td>296.0</td>\n",
       "      <td>12.0</td>\n",
       "      <td>204.0</td>\n",
       "      <td>2234.0</td>\n",
       "      <td>325987.0</td>\n",
       "      <td>1445.0</td>\n",
       "      <td>660.2</td>\n",
       "      <td>4.64</td>\n",
       "      <td>354.0</td>\n",
       "      <td>-0.019608</td>\n",
       "      <td>479.0</td>\n",
       "      <td>down</td>\n",
       "    </tr>\n",
       "    <tr>\n",
       "      <th>2</th>\n",
       "      <td>2018-12</td>\n",
       "      <td>2018</td>\n",
       "      <td>Surry</td>\n",
       "      <td>179900.0</td>\n",
       "      <td>145.0</td>\n",
       "      <td>114.0</td>\n",
       "      <td>28.0</td>\n",
       "      <td>0.0</td>\n",
       "      <td>24.0</td>\n",
       "      <td>1987.0</td>\n",
       "      <td>235683.0</td>\n",
       "      <td>176.0</td>\n",
       "      <td>89</td>\n",
       "      <td>4.64</td>\n",
       "      <td>45.0</td>\n",
       "      <td>-0.024403</td>\n",
       "      <td>13.0</td>\n",
       "      <td>down</td>\n",
       "    </tr>\n",
       "    <tr>\n",
       "      <th>3</th>\n",
       "      <td>2018-12</td>\n",
       "      <td>2018</td>\n",
       "      <td>Cherokee</td>\n",
       "      <td>199000.0</td>\n",
       "      <td>545.0</td>\n",
       "      <td>132.0</td>\n",
       "      <td>48.0</td>\n",
       "      <td>0.0</td>\n",
       "      <td>52.0</td>\n",
       "      <td>1708.0</td>\n",
       "      <td>264228.0</td>\n",
       "      <td>547.0</td>\n",
       "      <td>272.1</td>\n",
       "      <td>4.64</td>\n",
       "      <td>26.0</td>\n",
       "      <td>-0.004502</td>\n",
       "      <td>2.0</td>\n",
       "      <td>down</td>\n",
       "    </tr>\n",
       "    <tr>\n",
       "      <th>4</th>\n",
       "      <td>2018-12</td>\n",
       "      <td>2018</td>\n",
       "      <td>Orange</td>\n",
       "      <td>400000.0</td>\n",
       "      <td>364.0</td>\n",
       "      <td>105.0</td>\n",
       "      <td>80.0</td>\n",
       "      <td>0.0</td>\n",
       "      <td>56.0</td>\n",
       "      <td>2350.0</td>\n",
       "      <td>520135.0</td>\n",
       "      <td>445.0</td>\n",
       "      <td>153.6</td>\n",
       "      <td>4.64</td>\n",
       "      <td>117.0</td>\n",
       "      <td>-0.024390</td>\n",
       "      <td>126.0</td>\n",
       "      <td>down</td>\n",
       "    </tr>\n",
       "  </tbody>\n",
       "</table>\n",
       "</div>"
      ],
      "text/plain": [
       "      Date  Year    County  median_listing_price  active_listing_count  \\\n",
       "0  2018-12  2018    Wilkes              224000.0                 306.0   \n",
       "1  2018-12  2018   Forsyth              245000.0                1197.0   \n",
       "2  2018-12  2018     Surry              179900.0                 145.0   \n",
       "3  2018-12  2018  Cherokee              199000.0                 545.0   \n",
       "4  2018-12  2018    Orange              400000.0                 364.0   \n",
       "\n",
       "   median_days_on_market  new_listing_count  price_increased_count  \\\n",
       "0                  126.0               52.0                    0.0   \n",
       "1                   85.0              296.0                   12.0   \n",
       "2                  114.0               28.0                    0.0   \n",
       "3                  132.0               48.0                    0.0   \n",
       "4                  105.0               80.0                    0.0   \n",
       "\n",
       "   price_reduced_count  median_square_feet  average_listing_price  \\\n",
       "0                 28.0              2174.0               352753.0   \n",
       "1                204.0              2234.0               325987.0   \n",
       "2                 24.0              1987.0               235683.0   \n",
       "3                 52.0              1708.0               264228.0   \n",
       "4                 56.0              2350.0               520135.0   \n",
       "\n",
       "   total_listing_count violent_crime_rate  30_Year_Fixed_Rate  \\\n",
       "0                340.0              243.6                4.64   \n",
       "1               1445.0              660.2                4.64   \n",
       "2                176.0                 89                4.64   \n",
       "3                547.0              272.1                4.64   \n",
       "4                445.0              153.6                4.64   \n",
       "\n",
       "   Number_of_Schools  median_listing_price_mm  Number_of_Parks Price_Status  \n",
       "0               53.0                -0.025663             34.0         down  \n",
       "1              354.0                -0.019608            479.0         down  \n",
       "2               45.0                -0.024403             13.0         down  \n",
       "3               26.0                -0.004502              2.0         down  \n",
       "4              117.0                -0.024390            126.0         down  "
      ]
     },
     "execution_count": 77,
     "metadata": {},
     "output_type": "execute_result"
    }
   ],
   "source": [
    "# Load the data\n",
    "columns = [\n",
    "    \"Date\", \"Year\", \"County\", \"median_listing_price\",\n",
    "    \"active_listing_count\", \"median_days_on_market\", \"new_listing_count\",\n",
    "    \"price_increased_count\", \"price_reduced_count\", \"median_square_feet\",\n",
    "    \"average_listing_price\", \"total_listing_count\", \"violent_crime_rate\",\n",
    "    \"30_Year_Fixed_Rate\", \"Number_of_Schools\", \"median_listing_price_mm\",\n",
    "    \"Number_of_Parks\", \"Price_Status\"]\n",
    "\n",
    "df = re_df.loc[:, columns].copy()\n",
    "\n",
    "\n",
    "# Drop the null rows\n",
    "df = re_df.dropna()\n",
    "\n",
    "\n",
    "\n",
    "\n",
    "df.reset_index(inplace=True, drop=True)\n",
    "\n",
    "df.head()"
   ]
  },
  {
   "cell_type": "code",
   "execution_count": 78,
   "metadata": {},
   "outputs": [
    {
     "data": {
      "text/plain": [
       "7196"
      ]
     },
     "execution_count": 78,
     "metadata": {},
     "output_type": "execute_result"
    }
   ],
   "source": [
    "# Create a new DataFrame that holds only the county names.\n",
    "re_name_df = re_df[[\"County\"]]\n",
    "re_name_df.head()\n",
    "len(re_name_df)"
   ]
  },
  {
   "cell_type": "code",
   "execution_count": 79,
   "metadata": {},
   "outputs": [
    {
     "name": "stderr",
     "output_type": "stream",
     "text": [
      "C:\\Users\\earth\\anaconda3\\envs\\mlenv\\lib\\site-packages\\pandas\\core\\frame.py:4913: SettingWithCopyWarning: \n",
      "A value is trying to be set on a copy of a slice from a DataFrame\n",
      "\n",
      "See the caveats in the documentation: https://pandas.pydata.org/pandas-docs/stable/user_guide/indexing.html#returning-a-view-versus-a-copy\n",
      "  errors=errors,\n"
     ]
    },
    {
     "data": {
      "text/html": [
       "<div>\n",
       "<style scoped>\n",
       "    .dataframe tbody tr th:only-of-type {\n",
       "        vertical-align: middle;\n",
       "    }\n",
       "\n",
       "    .dataframe tbody tr th {\n",
       "        vertical-align: top;\n",
       "    }\n",
       "\n",
       "    .dataframe thead th {\n",
       "        text-align: right;\n",
       "    }\n",
       "</style>\n",
       "<table border=\"1\" class=\"dataframe\">\n",
       "  <thead>\n",
       "    <tr style=\"text-align: right;\">\n",
       "      <th></th>\n",
       "      <th>Year</th>\n",
       "      <th>median_listing_price</th>\n",
       "      <th>active_listing_count</th>\n",
       "      <th>median_days_on_market</th>\n",
       "      <th>new_listing_count</th>\n",
       "      <th>price_increased_count</th>\n",
       "      <th>price_reduced_count</th>\n",
       "      <th>median_square_feet</th>\n",
       "      <th>average_listing_price</th>\n",
       "      <th>total_listing_count</th>\n",
       "      <th>violent_crime_rate</th>\n",
       "      <th>30_Year_Fixed_Rate</th>\n",
       "      <th>Number_of_Schools</th>\n",
       "      <th>median_listing_price_mm</th>\n",
       "      <th>Number_of_Parks</th>\n",
       "    </tr>\n",
       "  </thead>\n",
       "  <tbody>\n",
       "    <tr>\n",
       "      <th>0</th>\n",
       "      <td>2018</td>\n",
       "      <td>224000.0</td>\n",
       "      <td>306.0</td>\n",
       "      <td>126.0</td>\n",
       "      <td>52.0</td>\n",
       "      <td>0.0</td>\n",
       "      <td>28.0</td>\n",
       "      <td>2174.0</td>\n",
       "      <td>352753.0</td>\n",
       "      <td>340.0</td>\n",
       "      <td>243.6</td>\n",
       "      <td>4.64</td>\n",
       "      <td>53.0</td>\n",
       "      <td>-0.025663</td>\n",
       "      <td>34.0</td>\n",
       "    </tr>\n",
       "    <tr>\n",
       "      <th>1</th>\n",
       "      <td>2018</td>\n",
       "      <td>245000.0</td>\n",
       "      <td>1197.0</td>\n",
       "      <td>85.0</td>\n",
       "      <td>296.0</td>\n",
       "      <td>12.0</td>\n",
       "      <td>204.0</td>\n",
       "      <td>2234.0</td>\n",
       "      <td>325987.0</td>\n",
       "      <td>1445.0</td>\n",
       "      <td>660.2</td>\n",
       "      <td>4.64</td>\n",
       "      <td>354.0</td>\n",
       "      <td>-0.019608</td>\n",
       "      <td>479.0</td>\n",
       "    </tr>\n",
       "    <tr>\n",
       "      <th>2</th>\n",
       "      <td>2018</td>\n",
       "      <td>179900.0</td>\n",
       "      <td>145.0</td>\n",
       "      <td>114.0</td>\n",
       "      <td>28.0</td>\n",
       "      <td>0.0</td>\n",
       "      <td>24.0</td>\n",
       "      <td>1987.0</td>\n",
       "      <td>235683.0</td>\n",
       "      <td>176.0</td>\n",
       "      <td>89</td>\n",
       "      <td>4.64</td>\n",
       "      <td>45.0</td>\n",
       "      <td>-0.024403</td>\n",
       "      <td>13.0</td>\n",
       "    </tr>\n",
       "    <tr>\n",
       "      <th>3</th>\n",
       "      <td>2018</td>\n",
       "      <td>199000.0</td>\n",
       "      <td>545.0</td>\n",
       "      <td>132.0</td>\n",
       "      <td>48.0</td>\n",
       "      <td>0.0</td>\n",
       "      <td>52.0</td>\n",
       "      <td>1708.0</td>\n",
       "      <td>264228.0</td>\n",
       "      <td>547.0</td>\n",
       "      <td>272.1</td>\n",
       "      <td>4.64</td>\n",
       "      <td>26.0</td>\n",
       "      <td>-0.004502</td>\n",
       "      <td>2.0</td>\n",
       "    </tr>\n",
       "    <tr>\n",
       "      <th>4</th>\n",
       "      <td>2018</td>\n",
       "      <td>400000.0</td>\n",
       "      <td>364.0</td>\n",
       "      <td>105.0</td>\n",
       "      <td>80.0</td>\n",
       "      <td>0.0</td>\n",
       "      <td>56.0</td>\n",
       "      <td>2350.0</td>\n",
       "      <td>520135.0</td>\n",
       "      <td>445.0</td>\n",
       "      <td>153.6</td>\n",
       "      <td>4.64</td>\n",
       "      <td>117.0</td>\n",
       "      <td>-0.024390</td>\n",
       "      <td>126.0</td>\n",
       "    </tr>\n",
       "    <tr>\n",
       "      <th>5</th>\n",
       "      <td>2018</td>\n",
       "      <td>192000.0</td>\n",
       "      <td>34.0</td>\n",
       "      <td>127.0</td>\n",
       "      <td>8.0</td>\n",
       "      <td>0.0</td>\n",
       "      <td>4.0</td>\n",
       "      <td>1786.0</td>\n",
       "      <td>207534.0</td>\n",
       "      <td>39.0</td>\n",
       "      <td>203.6</td>\n",
       "      <td>4.64</td>\n",
       "      <td>20.0</td>\n",
       "      <td>-0.038558</td>\n",
       "      <td>10.0</td>\n",
       "    </tr>\n",
       "    <tr>\n",
       "      <th>6</th>\n",
       "      <td>2018</td>\n",
       "      <td>439000.0</td>\n",
       "      <td>418.0</td>\n",
       "      <td>162.0</td>\n",
       "      <td>20.0</td>\n",
       "      <td>4.0</td>\n",
       "      <td>52.0</td>\n",
       "      <td>2265.0</td>\n",
       "      <td>644197.0</td>\n",
       "      <td>479.0</td>\n",
       "      <td>141.7</td>\n",
       "      <td>4.64</td>\n",
       "      <td>17.0</td>\n",
       "      <td>0.023310</td>\n",
       "      <td>17.0</td>\n",
       "    </tr>\n",
       "    <tr>\n",
       "      <th>7</th>\n",
       "      <td>2018</td>\n",
       "      <td>299990.0</td>\n",
       "      <td>689.0</td>\n",
       "      <td>60.0</td>\n",
       "      <td>216.0</td>\n",
       "      <td>68.0</td>\n",
       "      <td>248.0</td>\n",
       "      <td>2410.0</td>\n",
       "      <td>334948.0</td>\n",
       "      <td>904.0</td>\n",
       "      <td>127.1</td>\n",
       "      <td>4.64</td>\n",
       "      <td>165.0</td>\n",
       "      <td>-0.008298</td>\n",
       "      <td>120.0</td>\n",
       "    </tr>\n",
       "    <tr>\n",
       "      <th>8</th>\n",
       "      <td>2018</td>\n",
       "      <td>147000.0</td>\n",
       "      <td>124.0</td>\n",
       "      <td>103.0</td>\n",
       "      <td>20.0</td>\n",
       "      <td>0.0</td>\n",
       "      <td>16.0</td>\n",
       "      <td>1750.0</td>\n",
       "      <td>241071.0</td>\n",
       "      <td>132.0</td>\n",
       "      <td>479.4</td>\n",
       "      <td>4.64</td>\n",
       "      <td>32.0</td>\n",
       "      <td>-0.080675</td>\n",
       "      <td>15.0</td>\n",
       "    </tr>\n",
       "    <tr>\n",
       "      <th>9</th>\n",
       "      <td>2018</td>\n",
       "      <td>159000.0</td>\n",
       "      <td>2055.0</td>\n",
       "      <td>208.0</td>\n",
       "      <td>96.0</td>\n",
       "      <td>8.0</td>\n",
       "      <td>200.0</td>\n",
       "      <td>2059.0</td>\n",
       "      <td>313020.0</td>\n",
       "      <td>2253.0</td>\n",
       "      <td>62.2</td>\n",
       "      <td>4.64</td>\n",
       "      <td>40.0</td>\n",
       "      <td>-0.036072</td>\n",
       "      <td>44.0</td>\n",
       "    </tr>\n",
       "  </tbody>\n",
       "</table>\n",
       "</div>"
      ],
      "text/plain": [
       "   Year  median_listing_price  active_listing_count  median_days_on_market  \\\n",
       "0  2018              224000.0                 306.0                  126.0   \n",
       "1  2018              245000.0                1197.0                   85.0   \n",
       "2  2018              179900.0                 145.0                  114.0   \n",
       "3  2018              199000.0                 545.0                  132.0   \n",
       "4  2018              400000.0                 364.0                  105.0   \n",
       "5  2018              192000.0                  34.0                  127.0   \n",
       "6  2018              439000.0                 418.0                  162.0   \n",
       "7  2018              299990.0                 689.0                   60.0   \n",
       "8  2018              147000.0                 124.0                  103.0   \n",
       "9  2018              159000.0                2055.0                  208.0   \n",
       "\n",
       "   new_listing_count  price_increased_count  price_reduced_count  \\\n",
       "0               52.0                    0.0                 28.0   \n",
       "1              296.0                   12.0                204.0   \n",
       "2               28.0                    0.0                 24.0   \n",
       "3               48.0                    0.0                 52.0   \n",
       "4               80.0                    0.0                 56.0   \n",
       "5                8.0                    0.0                  4.0   \n",
       "6               20.0                    4.0                 52.0   \n",
       "7              216.0                   68.0                248.0   \n",
       "8               20.0                    0.0                 16.0   \n",
       "9               96.0                    8.0                200.0   \n",
       "\n",
       "   median_square_feet  average_listing_price  total_listing_count  \\\n",
       "0              2174.0               352753.0                340.0   \n",
       "1              2234.0               325987.0               1445.0   \n",
       "2              1987.0               235683.0                176.0   \n",
       "3              1708.0               264228.0                547.0   \n",
       "4              2350.0               520135.0                445.0   \n",
       "5              1786.0               207534.0                 39.0   \n",
       "6              2265.0               644197.0                479.0   \n",
       "7              2410.0               334948.0                904.0   \n",
       "8              1750.0               241071.0                132.0   \n",
       "9              2059.0               313020.0               2253.0   \n",
       "\n",
       "  violent_crime_rate  30_Year_Fixed_Rate  Number_of_Schools  \\\n",
       "0              243.6                4.64               53.0   \n",
       "1              660.2                4.64              354.0   \n",
       "2                 89                4.64               45.0   \n",
       "3              272.1                4.64               26.0   \n",
       "4              153.6                4.64              117.0   \n",
       "5              203.6                4.64               20.0   \n",
       "6              141.7                4.64               17.0   \n",
       "7              127.1                4.64              165.0   \n",
       "8              479.4                4.64               32.0   \n",
       "9               62.2                4.64               40.0   \n",
       "\n",
       "   median_listing_price_mm  Number_of_Parks  \n",
       "0                -0.025663             34.0  \n",
       "1                -0.019608            479.0  \n",
       "2                -0.024403             13.0  \n",
       "3                -0.004502              2.0  \n",
       "4                -0.024390            126.0  \n",
       "5                -0.038558             10.0  \n",
       "6                 0.023310             17.0  \n",
       "7                -0.008298            120.0  \n",
       "8                -0.080675             15.0  \n",
       "9                -0.036072             44.0  "
      ]
     },
     "execution_count": 79,
     "metadata": {},
     "output_type": "execute_result"
    }
   ],
   "source": [
    "# Drop the 'CoinName' column since it's not going to be used on the clustering algorithm.\n",
    "df.drop(columns=[\"County\", \"Date\", \"Price_Status\"], inplace=True)\n",
    "df.head(10)"
   ]
  },
  {
   "cell_type": "code",
   "execution_count": 80,
   "metadata": {},
   "outputs": [
    {
     "data": {
      "text/html": [
       "<div>\n",
       "<style scoped>\n",
       "    .dataframe tbody tr th:only-of-type {\n",
       "        vertical-align: middle;\n",
       "    }\n",
       "\n",
       "    .dataframe tbody tr th {\n",
       "        vertical-align: top;\n",
       "    }\n",
       "\n",
       "    .dataframe thead th {\n",
       "        text-align: right;\n",
       "    }\n",
       "</style>\n",
       "<table border=\"1\" class=\"dataframe\">\n",
       "  <thead>\n",
       "    <tr style=\"text-align: right;\">\n",
       "      <th></th>\n",
       "      <th>Year</th>\n",
       "      <th>active_listing_count</th>\n",
       "      <th>median_days_on_market</th>\n",
       "      <th>new_listing_count</th>\n",
       "      <th>price_increased_count</th>\n",
       "      <th>price_reduced_count</th>\n",
       "      <th>median_square_feet</th>\n",
       "      <th>average_listing_price</th>\n",
       "      <th>total_listing_count</th>\n",
       "      <th>violent_crime_rate</th>\n",
       "      <th>...</th>\n",
       "      <th>median_listing_price_425000.0</th>\n",
       "      <th>median_listing_price_428903.0</th>\n",
       "      <th>median_listing_price_429000.0</th>\n",
       "      <th>median_listing_price_431950.0</th>\n",
       "      <th>median_listing_price_434900.0</th>\n",
       "      <th>median_listing_price_439000.0</th>\n",
       "      <th>median_listing_price_539900.0</th>\n",
       "      <th>median_listing_price_544400.0</th>\n",
       "      <th>median_listing_price_547000.0</th>\n",
       "      <th>median_listing_price_549000.0</th>\n",
       "    </tr>\n",
       "  </thead>\n",
       "  <tbody>\n",
       "    <tr>\n",
       "      <th>0</th>\n",
       "      <td>2018</td>\n",
       "      <td>306.0</td>\n",
       "      <td>126.0</td>\n",
       "      <td>52.0</td>\n",
       "      <td>0.0</td>\n",
       "      <td>28.0</td>\n",
       "      <td>2174.0</td>\n",
       "      <td>352753.0</td>\n",
       "      <td>340.0</td>\n",
       "      <td>243.6</td>\n",
       "      <td>...</td>\n",
       "      <td>0</td>\n",
       "      <td>0</td>\n",
       "      <td>0</td>\n",
       "      <td>0</td>\n",
       "      <td>0</td>\n",
       "      <td>0</td>\n",
       "      <td>0</td>\n",
       "      <td>0</td>\n",
       "      <td>0</td>\n",
       "      <td>0</td>\n",
       "    </tr>\n",
       "    <tr>\n",
       "      <th>1</th>\n",
       "      <td>2018</td>\n",
       "      <td>1197.0</td>\n",
       "      <td>85.0</td>\n",
       "      <td>296.0</td>\n",
       "      <td>12.0</td>\n",
       "      <td>204.0</td>\n",
       "      <td>2234.0</td>\n",
       "      <td>325987.0</td>\n",
       "      <td>1445.0</td>\n",
       "      <td>660.2</td>\n",
       "      <td>...</td>\n",
       "      <td>0</td>\n",
       "      <td>0</td>\n",
       "      <td>0</td>\n",
       "      <td>0</td>\n",
       "      <td>0</td>\n",
       "      <td>0</td>\n",
       "      <td>0</td>\n",
       "      <td>0</td>\n",
       "      <td>0</td>\n",
       "      <td>0</td>\n",
       "    </tr>\n",
       "    <tr>\n",
       "      <th>2</th>\n",
       "      <td>2018</td>\n",
       "      <td>145.0</td>\n",
       "      <td>114.0</td>\n",
       "      <td>28.0</td>\n",
       "      <td>0.0</td>\n",
       "      <td>24.0</td>\n",
       "      <td>1987.0</td>\n",
       "      <td>235683.0</td>\n",
       "      <td>176.0</td>\n",
       "      <td>89</td>\n",
       "      <td>...</td>\n",
       "      <td>0</td>\n",
       "      <td>0</td>\n",
       "      <td>0</td>\n",
       "      <td>0</td>\n",
       "      <td>0</td>\n",
       "      <td>0</td>\n",
       "      <td>0</td>\n",
       "      <td>0</td>\n",
       "      <td>0</td>\n",
       "      <td>0</td>\n",
       "    </tr>\n",
       "    <tr>\n",
       "      <th>3</th>\n",
       "      <td>2018</td>\n",
       "      <td>545.0</td>\n",
       "      <td>132.0</td>\n",
       "      <td>48.0</td>\n",
       "      <td>0.0</td>\n",
       "      <td>52.0</td>\n",
       "      <td>1708.0</td>\n",
       "      <td>264228.0</td>\n",
       "      <td>547.0</td>\n",
       "      <td>272.1</td>\n",
       "      <td>...</td>\n",
       "      <td>0</td>\n",
       "      <td>0</td>\n",
       "      <td>0</td>\n",
       "      <td>0</td>\n",
       "      <td>0</td>\n",
       "      <td>0</td>\n",
       "      <td>0</td>\n",
       "      <td>0</td>\n",
       "      <td>0</td>\n",
       "      <td>0</td>\n",
       "    </tr>\n",
       "    <tr>\n",
       "      <th>4</th>\n",
       "      <td>2018</td>\n",
       "      <td>364.0</td>\n",
       "      <td>105.0</td>\n",
       "      <td>80.0</td>\n",
       "      <td>0.0</td>\n",
       "      <td>56.0</td>\n",
       "      <td>2350.0</td>\n",
       "      <td>520135.0</td>\n",
       "      <td>445.0</td>\n",
       "      <td>153.6</td>\n",
       "      <td>...</td>\n",
       "      <td>0</td>\n",
       "      <td>0</td>\n",
       "      <td>0</td>\n",
       "      <td>0</td>\n",
       "      <td>0</td>\n",
       "      <td>0</td>\n",
       "      <td>0</td>\n",
       "      <td>0</td>\n",
       "      <td>0</td>\n",
       "      <td>0</td>\n",
       "    </tr>\n",
       "    <tr>\n",
       "      <th>5</th>\n",
       "      <td>2018</td>\n",
       "      <td>34.0</td>\n",
       "      <td>127.0</td>\n",
       "      <td>8.0</td>\n",
       "      <td>0.0</td>\n",
       "      <td>4.0</td>\n",
       "      <td>1786.0</td>\n",
       "      <td>207534.0</td>\n",
       "      <td>39.0</td>\n",
       "      <td>203.6</td>\n",
       "      <td>...</td>\n",
       "      <td>0</td>\n",
       "      <td>0</td>\n",
       "      <td>0</td>\n",
       "      <td>0</td>\n",
       "      <td>0</td>\n",
       "      <td>0</td>\n",
       "      <td>0</td>\n",
       "      <td>0</td>\n",
       "      <td>0</td>\n",
       "      <td>0</td>\n",
       "    </tr>\n",
       "    <tr>\n",
       "      <th>6</th>\n",
       "      <td>2018</td>\n",
       "      <td>418.0</td>\n",
       "      <td>162.0</td>\n",
       "      <td>20.0</td>\n",
       "      <td>4.0</td>\n",
       "      <td>52.0</td>\n",
       "      <td>2265.0</td>\n",
       "      <td>644197.0</td>\n",
       "      <td>479.0</td>\n",
       "      <td>141.7</td>\n",
       "      <td>...</td>\n",
       "      <td>0</td>\n",
       "      <td>0</td>\n",
       "      <td>0</td>\n",
       "      <td>0</td>\n",
       "      <td>0</td>\n",
       "      <td>1</td>\n",
       "      <td>0</td>\n",
       "      <td>0</td>\n",
       "      <td>0</td>\n",
       "      <td>0</td>\n",
       "    </tr>\n",
       "    <tr>\n",
       "      <th>7</th>\n",
       "      <td>2018</td>\n",
       "      <td>689.0</td>\n",
       "      <td>60.0</td>\n",
       "      <td>216.0</td>\n",
       "      <td>68.0</td>\n",
       "      <td>248.0</td>\n",
       "      <td>2410.0</td>\n",
       "      <td>334948.0</td>\n",
       "      <td>904.0</td>\n",
       "      <td>127.1</td>\n",
       "      <td>...</td>\n",
       "      <td>0</td>\n",
       "      <td>0</td>\n",
       "      <td>0</td>\n",
       "      <td>0</td>\n",
       "      <td>0</td>\n",
       "      <td>0</td>\n",
       "      <td>0</td>\n",
       "      <td>0</td>\n",
       "      <td>0</td>\n",
       "      <td>0</td>\n",
       "    </tr>\n",
       "    <tr>\n",
       "      <th>8</th>\n",
       "      <td>2018</td>\n",
       "      <td>124.0</td>\n",
       "      <td>103.0</td>\n",
       "      <td>20.0</td>\n",
       "      <td>0.0</td>\n",
       "      <td>16.0</td>\n",
       "      <td>1750.0</td>\n",
       "      <td>241071.0</td>\n",
       "      <td>132.0</td>\n",
       "      <td>479.4</td>\n",
       "      <td>...</td>\n",
       "      <td>0</td>\n",
       "      <td>0</td>\n",
       "      <td>0</td>\n",
       "      <td>0</td>\n",
       "      <td>0</td>\n",
       "      <td>0</td>\n",
       "      <td>0</td>\n",
       "      <td>0</td>\n",
       "      <td>0</td>\n",
       "      <td>0</td>\n",
       "    </tr>\n",
       "    <tr>\n",
       "      <th>9</th>\n",
       "      <td>2018</td>\n",
       "      <td>2055.0</td>\n",
       "      <td>208.0</td>\n",
       "      <td>96.0</td>\n",
       "      <td>8.0</td>\n",
       "      <td>200.0</td>\n",
       "      <td>2059.0</td>\n",
       "      <td>313020.0</td>\n",
       "      <td>2253.0</td>\n",
       "      <td>62.2</td>\n",
       "      <td>...</td>\n",
       "      <td>0</td>\n",
       "      <td>0</td>\n",
       "      <td>0</td>\n",
       "      <td>0</td>\n",
       "      <td>0</td>\n",
       "      <td>0</td>\n",
       "      <td>0</td>\n",
       "      <td>0</td>\n",
       "      <td>0</td>\n",
       "      <td>0</td>\n",
       "    </tr>\n",
       "  </tbody>\n",
       "</table>\n",
       "<p>10 rows × 265 columns</p>\n",
       "</div>"
      ],
      "text/plain": [
       "   Year  active_listing_count  median_days_on_market  new_listing_count  \\\n",
       "0  2018                 306.0                  126.0               52.0   \n",
       "1  2018                1197.0                   85.0              296.0   \n",
       "2  2018                 145.0                  114.0               28.0   \n",
       "3  2018                 545.0                  132.0               48.0   \n",
       "4  2018                 364.0                  105.0               80.0   \n",
       "5  2018                  34.0                  127.0                8.0   \n",
       "6  2018                 418.0                  162.0               20.0   \n",
       "7  2018                 689.0                   60.0              216.0   \n",
       "8  2018                 124.0                  103.0               20.0   \n",
       "9  2018                2055.0                  208.0               96.0   \n",
       "\n",
       "   price_increased_count  price_reduced_count  median_square_feet  \\\n",
       "0                    0.0                 28.0              2174.0   \n",
       "1                   12.0                204.0              2234.0   \n",
       "2                    0.0                 24.0              1987.0   \n",
       "3                    0.0                 52.0              1708.0   \n",
       "4                    0.0                 56.0              2350.0   \n",
       "5                    0.0                  4.0              1786.0   \n",
       "6                    4.0                 52.0              2265.0   \n",
       "7                   68.0                248.0              2410.0   \n",
       "8                    0.0                 16.0              1750.0   \n",
       "9                    8.0                200.0              2059.0   \n",
       "\n",
       "   average_listing_price  total_listing_count violent_crime_rate  ...  \\\n",
       "0               352753.0                340.0              243.6  ...   \n",
       "1               325987.0               1445.0              660.2  ...   \n",
       "2               235683.0                176.0                 89  ...   \n",
       "3               264228.0                547.0              272.1  ...   \n",
       "4               520135.0                445.0              153.6  ...   \n",
       "5               207534.0                 39.0              203.6  ...   \n",
       "6               644197.0                479.0              141.7  ...   \n",
       "7               334948.0                904.0              127.1  ...   \n",
       "8               241071.0                132.0              479.4  ...   \n",
       "9               313020.0               2253.0               62.2  ...   \n",
       "\n",
       "   median_listing_price_425000.0  median_listing_price_428903.0  \\\n",
       "0                              0                              0   \n",
       "1                              0                              0   \n",
       "2                              0                              0   \n",
       "3                              0                              0   \n",
       "4                              0                              0   \n",
       "5                              0                              0   \n",
       "6                              0                              0   \n",
       "7                              0                              0   \n",
       "8                              0                              0   \n",
       "9                              0                              0   \n",
       "\n",
       "   median_listing_price_429000.0  median_listing_price_431950.0  \\\n",
       "0                              0                              0   \n",
       "1                              0                              0   \n",
       "2                              0                              0   \n",
       "3                              0                              0   \n",
       "4                              0                              0   \n",
       "5                              0                              0   \n",
       "6                              0                              0   \n",
       "7                              0                              0   \n",
       "8                              0                              0   \n",
       "9                              0                              0   \n",
       "\n",
       "   median_listing_price_434900.0  median_listing_price_439000.0  \\\n",
       "0                              0                              0   \n",
       "1                              0                              0   \n",
       "2                              0                              0   \n",
       "3                              0                              0   \n",
       "4                              0                              0   \n",
       "5                              0                              0   \n",
       "6                              0                              1   \n",
       "7                              0                              0   \n",
       "8                              0                              0   \n",
       "9                              0                              0   \n",
       "\n",
       "   median_listing_price_539900.0  median_listing_price_544400.0  \\\n",
       "0                              0                              0   \n",
       "1                              0                              0   \n",
       "2                              0                              0   \n",
       "3                              0                              0   \n",
       "4                              0                              0   \n",
       "5                              0                              0   \n",
       "6                              0                              0   \n",
       "7                              0                              0   \n",
       "8                              0                              0   \n",
       "9                              0                              0   \n",
       "\n",
       "   median_listing_price_547000.0  median_listing_price_549000.0  \n",
       "0                              0                              0  \n",
       "1                              0                              0  \n",
       "2                              0                              0  \n",
       "3                              0                              0  \n",
       "4                              0                              0  \n",
       "5                              0                              0  \n",
       "6                              0                              0  \n",
       "7                              0                              0  \n",
       "8                              0                              0  \n",
       "9                              0                              0  \n",
       "\n",
       "[10 rows x 265 columns]"
      ]
     },
     "execution_count": 80,
     "metadata": {},
     "output_type": "execute_result"
    }
   ],
   "source": [
    "# Use get_dummies() to create variables for text features.\n",
    "x = pd.get_dummies(df, columns=[\"median_listing_price\"])\n",
    "x.head(10)"
   ]
  },
  {
   "cell_type": "code",
   "execution_count": 81,
   "metadata": {},
   "outputs": [
    {
     "data": {
      "text/plain": [
       "array([[ 0.        , -0.46644102,  1.07565151, ..., -0.05471757,\n",
       "        -0.05471757, -0.07749843],\n",
       "       [ 0.        ,  0.78688434, -0.42501619, ..., -0.05471757,\n",
       "        -0.05471757, -0.07749843],\n",
       "       [ 0.        , -0.69291171,  0.6364317 , ..., -0.05471757,\n",
       "        -0.05471757, -0.07749843],\n",
       "       ...,\n",
       "       [ 0.        ,  0.09903238, -0.7910327 , ..., -0.05471757,\n",
       "        -0.05471757, -0.07749843],\n",
       "       [ 0.        , -0.79278388,  0.6364317 , ..., -0.05471757,\n",
       "        -0.05471757, -0.07749843],\n",
       "       [ 0.        ,  0.530874  ,  0.67303335, ..., -0.05471757,\n",
       "        -0.05471757, -0.07749843]])"
      ]
     },
     "execution_count": 81,
     "metadata": {},
     "output_type": "execute_result"
    }
   ],
   "source": [
    "# Standardize the data with StandardScaler().\n",
    "re_scaled = StandardScaler().fit_transform(x)\n",
    "re_scaled"
   ]
  },
  {
   "cell_type": "markdown",
   "metadata": {},
   "source": [
    "### Deliverable 2: Reducing Data Dimensions Using PCA"
   ]
  },
  {
   "cell_type": "code",
   "execution_count": 82,
   "metadata": {},
   "outputs": [
    {
     "data": {
      "text/plain": [
       "array([[-1.30377533,  0.91721428,  0.66724973],\n",
       "       [ 2.11385958, -1.42994833,  0.19041385],\n",
       "       [-1.739669  ,  0.01266625,  0.1627845 ],\n",
       "       ...,\n",
       "       [ 0.13798098, -0.67439071, -1.50718118],\n",
       "       [-1.80188101, -2.30540534,  0.40246723],\n",
       "       [-0.01544627,  2.43431305,  0.49486072]])"
      ]
     },
     "execution_count": 82,
     "metadata": {},
     "output_type": "execute_result"
    }
   ],
   "source": [
    "# Using PCA to reduce dimension to three principal components.\n",
    "pca = PCA(n_components=3)\n",
    "re_pca = pca.fit_transform(re_scaled)\n",
    "re_pca"
   ]
  },
  {
   "cell_type": "code",
   "execution_count": 83,
   "metadata": {},
   "outputs": [
    {
     "data": {
      "text/html": [
       "<div>\n",
       "<style scoped>\n",
       "    .dataframe tbody tr th:only-of-type {\n",
       "        vertical-align: middle;\n",
       "    }\n",
       "\n",
       "    .dataframe tbody tr th {\n",
       "        vertical-align: top;\n",
       "    }\n",
       "\n",
       "    .dataframe thead th {\n",
       "        text-align: right;\n",
       "    }\n",
       "</style>\n",
       "<table border=\"1\" class=\"dataframe\">\n",
       "  <thead>\n",
       "    <tr style=\"text-align: right;\">\n",
       "      <th></th>\n",
       "      <th>PC 1</th>\n",
       "      <th>PC 2</th>\n",
       "      <th>PC 3</th>\n",
       "    </tr>\n",
       "  </thead>\n",
       "  <tbody>\n",
       "    <tr>\n",
       "      <th>0</th>\n",
       "      <td>-1.303775</td>\n",
       "      <td>0.917214</td>\n",
       "      <td>0.667250</td>\n",
       "    </tr>\n",
       "    <tr>\n",
       "      <th>1</th>\n",
       "      <td>2.113860</td>\n",
       "      <td>-1.429948</td>\n",
       "      <td>0.190414</td>\n",
       "    </tr>\n",
       "    <tr>\n",
       "      <th>2</th>\n",
       "      <td>-1.739669</td>\n",
       "      <td>0.012666</td>\n",
       "      <td>0.162785</td>\n",
       "    </tr>\n",
       "    <tr>\n",
       "      <th>3</th>\n",
       "      <td>-1.647413</td>\n",
       "      <td>-0.443298</td>\n",
       "      <td>1.428429</td>\n",
       "    </tr>\n",
       "    <tr>\n",
       "      <th>4</th>\n",
       "      <td>-0.132068</td>\n",
       "      <td>1.980880</td>\n",
       "      <td>0.094634</td>\n",
       "    </tr>\n",
       "    <tr>\n",
       "      <th>5</th>\n",
       "      <td>-2.261027</td>\n",
       "      <td>-0.433714</td>\n",
       "      <td>1.315653</td>\n",
       "    </tr>\n",
       "    <tr>\n",
       "      <th>6</th>\n",
       "      <td>-1.179188</td>\n",
       "      <td>3.675265</td>\n",
       "      <td>1.171427</td>\n",
       "    </tr>\n",
       "    <tr>\n",
       "      <th>7</th>\n",
       "      <td>1.241540</td>\n",
       "      <td>0.782527</td>\n",
       "      <td>-1.872327</td>\n",
       "    </tr>\n",
       "    <tr>\n",
       "      <th>8</th>\n",
       "      <td>-1.788980</td>\n",
       "      <td>-1.664521</td>\n",
       "      <td>1.143052</td>\n",
       "    </tr>\n",
       "    <tr>\n",
       "      <th>9</th>\n",
       "      <td>-0.109239</td>\n",
       "      <td>1.240578</td>\n",
       "      <td>3.411085</td>\n",
       "    </tr>\n",
       "  </tbody>\n",
       "</table>\n",
       "</div>"
      ],
      "text/plain": [
       "       PC 1      PC 2      PC 3\n",
       "0 -1.303775  0.917214  0.667250\n",
       "1  2.113860 -1.429948  0.190414\n",
       "2 -1.739669  0.012666  0.162785\n",
       "3 -1.647413 -0.443298  1.428429\n",
       "4 -0.132068  1.980880  0.094634\n",
       "5 -2.261027 -0.433714  1.315653\n",
       "6 -1.179188  3.675265  1.171427\n",
       "7  1.241540  0.782527 -1.872327\n",
       "8 -1.788980 -1.664521  1.143052\n",
       "9 -0.109239  1.240578  3.411085"
      ]
     },
     "execution_count": 83,
     "metadata": {},
     "output_type": "execute_result"
    }
   ],
   "source": [
    "# Create a DataFrame with the three principal components.\n",
    "pcs_df = pd.DataFrame(\n",
    "            data=re_pca, columns=[\"PC 1\", \"PC 2\", \"PC 3\"], index=df.index)\n",
    "pcs_df.head(10)"
   ]
  },
  {
   "cell_type": "markdown",
   "metadata": {},
   "source": [
    "### Deliverable 3: Clustering Crytocurrencies Using K-Means\n",
    "\n",
    "#### Finding the Best Value for `k` Using the Elbow Curve"
   ]
  },
  {
   "cell_type": "code",
   "execution_count": 84,
   "metadata": {
    "scrolled": true
   },
   "outputs": [
    {
     "name": "stderr",
     "output_type": "stream",
     "text": [
      "C:\\Users\\earth\\anaconda3\\envs\\mlenv\\lib\\site-packages\\sklearn\\cluster\\_kmeans.py:1037: UserWarning: KMeans is known to have a memory leak on Windows with MKL, when there are less chunks than available threads. You can avoid it by setting the environment variable OMP_NUM_THREADS=2.\n",
      "  \"KMeans is known to have a memory leak on Windows \"\n"
     ]
    },
    {
     "data": {},
     "metadata": {},
     "output_type": "display_data"
    },
    {
     "data": {
      "application/vnd.holoviews_exec.v0+json": "",
      "text/html": [
       "<div id='1356'>\n",
       "\n",
       "\n",
       "\n",
       "\n",
       "\n",
       "  <div class=\"bk-root\" id=\"c1ddfd06-a114-4d4e-bf1e-6bf5f97bd098\" data-root-id=\"1356\"></div>\n",
       "</div>\n",
       "<script type=\"application/javascript\">(function(root) {\n",
       "  function embed_document(root) {\n",
       "    var docs_json = {\"88c4e0b6-8184-4e70-a862-2eb12513ebc4\":{\"defs\":[{\"extends\":null,\"module\":null,\"name\":\"ReactiveHTML1\",\"overrides\":[],\"properties\":[]},{\"extends\":null,\"module\":null,\"name\":\"FlexBox1\",\"overrides\":[],\"properties\":[{\"default\":\"flex-start\",\"kind\":null,\"name\":\"align_content\"},{\"default\":\"flex-start\",\"kind\":null,\"name\":\"align_items\"},{\"default\":\"row\",\"kind\":null,\"name\":\"flex_direction\"},{\"default\":\"wrap\",\"kind\":null,\"name\":\"flex_wrap\"},{\"default\":\"flex-start\",\"kind\":null,\"name\":\"justify_content\"}]},{\"extends\":null,\"module\":null,\"name\":\"GridStack1\",\"overrides\":[],\"properties\":[{\"default\":\"warn\",\"kind\":null,\"name\":\"mode\"},{\"default\":null,\"kind\":null,\"name\":\"ncols\"},{\"default\":null,\"kind\":null,\"name\":\"nrows\"},{\"default\":true,\"kind\":null,\"name\":\"allow_resize\"},{\"default\":true,\"kind\":null,\"name\":\"allow_drag\"},{\"default\":[],\"kind\":null,\"name\":\"state\"}]},{\"extends\":null,\"module\":null,\"name\":\"click1\",\"overrides\":[],\"properties\":[{\"default\":\"\",\"kind\":null,\"name\":\"terminal_output\"},{\"default\":\"\",\"kind\":null,\"name\":\"debug_name\"},{\"default\":0,\"kind\":null,\"name\":\"clears\"}]},{\"extends\":null,\"module\":null,\"name\":\"TemplateActions1\",\"overrides\":[],\"properties\":[{\"default\":0,\"kind\":null,\"name\":\"open_modal\"},{\"default\":0,\"kind\":null,\"name\":\"close_modal\"}]},{\"extends\":null,\"module\":null,\"name\":\"MaterialTemplateActions1\",\"overrides\":[],\"properties\":[{\"default\":0,\"kind\":null,\"name\":\"open_modal\"},{\"default\":0,\"kind\":null,\"name\":\"close_modal\"}]}],\"roots\":{\"references\":[{\"attributes\":{},\"id\":\"1366\",\"type\":\"LinearScale\"},{\"attributes\":{\"data\":{\"inertia\":{\"__ndarray__\":\"MacuAv8MsED+rXj0wHuhQPkK/LSq8ZhA5YsPagthk0BiJaa/hQmQQLIoy19jIIpA1pFNDPwsh0DYTInZO7qEQDQdRkWbx4JAZNY+zN4dgUA=\",\"dtype\":\"float64\",\"order\":\"little\",\"shape\":[10]},\"k\":[1,2,3,4,5,6,7,8,9,10]},\"selected\":{\"id\":\"1392\"},\"selection_policy\":{\"id\":\"1415\"}},\"id\":\"1391\",\"type\":\"ColumnDataSource\"},{\"attributes\":{\"line_alpha\":0.1,\"line_color\":\"#30a2da\",\"line_width\":2,\"x\":{\"field\":\"k\"},\"y\":{\"field\":\"inertia\"}},\"id\":\"1395\",\"type\":\"Line\"},{\"attributes\":{\"coordinates\":null,\"data_source\":{\"id\":\"1391\"},\"glyph\":{\"id\":\"1394\"},\"group\":null,\"hover_glyph\":null,\"muted_glyph\":{\"id\":\"1396\"},\"nonselection_glyph\":{\"id\":\"1395\"},\"selection_glyph\":{\"id\":\"1399\"},\"view\":{\"id\":\"1398\"}},\"id\":\"1397\",\"type\":\"GlyphRenderer\"},{\"attributes\":{},\"id\":\"1403\",\"type\":\"AllLabels\"},{\"attributes\":{\"end\":10.0,\"reset_end\":10.0,\"reset_start\":1.0,\"start\":1.0,\"tags\":[[[\"k\",\"k\",null]]]},\"id\":\"1358\",\"type\":\"Range1d\"},{\"attributes\":{},\"id\":\"1402\",\"type\":\"BasicTickFormatter\"},{\"attributes\":{\"below\":[{\"id\":\"1370\"}],\"center\":[{\"id\":\"1373\"},{\"id\":\"1377\"}],\"height\":300,\"left\":[{\"id\":\"1374\"}],\"margin\":[5,5,5,5],\"min_border_bottom\":10,\"min_border_left\":10,\"min_border_right\":10,\"min_border_top\":10,\"renderers\":[{\"id\":\"1397\"}],\"sizing_mode\":\"fixed\",\"title\":{\"id\":\"1362\"},\"toolbar\":{\"id\":\"1384\"},\"width\":700,\"x_range\":{\"id\":\"1358\"},\"x_scale\":{\"id\":\"1366\"},\"y_range\":{\"id\":\"1359\"},\"y_scale\":{\"id\":\"1368\"}},\"id\":\"1361\",\"subtype\":\"Figure\",\"type\":\"Plot\"},{\"attributes\":{\"axis\":{\"id\":\"1374\"},\"coordinates\":null,\"dimension\":1,\"grid_line_color\":null,\"group\":null,\"ticker\":null},\"id\":\"1377\",\"type\":\"Grid\"},{\"attributes\":{\"line_alpha\":0.2,\"line_color\":\"#30a2da\",\"line_width\":2,\"x\":{\"field\":\"k\"},\"y\":{\"field\":\"inertia\"}},\"id\":\"1396\",\"type\":\"Line\"},{\"attributes\":{},\"id\":\"1392\",\"type\":\"Selection\"},{\"attributes\":{},\"id\":\"1407\",\"type\":\"BasicTickFormatter\"},{\"attributes\":{\"axis_label\":\"k\",\"coordinates\":null,\"formatter\":{\"id\":\"1402\"},\"group\":null,\"major_label_policy\":{\"id\":\"1403\"},\"ticker\":{\"id\":\"1400\"}},\"id\":\"1370\",\"type\":\"LinearAxis\"},{\"attributes\":{\"bottom_units\":\"screen\",\"coordinates\":null,\"fill_alpha\":0.5,\"fill_color\":\"lightgrey\",\"group\":null,\"left_units\":\"screen\",\"level\":\"overlay\",\"line_alpha\":1.0,\"line_color\":\"black\",\"line_dash\":[4,4],\"line_width\":2,\"right_units\":\"screen\",\"syncable\":false,\"top_units\":\"screen\"},\"id\":\"1383\",\"type\":\"BoxAnnotation\"},{\"attributes\":{\"axis_label\":\"inertia\",\"coordinates\":null,\"formatter\":{\"id\":\"1407\"},\"group\":null,\"major_label_policy\":{\"id\":\"1408\"},\"ticker\":{\"id\":\"1375\"}},\"id\":\"1374\",\"type\":\"LinearAxis\"},{\"attributes\":{},\"id\":\"1379\",\"type\":\"PanTool\"},{\"attributes\":{},\"id\":\"1368\",\"type\":\"LinearScale\"},{\"attributes\":{\"tools\":[{\"id\":\"1360\"},{\"id\":\"1378\"},{\"id\":\"1379\"},{\"id\":\"1380\"},{\"id\":\"1381\"},{\"id\":\"1382\"}]},\"id\":\"1384\",\"type\":\"Toolbar\"},{\"attributes\":{\"ticks\":[1,2,3,4,5,6,7,8,9,10]},\"id\":\"1400\",\"type\":\"FixedTicker\"},{\"attributes\":{},\"id\":\"1415\",\"type\":\"UnionRenderers\"},{\"attributes\":{\"coordinates\":null,\"group\":null,\"text\":\"Elbow Curve\",\"text_color\":\"black\",\"text_font_size\":\"12pt\"},\"id\":\"1362\",\"type\":\"Title\"},{\"attributes\":{},\"id\":\"1375\",\"type\":\"BasicTicker\"},{\"attributes\":{\"axis\":{\"id\":\"1370\"},\"coordinates\":null,\"grid_line_color\":null,\"group\":null,\"ticker\":null},\"id\":\"1373\",\"type\":\"Grid\"},{\"attributes\":{\"margin\":[5,5,5,5],\"name\":\"HSpacer02165\",\"sizing_mode\":\"stretch_width\"},\"id\":\"1357\",\"type\":\"Spacer\"},{\"attributes\":{\"margin\":[5,5,5,5],\"name\":\"HSpacer02166\",\"sizing_mode\":\"stretch_width\"},\"id\":\"1427\",\"type\":\"Spacer\"},{\"attributes\":{\"line_color\":\"#30a2da\",\"line_width\":2,\"x\":{\"field\":\"k\"},\"y\":{\"field\":\"inertia\"}},\"id\":\"1399\",\"type\":\"Line\"},{\"attributes\":{\"children\":[{\"id\":\"1357\"},{\"id\":\"1361\"},{\"id\":\"1427\"}],\"margin\":[0,0,0,0],\"name\":\"Row02161\",\"tags\":[\"embedded\"]},\"id\":\"1356\",\"type\":\"Row\"},{\"attributes\":{\"line_color\":\"#30a2da\",\"line_width\":2,\"x\":{\"field\":\"k\"},\"y\":{\"field\":\"inertia\"}},\"id\":\"1394\",\"type\":\"Line\"},{\"attributes\":{\"overlay\":{\"id\":\"1383\"}},\"id\":\"1381\",\"type\":\"BoxZoomTool\"},{\"attributes\":{\"source\":{\"id\":\"1391\"}},\"id\":\"1398\",\"type\":\"CDSView\"},{\"attributes\":{},\"id\":\"1380\",\"type\":\"WheelZoomTool\"},{\"attributes\":{\"callback\":null,\"renderers\":[{\"id\":\"1397\"}],\"tags\":[\"hv_created\"],\"tooltips\":[[\"k\",\"@{k}\"],[\"inertia\",\"@{inertia}\"]]},\"id\":\"1360\",\"type\":\"HoverTool\"},{\"attributes\":{},\"id\":\"1382\",\"type\":\"ResetTool\"},{\"attributes\":{},\"id\":\"1408\",\"type\":\"AllLabels\"},{\"attributes\":{\"end\":4465.122360952671,\"reset_end\":4465.122360952671,\"reset_start\":191.60755410044442,\"start\":191.60755410044442,\"tags\":[[[\"inertia\",\"inertia\",null]]]},\"id\":\"1359\",\"type\":\"Range1d\"},{\"attributes\":{},\"id\":\"1378\",\"type\":\"SaveTool\"}],\"root_ids\":[\"1356\"]},\"title\":\"Bokeh Application\",\"version\":\"2.4.2\"}};\n",
       "    var render_items = [{\"docid\":\"88c4e0b6-8184-4e70-a862-2eb12513ebc4\",\"root_ids\":[\"1356\"],\"roots\":{\"1356\":\"c1ddfd06-a114-4d4e-bf1e-6bf5f97bd098\"}}];\n",
       "    root.Bokeh.embed.embed_items_notebook(docs_json, render_items);\n",
       "  }\n",
       "  if (root.Bokeh !== undefined && root.Bokeh.Panel !== undefined) {\n",
       "    embed_document(root);\n",
       "  } else {\n",
       "    var attempts = 0;\n",
       "    var timer = setInterval(function(root) {\n",
       "      if (root.Bokeh !== undefined && root.Bokeh.Panel !== undefined) {\n",
       "        clearInterval(timer);\n",
       "        embed_document(root);\n",
       "      } else if (document.readyState == \"complete\") {\n",
       "        attempts++;\n",
       "        if (attempts > 200) {\n",
       "          clearInterval(timer);\n",
       "          console.log(\"Bokeh: ERROR: Unable to run BokehJS code because BokehJS library is missing\");\n",
       "        }\n",
       "      }\n",
       "    }, 25, root)\n",
       "  }\n",
       "})(window);</script>"
      ],
      "text/plain": [
       ":Curve   [k]   (inertia)"
      ]
     },
     "execution_count": 84,
     "metadata": {
      "application/vnd.holoviews_exec.v0+json": {
       "id": "1356"
      }
     },
     "output_type": "execute_result"
    }
   ],
   "source": [
    "# Create an elbow curve to find the best value for K.\n",
    "inertia = []\n",
    "k = list(range(1, 11))\n",
    "\n",
    "# Looking for the best K\n",
    "for i in k:\n",
    "    km = KMeans(n_clusters=i, random_state=0)\n",
    "    km.fit(pcs_df)\n",
    "    inertia.append(km.inertia_)\n",
    "    \n",
    "# Define a DataFrame to plot the Elbow Curve using hvPlot\n",
    "elbow_data = {\"k\": k, \"inertia\": inertia}\n",
    "re_elbow_df = pd.DataFrame(elbow_data)\n",
    "re_elbow_df.hvplot.line(x=\"k\", y=\"inertia\", title=\"Elbow Curve\", xticks=k)\n"
   ]
  },
  {
   "cell_type": "markdown",
   "metadata": {},
   "source": [
    "Running K-Means with `k=3`"
   ]
  },
  {
   "cell_type": "code",
   "execution_count": 100,
   "metadata": {},
   "outputs": [
    {
     "name": "stdout",
     "output_type": "stream",
     "text": [
      "[0 0 0 0 2 0 2 2 0 2 2 0 0 1 1 0 0 0 2 0 0 0 0 0 2 2 0 2 0 0 2 0 0 0 0 0 0\n",
      " 0 0 2 0 0 0 2 0 0 0 0 0 0 0 0 2 0 0 0 2 0 2 2 0 2 2 2 0 0 0 0 0 0 0 0 0 2\n",
      " 2 0 2 0 2 0 0 0 0 0 2 2 0 0 0 0 2 2 2 0 0 0 2 0 0 0 0 0 0 1 0 0 2 0 2 0 0\n",
      " 0 2 0 2 0 1 0 0 2 2 0 0 0 0 0 2 0 0 2 0 2 2 0 0 0 0 0 0 2 2 0 0 0 2 0 0 0\n",
      " 2 2 0 0 0 0 0 0 0 0 2 0 0 0 0 0 0 2 2 2 2 0 2 0 0 0 0 2 0 0 0 0 2 2 0 2 2\n",
      " 2 0 1 0 0 0 2 0 1 0 0 0 2 0 2 0 2 2 0 0 0 1 0 0 2 0 2 0 0 0 0 0 0 0 2 0 0\n",
      " 0 0 2 0 0 0 0 2 0 0 0 0 0 0 0 0 2 0 2 0 0 0 1 0 0 2 2 0 2 0 0 0 2 2 2 0 2\n",
      " 0 0 0 0 2 0 2 0 0 0 0 0 0 0 0 2 0 2 0 0 0 2 2 0 1 0 2 0 0 2 1 2 0 0 0 2 0\n",
      " 0 0 0 0 0 0 0 2 0 0 2 0 0 0 0 0 0 2 2 0 0 0 2 0 0 0 0 0 0 2 0 0 2 0 0 2 0\n",
      " 0 2]\n"
     ]
    }
   ],
   "source": [
    "# Initialize the K-Means model.\n",
    "model = KMeans(n_clusters=3, random_state=1)\n",
    "\n",
    "# Fit the model\n",
    "model.fit(pcs_df)\n",
    "\n",
    "# Predict clusters\n",
    "predictions = model.predict(pcs_df)\n",
    "print(predictions)"
   ]
  },
  {
   "cell_type": "code",
   "execution_count": 101,
   "metadata": {},
   "outputs": [
    {
     "data": {
      "text/plain": [
       "7196"
      ]
     },
     "execution_count": 101,
     "metadata": {},
     "output_type": "execute_result"
    }
   ],
   "source": [
    "len(clustered_df)"
   ]
  },
  {
   "cell_type": "code",
   "execution_count": 102,
   "metadata": {},
   "outputs": [
    {
     "name": "stdout",
     "output_type": "stream",
     "text": [
      "(7196, 20)\n"
     ]
    },
    {
     "data": {
      "text/html": [
       "<div>\n",
       "<style scoped>\n",
       "    .dataframe tbody tr th:only-of-type {\n",
       "        vertical-align: middle;\n",
       "    }\n",
       "\n",
       "    .dataframe tbody tr th {\n",
       "        vertical-align: top;\n",
       "    }\n",
       "\n",
       "    .dataframe thead th {\n",
       "        text-align: right;\n",
       "    }\n",
       "</style>\n",
       "<table border=\"1\" class=\"dataframe\">\n",
       "  <thead>\n",
       "    <tr style=\"text-align: right;\">\n",
       "      <th></th>\n",
       "      <th>Year</th>\n",
       "      <th>median_listing_price</th>\n",
       "      <th>active_listing_count</th>\n",
       "      <th>median_days_on_market</th>\n",
       "      <th>new_listing_count</th>\n",
       "      <th>price_increased_count</th>\n",
       "      <th>price_reduced_count</th>\n",
       "      <th>median_square_feet</th>\n",
       "      <th>average_listing_price</th>\n",
       "      <th>total_listing_count</th>\n",
       "      <th>violent_crime_rate</th>\n",
       "      <th>30_Year_Fixed_Rate</th>\n",
       "      <th>Number_of_Schools</th>\n",
       "      <th>median_listing_price_mm</th>\n",
       "      <th>Number_of_Parks</th>\n",
       "      <th>PC 1</th>\n",
       "      <th>PC 2</th>\n",
       "      <th>PC 3</th>\n",
       "      <th>County</th>\n",
       "      <th>Class</th>\n",
       "    </tr>\n",
       "  </thead>\n",
       "  <tbody>\n",
       "    <tr>\n",
       "      <th>0</th>\n",
       "      <td>2018.0</td>\n",
       "      <td>224000.0</td>\n",
       "      <td>306.0</td>\n",
       "      <td>126.0</td>\n",
       "      <td>52.0</td>\n",
       "      <td>0.0</td>\n",
       "      <td>28.0</td>\n",
       "      <td>2174.0</td>\n",
       "      <td>352753.0</td>\n",
       "      <td>340.0</td>\n",
       "      <td>243.6</td>\n",
       "      <td>4.64</td>\n",
       "      <td>53.0</td>\n",
       "      <td>-0.025663</td>\n",
       "      <td>34.0</td>\n",
       "      <td>-1.303775</td>\n",
       "      <td>0.917214</td>\n",
       "      <td>0.667250</td>\n",
       "      <td>Cherokee</td>\n",
       "      <td>0.0</td>\n",
       "    </tr>\n",
       "    <tr>\n",
       "      <th>1</th>\n",
       "      <td>2018.0</td>\n",
       "      <td>245000.0</td>\n",
       "      <td>1197.0</td>\n",
       "      <td>85.0</td>\n",
       "      <td>296.0</td>\n",
       "      <td>12.0</td>\n",
       "      <td>204.0</td>\n",
       "      <td>2234.0</td>\n",
       "      <td>325987.0</td>\n",
       "      <td>1445.0</td>\n",
       "      <td>660.2</td>\n",
       "      <td>4.64</td>\n",
       "      <td>354.0</td>\n",
       "      <td>-0.019608</td>\n",
       "      <td>479.0</td>\n",
       "      <td>2.113860</td>\n",
       "      <td>-1.429948</td>\n",
       "      <td>0.190414</td>\n",
       "      <td>Craven</td>\n",
       "      <td>0.0</td>\n",
       "    </tr>\n",
       "    <tr>\n",
       "      <th>2</th>\n",
       "      <td>2018.0</td>\n",
       "      <td>179900.0</td>\n",
       "      <td>145.0</td>\n",
       "      <td>114.0</td>\n",
       "      <td>28.0</td>\n",
       "      <td>0.0</td>\n",
       "      <td>24.0</td>\n",
       "      <td>1987.0</td>\n",
       "      <td>235683.0</td>\n",
       "      <td>176.0</td>\n",
       "      <td>89</td>\n",
       "      <td>4.64</td>\n",
       "      <td>45.0</td>\n",
       "      <td>-0.024403</td>\n",
       "      <td>13.0</td>\n",
       "      <td>-1.739669</td>\n",
       "      <td>0.012666</td>\n",
       "      <td>0.162785</td>\n",
       "      <td>Catawba</td>\n",
       "      <td>0.0</td>\n",
       "    </tr>\n",
       "    <tr>\n",
       "      <th>3</th>\n",
       "      <td>2018.0</td>\n",
       "      <td>199000.0</td>\n",
       "      <td>545.0</td>\n",
       "      <td>132.0</td>\n",
       "      <td>48.0</td>\n",
       "      <td>0.0</td>\n",
       "      <td>52.0</td>\n",
       "      <td>1708.0</td>\n",
       "      <td>264228.0</td>\n",
       "      <td>547.0</td>\n",
       "      <td>272.1</td>\n",
       "      <td>4.64</td>\n",
       "      <td>26.0</td>\n",
       "      <td>-0.004502</td>\n",
       "      <td>2.0</td>\n",
       "      <td>-1.647413</td>\n",
       "      <td>-0.443298</td>\n",
       "      <td>1.428429</td>\n",
       "      <td>Gaston</td>\n",
       "      <td>0.0</td>\n",
       "    </tr>\n",
       "    <tr>\n",
       "      <th>4</th>\n",
       "      <td>2018.0</td>\n",
       "      <td>400000.0</td>\n",
       "      <td>364.0</td>\n",
       "      <td>105.0</td>\n",
       "      <td>80.0</td>\n",
       "      <td>0.0</td>\n",
       "      <td>56.0</td>\n",
       "      <td>2350.0</td>\n",
       "      <td>520135.0</td>\n",
       "      <td>445.0</td>\n",
       "      <td>153.6</td>\n",
       "      <td>4.64</td>\n",
       "      <td>117.0</td>\n",
       "      <td>-0.024390</td>\n",
       "      <td>126.0</td>\n",
       "      <td>-0.132068</td>\n",
       "      <td>1.980880</td>\n",
       "      <td>0.094634</td>\n",
       "      <td>Warren</td>\n",
       "      <td>2.0</td>\n",
       "    </tr>\n",
       "    <tr>\n",
       "      <th>5</th>\n",
       "      <td>2018.0</td>\n",
       "      <td>192000.0</td>\n",
       "      <td>34.0</td>\n",
       "      <td>127.0</td>\n",
       "      <td>8.0</td>\n",
       "      <td>0.0</td>\n",
       "      <td>4.0</td>\n",
       "      <td>1786.0</td>\n",
       "      <td>207534.0</td>\n",
       "      <td>39.0</td>\n",
       "      <td>203.6</td>\n",
       "      <td>4.64</td>\n",
       "      <td>20.0</td>\n",
       "      <td>-0.038558</td>\n",
       "      <td>10.0</td>\n",
       "      <td>-2.261027</td>\n",
       "      <td>-0.433714</td>\n",
       "      <td>1.315653</td>\n",
       "      <td>Lenoir</td>\n",
       "      <td>0.0</td>\n",
       "    </tr>\n",
       "    <tr>\n",
       "      <th>6</th>\n",
       "      <td>2018.0</td>\n",
       "      <td>439000.0</td>\n",
       "      <td>418.0</td>\n",
       "      <td>162.0</td>\n",
       "      <td>20.0</td>\n",
       "      <td>4.0</td>\n",
       "      <td>52.0</td>\n",
       "      <td>2265.0</td>\n",
       "      <td>644197.0</td>\n",
       "      <td>479.0</td>\n",
       "      <td>141.7</td>\n",
       "      <td>4.64</td>\n",
       "      <td>17.0</td>\n",
       "      <td>0.023310</td>\n",
       "      <td>17.0</td>\n",
       "      <td>-1.179188</td>\n",
       "      <td>3.675265</td>\n",
       "      <td>1.171427</td>\n",
       "      <td>Lee</td>\n",
       "      <td>2.0</td>\n",
       "    </tr>\n",
       "    <tr>\n",
       "      <th>7</th>\n",
       "      <td>2018.0</td>\n",
       "      <td>299990.0</td>\n",
       "      <td>689.0</td>\n",
       "      <td>60.0</td>\n",
       "      <td>216.0</td>\n",
       "      <td>68.0</td>\n",
       "      <td>248.0</td>\n",
       "      <td>2410.0</td>\n",
       "      <td>334948.0</td>\n",
       "      <td>904.0</td>\n",
       "      <td>127.1</td>\n",
       "      <td>4.64</td>\n",
       "      <td>165.0</td>\n",
       "      <td>-0.008298</td>\n",
       "      <td>120.0</td>\n",
       "      <td>1.241540</td>\n",
       "      <td>0.782527</td>\n",
       "      <td>-1.872327</td>\n",
       "      <td>Henderson</td>\n",
       "      <td>2.0</td>\n",
       "    </tr>\n",
       "    <tr>\n",
       "      <th>8</th>\n",
       "      <td>2018.0</td>\n",
       "      <td>147000.0</td>\n",
       "      <td>124.0</td>\n",
       "      <td>103.0</td>\n",
       "      <td>20.0</td>\n",
       "      <td>0.0</td>\n",
       "      <td>16.0</td>\n",
       "      <td>1750.0</td>\n",
       "      <td>241071.0</td>\n",
       "      <td>132.0</td>\n",
       "      <td>479.4</td>\n",
       "      <td>4.64</td>\n",
       "      <td>32.0</td>\n",
       "      <td>-0.080675</td>\n",
       "      <td>15.0</td>\n",
       "      <td>-1.788980</td>\n",
       "      <td>-1.664521</td>\n",
       "      <td>1.143052</td>\n",
       "      <td>Beaufort</td>\n",
       "      <td>0.0</td>\n",
       "    </tr>\n",
       "    <tr>\n",
       "      <th>9</th>\n",
       "      <td>2018.0</td>\n",
       "      <td>159000.0</td>\n",
       "      <td>2055.0</td>\n",
       "      <td>208.0</td>\n",
       "      <td>96.0</td>\n",
       "      <td>8.0</td>\n",
       "      <td>200.0</td>\n",
       "      <td>2059.0</td>\n",
       "      <td>313020.0</td>\n",
       "      <td>2253.0</td>\n",
       "      <td>62.2</td>\n",
       "      <td>4.64</td>\n",
       "      <td>40.0</td>\n",
       "      <td>-0.036072</td>\n",
       "      <td>44.0</td>\n",
       "      <td>-0.109239</td>\n",
       "      <td>1.240578</td>\n",
       "      <td>3.411085</td>\n",
       "      <td>Hertford</td>\n",
       "      <td>2.0</td>\n",
       "    </tr>\n",
       "    <tr>\n",
       "      <th>10</th>\n",
       "      <td>2018.0</td>\n",
       "      <td>329900.0</td>\n",
       "      <td>701.0</td>\n",
       "      <td>163.0</td>\n",
       "      <td>72.0</td>\n",
       "      <td>16.0</td>\n",
       "      <td>132.0</td>\n",
       "      <td>1808.0</td>\n",
       "      <td>431913.0</td>\n",
       "      <td>894.0</td>\n",
       "      <td>172.3</td>\n",
       "      <td>4.64</td>\n",
       "      <td>37.0</td>\n",
       "      <td>0.005180</td>\n",
       "      <td>44.0</td>\n",
       "      <td>-0.921705</td>\n",
       "      <td>1.529192</td>\n",
       "      <td>1.328551</td>\n",
       "      <td>Onslow</td>\n",
       "      <td>2.0</td>\n",
       "    </tr>\n",
       "    <tr>\n",
       "      <th>11</th>\n",
       "      <td>2018.0</td>\n",
       "      <td>130000.0</td>\n",
       "      <td>125.0</td>\n",
       "      <td>133.0</td>\n",
       "      <td>16.0</td>\n",
       "      <td>0.0</td>\n",
       "      <td>20.0</td>\n",
       "      <td>2100.0</td>\n",
       "      <td>168985.0</td>\n",
       "      <td>148.0</td>\n",
       "      <td>805.1</td>\n",
       "      <td>4.64</td>\n",
       "      <td>40.0</td>\n",
       "      <td>0.020008</td>\n",
       "      <td>13.0</td>\n",
       "      <td>-1.765842</td>\n",
       "      <td>-2.490791</td>\n",
       "      <td>-0.118161</td>\n",
       "      <td>Ashe</td>\n",
       "      <td>0.0</td>\n",
       "    </tr>\n",
       "    <tr>\n",
       "      <th>12</th>\n",
       "      <td>2018.0</td>\n",
       "      <td>259900.0</td>\n",
       "      <td>76.0</td>\n",
       "      <td>85.0</td>\n",
       "      <td>24.0</td>\n",
       "      <td>4.0</td>\n",
       "      <td>8.0</td>\n",
       "      <td>2312.0</td>\n",
       "      <td>338730.0</td>\n",
       "      <td>98.0</td>\n",
       "      <td>252.6</td>\n",
       "      <td>4.64</td>\n",
       "      <td>54.0</td>\n",
       "      <td>0.069547</td>\n",
       "      <td>63.0</td>\n",
       "      <td>-1.208461</td>\n",
       "      <td>0.683789</td>\n",
       "      <td>-1.899977</td>\n",
       "      <td>Currituck</td>\n",
       "      <td>0.0</td>\n",
       "    </tr>\n",
       "    <tr>\n",
       "      <th>13</th>\n",
       "      <td>2018.0</td>\n",
       "      <td>359000.0</td>\n",
       "      <td>3203.0</td>\n",
       "      <td>64.0</td>\n",
       "      <td>920.0</td>\n",
       "      <td>220.0</td>\n",
       "      <td>1524.0</td>\n",
       "      <td>2388.0</td>\n",
       "      <td>504102.0</td>\n",
       "      <td>4635.0</td>\n",
       "      <td>614.2</td>\n",
       "      <td>4.64</td>\n",
       "      <td>569.0</td>\n",
       "      <td>-0.009450</td>\n",
       "      <td>905.0</td>\n",
       "      <td>11.209826</td>\n",
       "      <td>-1.785107</td>\n",
       "      <td>0.376859</td>\n",
       "      <td>Dare</td>\n",
       "      <td>1.0</td>\n",
       "    </tr>\n",
       "    <tr>\n",
       "      <th>14</th>\n",
       "      <td>2018.0</td>\n",
       "      <td>390590.0</td>\n",
       "      <td>3896.0</td>\n",
       "      <td>79.0</td>\n",
       "      <td>940.0</td>\n",
       "      <td>168.0</td>\n",
       "      <td>864.0</td>\n",
       "      <td>2671.0</td>\n",
       "      <td>469505.0</td>\n",
       "      <td>4789.0</td>\n",
       "      <td>244.1</td>\n",
       "      <td>4.64</td>\n",
       "      <td>548.0</td>\n",
       "      <td>-0.009849</td>\n",
       "      <td>1627.0</td>\n",
       "      <td>11.298738</td>\n",
       "      <td>0.030694</td>\n",
       "      <td>0.810069</td>\n",
       "      <td>Transylvania</td>\n",
       "      <td>1.0</td>\n",
       "    </tr>\n",
       "    <tr>\n",
       "      <th>15</th>\n",
       "      <td>2018.0</td>\n",
       "      <td>198400.0</td>\n",
       "      <td>471.0</td>\n",
       "      <td>109.0</td>\n",
       "      <td>120.0</td>\n",
       "      <td>20.0</td>\n",
       "      <td>96.0</td>\n",
       "      <td>2021.0</td>\n",
       "      <td>242053.0</td>\n",
       "      <td>784.0</td>\n",
       "      <td>417.2</td>\n",
       "      <td>4.64</td>\n",
       "      <td>133.0</td>\n",
       "      <td>-0.002514</td>\n",
       "      <td>100.0</td>\n",
       "      <td>-0.368144</td>\n",
       "      <td>-1.095958</td>\n",
       "      <td>-0.009357</td>\n",
       "      <td>Sampson</td>\n",
       "      <td>0.0</td>\n",
       "    </tr>\n",
       "    <tr>\n",
       "      <th>16</th>\n",
       "      <td>2018.0</td>\n",
       "      <td>129900.0</td>\n",
       "      <td>252.0</td>\n",
       "      <td>116.0</td>\n",
       "      <td>52.0</td>\n",
       "      <td>8.0</td>\n",
       "      <td>28.0</td>\n",
       "      <td>1552.0</td>\n",
       "      <td>162238.0</td>\n",
       "      <td>355.0</td>\n",
       "      <td>385.3</td>\n",
       "      <td>4.64</td>\n",
       "      <td>87.0</td>\n",
       "      <td>-0.028785</td>\n",
       "      <td>70.0</td>\n",
       "      <td>-1.550879</td>\n",
       "      <td>-2.456710</td>\n",
       "      <td>-0.060559</td>\n",
       "      <td>Union</td>\n",
       "      <td>0.0</td>\n",
       "    </tr>\n",
       "    <tr>\n",
       "      <th>17</th>\n",
       "      <td>2018.0</td>\n",
       "      <td>269000.0</td>\n",
       "      <td>272.0</td>\n",
       "      <td>127.0</td>\n",
       "      <td>20.0</td>\n",
       "      <td>4.0</td>\n",
       "      <td>60.0</td>\n",
       "      <td>1885.0</td>\n",
       "      <td>396127.0</td>\n",
       "      <td>350.0</td>\n",
       "      <td>296.5</td>\n",
       "      <td>4.64</td>\n",
       "      <td>38.0</td>\n",
       "      <td>-0.017352</td>\n",
       "      <td>22.0</td>\n",
       "      <td>-1.470950</td>\n",
       "      <td>0.459684</td>\n",
       "      <td>0.975725</td>\n",
       "      <td>Rowan</td>\n",
       "      <td>0.0</td>\n",
       "    </tr>\n",
       "    <tr>\n",
       "      <th>18</th>\n",
       "      <td>2018.0</td>\n",
       "      <td>399000.0</td>\n",
       "      <td>1333.0</td>\n",
       "      <td>98.0</td>\n",
       "      <td>200.0</td>\n",
       "      <td>36.0</td>\n",
       "      <td>380.0</td>\n",
       "      <td>2030.0</td>\n",
       "      <td>554433.0</td>\n",
       "      <td>1680.0</td>\n",
       "      <td>297.5</td>\n",
       "      <td>4.64</td>\n",
       "      <td>211.0</td>\n",
       "      <td>-0.001127</td>\n",
       "      <td>211.0</td>\n",
       "      <td>1.835658</td>\n",
       "      <td>1.344959</td>\n",
       "      <td>0.160667</td>\n",
       "      <td>Graham</td>\n",
       "      <td>2.0</td>\n",
       "    </tr>\n",
       "    <tr>\n",
       "      <th>19</th>\n",
       "      <td>2018.0</td>\n",
       "      <td>159000.0</td>\n",
       "      <td>120.0</td>\n",
       "      <td>119.0</td>\n",
       "      <td>20.0</td>\n",
       "      <td>0.0</td>\n",
       "      <td>24.0</td>\n",
       "      <td>1888.0</td>\n",
       "      <td>333291.0</td>\n",
       "      <td>146.0</td>\n",
       "      <td>300</td>\n",
       "      <td>4.64</td>\n",
       "      <td>60.0</td>\n",
       "      <td>-0.002822</td>\n",
       "      <td>22.0</td>\n",
       "      <td>-1.641592</td>\n",
       "      <td>-0.061221</td>\n",
       "      <td>0.798814</td>\n",
       "      <td>Caswell</td>\n",
       "      <td>0.0</td>\n",
       "    </tr>\n",
       "  </tbody>\n",
       "</table>\n",
       "</div>"
      ],
      "text/plain": [
       "      Year  median_listing_price  active_listing_count  median_days_on_market  \\\n",
       "0   2018.0              224000.0                 306.0                  126.0   \n",
       "1   2018.0              245000.0                1197.0                   85.0   \n",
       "2   2018.0              179900.0                 145.0                  114.0   \n",
       "3   2018.0              199000.0                 545.0                  132.0   \n",
       "4   2018.0              400000.0                 364.0                  105.0   \n",
       "5   2018.0              192000.0                  34.0                  127.0   \n",
       "6   2018.0              439000.0                 418.0                  162.0   \n",
       "7   2018.0              299990.0                 689.0                   60.0   \n",
       "8   2018.0              147000.0                 124.0                  103.0   \n",
       "9   2018.0              159000.0                2055.0                  208.0   \n",
       "10  2018.0              329900.0                 701.0                  163.0   \n",
       "11  2018.0              130000.0                 125.0                  133.0   \n",
       "12  2018.0              259900.0                  76.0                   85.0   \n",
       "13  2018.0              359000.0                3203.0                   64.0   \n",
       "14  2018.0              390590.0                3896.0                   79.0   \n",
       "15  2018.0              198400.0                 471.0                  109.0   \n",
       "16  2018.0              129900.0                 252.0                  116.0   \n",
       "17  2018.0              269000.0                 272.0                  127.0   \n",
       "18  2018.0              399000.0                1333.0                   98.0   \n",
       "19  2018.0              159000.0                 120.0                  119.0   \n",
       "\n",
       "    new_listing_count  price_increased_count  price_reduced_count  \\\n",
       "0                52.0                    0.0                 28.0   \n",
       "1               296.0                   12.0                204.0   \n",
       "2                28.0                    0.0                 24.0   \n",
       "3                48.0                    0.0                 52.0   \n",
       "4                80.0                    0.0                 56.0   \n",
       "5                 8.0                    0.0                  4.0   \n",
       "6                20.0                    4.0                 52.0   \n",
       "7               216.0                   68.0                248.0   \n",
       "8                20.0                    0.0                 16.0   \n",
       "9                96.0                    8.0                200.0   \n",
       "10               72.0                   16.0                132.0   \n",
       "11               16.0                    0.0                 20.0   \n",
       "12               24.0                    4.0                  8.0   \n",
       "13              920.0                  220.0               1524.0   \n",
       "14              940.0                  168.0                864.0   \n",
       "15              120.0                   20.0                 96.0   \n",
       "16               52.0                    8.0                 28.0   \n",
       "17               20.0                    4.0                 60.0   \n",
       "18              200.0                   36.0                380.0   \n",
       "19               20.0                    0.0                 24.0   \n",
       "\n",
       "    median_square_feet  average_listing_price  total_listing_count  \\\n",
       "0               2174.0               352753.0                340.0   \n",
       "1               2234.0               325987.0               1445.0   \n",
       "2               1987.0               235683.0                176.0   \n",
       "3               1708.0               264228.0                547.0   \n",
       "4               2350.0               520135.0                445.0   \n",
       "5               1786.0               207534.0                 39.0   \n",
       "6               2265.0               644197.0                479.0   \n",
       "7               2410.0               334948.0                904.0   \n",
       "8               1750.0               241071.0                132.0   \n",
       "9               2059.0               313020.0               2253.0   \n",
       "10              1808.0               431913.0                894.0   \n",
       "11              2100.0               168985.0                148.0   \n",
       "12              2312.0               338730.0                 98.0   \n",
       "13              2388.0               504102.0               4635.0   \n",
       "14              2671.0               469505.0               4789.0   \n",
       "15              2021.0               242053.0                784.0   \n",
       "16              1552.0               162238.0                355.0   \n",
       "17              1885.0               396127.0                350.0   \n",
       "18              2030.0               554433.0               1680.0   \n",
       "19              1888.0               333291.0                146.0   \n",
       "\n",
       "   violent_crime_rate  30_Year_Fixed_Rate  Number_of_Schools  \\\n",
       "0               243.6                4.64               53.0   \n",
       "1               660.2                4.64              354.0   \n",
       "2                  89                4.64               45.0   \n",
       "3               272.1                4.64               26.0   \n",
       "4               153.6                4.64              117.0   \n",
       "5               203.6                4.64               20.0   \n",
       "6               141.7                4.64               17.0   \n",
       "7               127.1                4.64              165.0   \n",
       "8               479.4                4.64               32.0   \n",
       "9                62.2                4.64               40.0   \n",
       "10              172.3                4.64               37.0   \n",
       "11              805.1                4.64               40.0   \n",
       "12              252.6                4.64               54.0   \n",
       "13              614.2                4.64              569.0   \n",
       "14              244.1                4.64              548.0   \n",
       "15              417.2                4.64              133.0   \n",
       "16              385.3                4.64               87.0   \n",
       "17              296.5                4.64               38.0   \n",
       "18              297.5                4.64              211.0   \n",
       "19                300                4.64               60.0   \n",
       "\n",
       "    median_listing_price_mm  Number_of_Parks       PC 1      PC 2      PC 3  \\\n",
       "0                 -0.025663             34.0  -1.303775  0.917214  0.667250   \n",
       "1                 -0.019608            479.0   2.113860 -1.429948  0.190414   \n",
       "2                 -0.024403             13.0  -1.739669  0.012666  0.162785   \n",
       "3                 -0.004502              2.0  -1.647413 -0.443298  1.428429   \n",
       "4                 -0.024390            126.0  -0.132068  1.980880  0.094634   \n",
       "5                 -0.038558             10.0  -2.261027 -0.433714  1.315653   \n",
       "6                  0.023310             17.0  -1.179188  3.675265  1.171427   \n",
       "7                 -0.008298            120.0   1.241540  0.782527 -1.872327   \n",
       "8                 -0.080675             15.0  -1.788980 -1.664521  1.143052   \n",
       "9                 -0.036072             44.0  -0.109239  1.240578  3.411085   \n",
       "10                 0.005180             44.0  -0.921705  1.529192  1.328551   \n",
       "11                 0.020008             13.0  -1.765842 -2.490791 -0.118161   \n",
       "12                 0.069547             63.0  -1.208461  0.683789 -1.899977   \n",
       "13                -0.009450            905.0  11.209826 -1.785107  0.376859   \n",
       "14                -0.009849           1627.0  11.298738  0.030694  0.810069   \n",
       "15                -0.002514            100.0  -0.368144 -1.095958 -0.009357   \n",
       "16                -0.028785             70.0  -1.550879 -2.456710 -0.060559   \n",
       "17                -0.017352             22.0  -1.470950  0.459684  0.975725   \n",
       "18                -0.001127            211.0   1.835658  1.344959  0.160667   \n",
       "19                -0.002822             22.0  -1.641592 -0.061221  0.798814   \n",
       "\n",
       "          County  Class  \n",
       "0       Cherokee    0.0  \n",
       "1         Craven    0.0  \n",
       "2        Catawba    0.0  \n",
       "3         Gaston    0.0  \n",
       "4         Warren    2.0  \n",
       "5         Lenoir    0.0  \n",
       "6            Lee    2.0  \n",
       "7      Henderson    2.0  \n",
       "8       Beaufort    0.0  \n",
       "9       Hertford    2.0  \n",
       "10        Onslow    2.0  \n",
       "11          Ashe    0.0  \n",
       "12     Currituck    0.0  \n",
       "13          Dare    1.0  \n",
       "14  Transylvania    1.0  \n",
       "15       Sampson    0.0  \n",
       "16         Union    0.0  \n",
       "17         Rowan    0.0  \n",
       "18        Graham    2.0  \n",
       "19       Caswell    0.0  "
      ]
     },
     "execution_count": 102,
     "metadata": {},
     "output_type": "execute_result"
    }
   ],
   "source": [
    "# Create a new DataFrame including predicted clusters and real estate features.\n",
    "# Concatentate the df and pcs_df DataFrames on the same columns.\n",
    "clustered_df = pd.concat([df, pcs_df], axis=1)\n",
    "\n",
    "#  Add a new column, \"County\" to the clustered_df DataFrame that holds the names of the counties. \n",
    "clustered_df = pd.concat([clustered_df,re_name_df], axis=1)\n",
    "\n",
    "#  Add a new column, \"Class\" to the clustered_df DataFrame that holds the predictions.\n",
    "clustered_df[\"Class\"] = pd.Series(predictions, index=df.index)\n",
    "\n",
    "# Print the shape of the clustered_df\n",
    "print(clustered_df.shape)\n",
    "clustered_df.head(20)"
   ]
  },
  {
   "cell_type": "code",
   "execution_count": 103,
   "metadata": {},
   "outputs": [],
   "source": [
    "# adding \"class\" creates Nans b/c dataframes are different lengths, drop to graph.\n",
    "clustered_df1 = clustered_df.dropna()\n"
   ]
  },
  {
   "cell_type": "markdown",
   "metadata": {},
   "source": [
    "### Deliverable 4: Visualizing Cryptocurrencies Results\n",
    "\n",
    "#### 3D-Scatter with Clusters"
   ]
  },
  {
   "cell_type": "code",
   "execution_count": 104,
   "metadata": {},
   "outputs": [
    {
     "data": {
      "application/vnd.plotly.v1+json": {
       "config": {
        "plotlyServerURL": "https://plot.ly"
       },
       "data": [
        {
         "customdata": [
          [
           224000
          ],
          [
           245000
          ],
          [
           179900
          ],
          [
           199000
          ],
          [
           192000
          ],
          [
           147000
          ],
          [
           130000
          ],
          [
           259900
          ],
          [
           198400
          ],
          [
           129900
          ],
          [
           269000
          ],
          [
           159000
          ],
          [
           205900
          ],
          [
           266000
          ],
          [
           195000
          ],
          [
           265900
          ],
          [
           135000
          ],
          [
           325000
          ],
          [
           179900
          ],
          [
           279000
          ],
          [
           246150
          ],
          [
           152990
          ],
          [
           79900
          ],
          [
           119900
          ],
          [
           164900
          ],
          [
           169900
          ],
          [
           168000
          ],
          [
           284500
          ],
          [
           210000
          ],
          [
           329000
          ],
          [
           245000
          ],
          [
           249900
          ],
          [
           229900
          ],
          [
           246290
          ],
          [
           194000
          ],
          [
           182995
          ],
          [
           155000
          ],
          [
           205000
          ],
          [
           169900
          ],
          [
           214900
          ],
          [
           129500
          ],
          [
           280000
          ],
          [
           158000
          ],
          [
           169900
          ],
          [
           204900
          ],
          [
           229000
          ],
          [
           184400
          ],
          [
           206080
          ],
          [
           273750
          ],
          [
           212600
          ],
          [
           149900
          ],
          [
           207450
          ],
          [
           243000
          ],
          [
           201500
          ],
          [
           198450
          ],
          [
           244608
          ],
          [
           329250
          ],
          [
           249900
          ],
          [
           199700
          ],
          [
           179950
          ],
          [
           127450
          ],
          [
           180000
          ],
          [
           324495
          ],
          [
           159900
          ],
          [
           133750
          ],
          [
           81950
          ],
          [
           244950
          ],
          [
           169900
          ],
          [
           271500
          ],
          [
           173700
          ],
          [
           279950
          ],
          [
           216000
          ],
          [
           193745
          ],
          [
           225200
          ],
          [
           263000
          ],
          [
           214950
          ],
          [
           199900
          ],
          [
           198900
          ],
          [
           159450
          ],
          [
           124900
          ],
          [
           142450
          ],
          [
           178400
          ],
          [
           180900
          ],
          [
           154900
          ],
          [
           229900
          ],
          [
           129750
          ],
          [
           195750
          ],
          [
           242500
          ],
          [
           277500
          ],
          [
           169900
          ],
          [
           164950
          ],
          [
           185000
          ],
          [
           237000
          ],
          [
           245000
          ],
          [
           164500
          ],
          [
           285000
          ],
          [
           154450
          ],
          [
           152850
          ],
          [
           159950
          ],
          [
           84450
          ],
          [
           191450
          ],
          [
           132200
          ],
          [
           179900
          ],
          [
           219999
          ],
          [
           199950
          ],
          [
           124950
          ],
          [
           253250
          ],
          [
           244900
          ],
          [
           224900
          ],
          [
           189900
          ],
          [
           254950
          ],
          [
           207400
          ],
          [
           199900
          ],
          [
           215000
          ],
          [
           259400
          ],
          [
           197450
          ],
          [
           179900
          ],
          [
           182995
          ],
          [
           279900
          ],
          [
           124900
          ],
          [
           149900
          ],
          [
           259900
          ],
          [
           274900
          ],
          [
           147000
          ],
          [
           179900
          ],
          [
           159450
          ],
          [
           187500
          ],
          [
           129750
          ],
          [
           327250
          ],
          [
           182150
          ],
          [
           218700
          ],
          [
           206585
          ],
          [
           198950
          ],
          [
           249000
          ],
          [
           328266
          ],
          [
           217350
          ],
          [
           265000
          ],
          [
           128500
          ],
          [
           219900
          ],
          [
           184900
          ],
          [
           159000
          ],
          [
           269900
          ],
          [
           256248
          ],
          [
           219900
          ],
          [
           249500
          ],
          [
           239500
          ],
          [
           332970
          ],
          [
           335000
          ],
          [
           262900
          ],
          [
           279000
          ],
          [
           126500
          ],
          [
           194900
          ],
          [
           249900
          ],
          [
           128000
          ],
          [
           284990
          ],
          [
           189000
          ],
          [
           149900
          ],
          [
           134500
          ],
          [
           154900
          ],
          [
           249000
          ],
          [
           184900
          ],
          [
           171000
          ],
          [
           174900
          ],
          [
           195000
          ],
          [
           159900
          ],
          [
           164000
          ],
          [
           180000
          ],
          [
           200000
          ],
          [
           144900
          ],
          [
           196900
          ],
          [
           89995
          ],
          [
           185000
          ],
          [
           259900
          ],
          [
           207900
          ],
          [
           249000
          ],
          [
           238000
          ],
          [
           199900
          ],
          [
           197000
          ],
          [
           224900
          ],
          [
           174900
          ],
          [
           147490
          ],
          [
           301440
          ],
          [
           200000
          ],
          [
           193950
          ],
          [
           201700
          ],
          [
           295000
          ],
          [
           335195
          ],
          [
           184445
          ],
          [
           255848
          ],
          [
           265000
          ],
          [
           259450
          ],
          [
           238900
          ],
          [
           159450
          ],
          [
           237500
          ],
          [
           179498
          ],
          [
           168450
          ],
          [
           159000
          ],
          [
           199900
          ],
          [
           148450
          ],
          [
           237000
          ],
          [
           200000
          ],
          [
           332000
          ],
          [
           166400
          ],
          [
           154900
          ],
          [
           149200
          ],
          [
           129900
          ],
          [
           93450
          ],
          [
           297625
          ],
          [
           249900
          ],
          [
           129200
          ],
          [
           204950
          ],
          [
           249900
          ],
          [
           214950
          ],
          [
           290000
          ],
          [
           169200
          ],
          [
           199700
          ],
          [
           265000
          ],
          [
           196945
          ],
          [
           119900
          ],
          [
           121745
          ],
          [
           278700
          ],
          [
           285000
          ],
          [
           274900
          ],
          [
           179900
          ],
          [
           189000
          ],
          [
           231800
          ],
          [
           168900
          ],
          [
           231950
          ],
          [
           154900
          ],
          [
           215450
          ],
          [
           189900
          ]
         ],
         "hovertemplate": "<b>%{hovertext}</b><br><br>Class=%{marker.color}<br>PC 1=%{x}<br>PC 2=%{y}<br>PC 3=%{z}<br>median_listing_price=%{customdata[0]}<extra></extra>",
         "hovertext": [
          "Cherokee",
          "Craven",
          "Catawba",
          "Gaston",
          "Lenoir",
          "Beaufort",
          "Ashe",
          "Currituck",
          "Sampson",
          "Union",
          "Rowan",
          "Caswell",
          "Pasquotank",
          "Hyde",
          "Mcdowell",
          "Edgecombe",
          "Halifax",
          "Pamlico",
          "Yadkin",
          "Rutherford",
          "Columbus",
          "Clay",
          "Durham",
          "Wilson",
          "Hoke",
          "Tyrrell",
          "Davie",
          "Alamance",
          "Johnston",
          "Montgomery",
          "Jones",
          "Wayne",
          "Anson",
          "Richmond",
          "Orange",
          "Caldwell",
          "Wilkes",
          "Moore",
          "Mecklenburg",
          "Alleghany",
          "Cleveland",
          "Yancey",
          "Carteret",
          "Harnett",
          "Martin",
          "Bladen",
          "Chowan",
          "Bertie",
          "Haywood",
          "Alexander",
          "Cumberland",
          "Jackson",
          "Chatham",
          "Wake",
          "Avery",
          "Duplin",
          "Surry",
          "Robeson",
          "Iredell",
          "Cabarrus",
          "Forsyth",
          "Camden",
          "Mitchell",
          "Pitt",
          "Washington",
          "Person",
          "Randolph",
          "Granville",
          "Rockingham",
          "Franklin",
          "Warren",
          "Davie",
          "Chatham",
          "Macon",
          "Hertford",
          "Lee",
          "Currituck",
          "Richmond",
          "Gaston",
          "Wake",
          "Alleghany",
          "Pitt",
          "Onslow",
          "Nash",
          "Mcdowell",
          "Granville",
          "Henderson",
          "Yadkin",
          "Catawba",
          "Pasquotank",
          "Polk",
          "Wilson",
          "Tyrrell",
          "Johnston",
          "Carteret",
          "Hyde",
          "Davidson",
          "Rowan",
          "Cherokee",
          "Randolph",
          "Mecklenburg",
          "Wilkes",
          "Haywood",
          "Sampson",
          "Edgecombe",
          "Caswell",
          "Vance",
          "Avery",
          "Perquimans",
          "Robeson",
          "Clay",
          "Brunswick",
          "Gates",
          "Lincoln",
          "Lenoir",
          "Watauga",
          "Anson",
          "Moore",
          "Transylvania",
          "Surry",
          "Swain",
          "Pender",
          "Ashe",
          "Northampton",
          "Person",
          "Buncombe",
          "Cumberland",
          "Rockingham",
          "Columbus",
          "Madison",
          "Guilford",
          "Alamance",
          "Jackson",
          "Bladen",
          "Caldwell",
          "Forsyth",
          "Transylvania",
          "Chatham",
          "Brunswick",
          "Wilson",
          "Mcdowell",
          "Hertford",
          "Pender",
          "Burke",
          "Bladen",
          "Moore",
          "Pasquotank",
          "Catawba",
          "Richmond",
          "Halifax",
          "New hanover",
          "Swain",
          "Duplin",
          "Yadkin",
          "Wilkes",
          "Granville",
          "Camden",
          "Warren",
          "Avery",
          "Bertie",
          "Johnston",
          "Durham",
          "Onslow",
          "Alamance",
          "Lincoln",
          "Jackson",
          "Harnett",
          "Guilford",
          "Gates",
          "Pitt",
          "Person",
          "Northampton",
          "Greene",
          "Wayne",
          "Anson",
          "Iredell",
          "Wake",
          "Sampson",
          "Ashe",
          "Polk",
          "Union",
          "Lee",
          "Cleveland",
          "Haywood",
          "Graham",
          "Macon",
          "Henderson",
          "Watauga",
          "Hyde",
          "Alexander",
          "Carteret",
          "Randolph",
          "Tyrrell",
          "Davidson",
          "Cabarrus",
          "Alleghany",
          "Nash",
          "Rockingham",
          "Pamlico",
          "Martin",
          "Dare",
          "Perquimans",
          "Robeson",
          "Jones",
          "Scotland",
          "Polk",
          "Ashe",
          "Columbus",
          "Mcdowell",
          "Wilson",
          "Durham",
          "Wake",
          "Moore",
          "Washington",
          "Guilford",
          "Iredell",
          "Orange",
          "Chowan",
          "Lee",
          "Gaston",
          "Rutherford",
          "Jackson",
          "Alleghany",
          "Forsyth",
          "Nash",
          "Cabarrus",
          "Pender",
          "Watauga",
          "Lenoir",
          "Surry",
          "Wayne"
         ],
         "legendgroup": "0.0",
         "marker": {
          "color": [
           0,
           0,
           0,
           0,
           0,
           0,
           0,
           0,
           0,
           0,
           0,
           0,
           0,
           0,
           0,
           0,
           0,
           0,
           0,
           0,
           0,
           0,
           0,
           0,
           0,
           0,
           0,
           0,
           0,
           0,
           0,
           0,
           0,
           0,
           0,
           0,
           0,
           0,
           0,
           0,
           0,
           0,
           0,
           0,
           0,
           0,
           0,
           0,
           0,
           0,
           0,
           0,
           0,
           0,
           0,
           0,
           0,
           0,
           0,
           0,
           0,
           0,
           0,
           0,
           0,
           0,
           0,
           0,
           0,
           0,
           0,
           0,
           0,
           0,
           0,
           0,
           0,
           0,
           0,
           0,
           0,
           0,
           0,
           0,
           0,
           0,
           0,
           0,
           0,
           0,
           0,
           0,
           0,
           0,
           0,
           0,
           0,
           0,
           0,
           0,
           0,
           0,
           0,
           0,
           0,
           0,
           0,
           0,
           0,
           0,
           0,
           0,
           0,
           0,
           0,
           0,
           0,
           0,
           0,
           0,
           0,
           0,
           0,
           0,
           0,
           0,
           0,
           0,
           0,
           0,
           0,
           0,
           0,
           0,
           0,
           0,
           0,
           0,
           0,
           0,
           0,
           0,
           0,
           0,
           0,
           0,
           0,
           0,
           0,
           0,
           0,
           0,
           0,
           0,
           0,
           0,
           0,
           0,
           0,
           0,
           0,
           0,
           0,
           0,
           0,
           0,
           0,
           0,
           0,
           0,
           0,
           0,
           0,
           0,
           0,
           0,
           0,
           0,
           0,
           0,
           0,
           0,
           0,
           0,
           0,
           0,
           0,
           0,
           0,
           0,
           0,
           0,
           0,
           0,
           0,
           0,
           0,
           0,
           0,
           0,
           0,
           0,
           0,
           0,
           0,
           0,
           0,
           0,
           0,
           0,
           0,
           0,
           0,
           0,
           0,
           0,
           0,
           0,
           0,
           0,
           0,
           0,
           0,
           0,
           0,
           0,
           0,
           0,
           0,
           0,
           0
          ],
          "coloraxis": "coloraxis",
          "symbol": "circle"
         },
         "mode": "markers",
         "name": "0.0",
         "scene": "scene",
         "showlegend": true,
         "type": "scatter3d",
         "x": [
          -1.3037753290710525,
          2.1138595764086188,
          -1.7396689983559952,
          -1.6474128516293305,
          -2.2610271609546126,
          -1.788979870166847,
          -1.7658417598348783,
          -1.2084614244499803,
          -0.3681441867613629,
          -1.5508789569625863,
          -1.4709503524650231,
          -1.6415916096418972,
          -1.3556294025359075,
          0.7421939565310037,
          -1.3089369322757696,
          -0.5674583903321466,
          -1.9611451042430499,
          -0.9146035425749157,
          -1.3288054847375632,
          -1.12077875448368,
          -1.9229404566880712,
          1.5097742357264914,
          -2.3136139546606853,
          -2.096757955099158,
          -1.8072941102427975,
          -0.8524790834336445,
          -2.085007705516317,
          -1.0993208841938253,
          -0.4552052667257832,
          1.343190513938199,
          -1.6564563381304034,
          0.048023625183301256,
          -1.8221912372025515,
          0.3186190672461769,
          -1.4687343239107418,
          -1.2732401873725265,
          -1.4675446499840596,
          -0.7318237268060411,
          -1.0233065466630153,
          -0.2730922447077436,
          -1.5775788090545628,
          -1.6137939489216448,
          -1.7254910373106045,
          -1.8871695907180752,
          0.23015110801075137,
          -0.9368233916511148,
          -1.739365200742352,
          -0.2737884925721342,
          -1.3433006238972554,
          -1.31701624246566,
          -1.4107825569743309,
          -1.76518590608997,
          -1.2471507363468752,
          0.5769870080947076,
          -0.9820806355152999,
          0.19051348098343918,
          -0.723228958373993,
          2.8682913500670693,
          -2.1237531621237378,
          -1.5098699166256813,
          -1.5978070213111073,
          -1.775858421648261,
          1.6592720985157354,
          -1.8983624284622576,
          -1.4635814101119304,
          -2.343854739686676,
          -1.8031806529829049,
          -1.905735944981473,
          -1.30222116105689,
          -0.9508388303320007,
          -1.6199165126250346,
          -0.1526066843861883,
          -1.2726741817698894,
          -0.7728428108610066,
          -0.30112766648690154,
          -1.72012632062348,
          -1.3715574077109505,
          -0.32617411027665616,
          -1.6514523182905696,
          -2.0734978777088098,
          -1.8338242400916631,
          -1.21398282110496,
          -1.2679281717760993,
          1.5256987545556273,
          -1.1907920420919575,
          -1.4618244744347446,
          -1.249385108229701,
          0.6089000681531679,
          -0.8944579373286634,
          -0.519715663237218,
          -1.8628466721037247,
          -1.8412598379935288,
          0.882523116178924,
          -1.5539440684262118,
          -1.9996134499580747,
          -1.161927938924532,
          1.9315732228488702,
          -1.8463662679832815,
          -1.6099837680869808,
          -2.300431243620079,
          -0.8870178511318857,
          -1.5707450726195007,
          -1.0195298304304001,
          -1.7006329850143826,
          -1.171145375451442,
          -2.0054215366327957,
          -1.3600159421369922,
          0.9589925162208951,
          -0.6016113310269914,
          -1.933513969342025,
          3.52747498734316,
          -1.6896873564500896,
          -1.2055170212815367,
          -0.10257744336530795,
          0.026286102923234425,
          -0.24794319255317454,
          -0.9009034589802734,
          -1.2915694864352216,
          -0.7030384051419453,
          -1.4786437692909253,
          -1.390672203919746,
          -1.083151753014051,
          -1.2748977176904954,
          -1.8158453023121222,
          -0.49206595999031316,
          -1.9668725946648546,
          -1.1579826680816048,
          -1.4644980246224197,
          -0.5490383622642092,
          -1.6392865727216077,
          -0.10012073262315248,
          -1.2487698851128748,
          0.5000366764642756,
          -0.873583881326249,
          1.9980900878231938,
          -1.735110441048224,
          -1.3641732727488836,
          -1.9726565162954766,
          -1.698972080846386,
          -1.6167419100143743,
          -1.8760299291001916,
          1.354546388465578,
          3.5884859434720475,
          -0.19113106634887903,
          0.2468234233695062,
          -1.2526297666108313,
          2.0494016977714162,
          -0.3843666617087986,
          -1.1373318271804271,
          -0.8041567778063456,
          -1.145779709632718,
          -1.072579913470687,
          -1.3999582541995164,
          -1.3895715305187994,
          -0.8451976989163967,
          -1.5772255186663091,
          -1.6471887182821137,
          -1.4905455666801128,
          1.8980910638772064,
          -1.061304371544036,
          -0.4253140176519075,
          -0.8203508457986061,
          -1.7945614911248478,
          -0.9929629425674394,
          -1.6480549339916317,
          -1.9486237841202758,
          -1.2938685076717695,
          -1.1514236299428315,
          -1.7138910045072673,
          0.4934573100429081,
          -2.3252125974865283,
          -1.0549098853714258,
          -0.06465416568296004,
          -1.6259744075917284,
          0.8423931076723163,
          -0.10670220132397326,
          -1.1003028513487216,
          -0.13154472387079896,
          -0.5907066732220808,
          -1.1045929446674432,
          -1.4059579814384844,
          -0.8571220683043349,
          -1.6064605355484598,
          -0.18152012276167045,
          -1.0695500803772575,
          -0.6829548715209002,
          2.196605275676643,
          -0.9608930559123894,
          3.888841083031886,
          0.9867032284963507,
          -0.4722088045841006,
          0.6486142619209367,
          -1.5802293605949993,
          -0.9774208521994806,
          -1.11241002426633,
          -0.6216668183198416,
          -1.816862523332505,
          -0.10480240868239385,
          -1.555843175920038,
          -0.017793710493345827,
          -1.028710666961635,
          -0.4888403647439205,
          -2.045643446320264,
          2.2773749294678067,
          -1.30439064853812,
          -1.0579830435058377,
          -2.4060030995479935,
          -0.3823432460717485,
          1.1314254523654055,
          -1.27004175685185,
          -1.5436695322296392,
          -1.2404873850668716,
          -1.0245374883522467,
          -0.829001654655772,
          -0.9492818779807644,
          -1.6466254214765437,
          -1.2377440768469488,
          1.322600809459724,
          -1.9481185124217508,
          -1.4849132067467592,
          0.13604803706864216,
          -0.6417303169374242,
          -0.8205618184527096,
          -1.8978333898361117,
          -0.602742888605239,
          -1.0420653254432806,
          -1.5232340566185494,
          -1.733231400466487,
          -1.4320962684142826,
          0.13798098053199134,
          -1.801881005897459
         ],
         "y": [
          0.9172142825775202,
          -1.4299483266625581,
          0.012666252452080966,
          -0.4432975661587833,
          -0.4337144895015605,
          -1.6645211759012088,
          -2.4907908625849173,
          0.6837889033158047,
          -1.0959581963016107,
          -2.4567098586999725,
          0.459683861322848,
          -0.06122143385403965,
          0.1403108599155116,
          0.11426136413045689,
          -0.17146388540183735,
          0.5177408495697277,
          -1.1439859782789743,
          0.8016674095170049,
          -0.6813109606801325,
          0.6010971667535586,
          0.26805091744611076,
          -3.4280162681088884,
          -2.3885112002285482,
          -1.7335097465858684,
          -0.07338975030102805,
          -0.8498636782857865,
          -0.4037009553635449,
          0.5510157852882313,
          -0.5963410417293492,
          -2.371416972370376,
          0.17320879698895483,
          -0.8673648073570509,
          0.04954000620505179,
          -1.1745732533360738,
          -0.7995905828589434,
          0.18124807511710866,
          -1.0642316010081885,
          -0.7780461489285663,
          -0.911711069171295,
          -0.5475429696402823,
          -2.773416796825731,
          0.23496336171441298,
          -3.497645172293042,
          -1.3077700382655242,
          -0.5584558230763782,
          0.5478673061021307,
          0.4361023745319665,
          -0.7935529150950392,
          0.331913982148099,
          0.4452544376834438,
          -1.2837689317853382,
          -0.3853652418199773,
          0.5201573917535584,
          -0.5974134612016454,
          -0.5949240656449195,
          -1.0636934314315734,
          0.7727347566250641,
          -1.5353773332360685,
          -0.3532426372443908,
          -3.161307946210916,
          -2.769849404938387,
          0.11164365681290614,
          -2.503020711654097,
          -1.1353977260169836,
          -2.1276531311616056,
          -2.580298145928207,
          0.4757047922386048,
          -1.4671538232821149,
          0.8495344689471988,
          -1.0157799975217559,
          0.11441261450320701,
          -0.5351965178729464,
          0.02039626480858425,
          0.6627249198295286,
          0.5061862107474544,
          -0.13126974897749058,
          -0.5515304367470055,
          -1.0751965972402941,
          -0.2182651112258021,
          -1.9727819961345436,
          -0.9667676547285359,
          -0.8373801639277487,
          -0.018857125996400752,
          -3.1775889514458253,
          0.5608057811469562,
          -2.7292997982246217,
          -0.8509756380918733,
          -1.1528840420847541,
          0.3645658149461502,
          -0.9436809605364302,
          -0.07016556893272664,
          0.5592933187615677,
          -1.0608840843359464,
          0.18957555786991753,
          -1.808409477548184,
          0.268695792826271,
          -3.456372955841637,
          -0.9205817574853378,
          0.12774479000251743,
          -2.4551274475623996,
          -0.746426132695863,
          -2.062974380596977,
          -0.7825990691423544,
          0.48990959885201857,
          -0.8254676995718905,
          -1.634577906909638,
          0.5645669824062781,
          -1.2474518760819946,
          0.6493499108891115,
          -0.9829291366268402,
          -1.914058922827997,
          -2.666726706268405,
          -0.6399704153649115,
          -0.609427401452442,
          0.2688980449271886,
          -1.2228331530777943,
          -0.877717960926507,
          -0.03324433805800187,
          0.5324152357044909,
          -2.9715660734640266,
          -1.2511684536376255,
          0.7054975466995594,
          0.14891473445538478,
          -1.4645967266893514,
          -0.9161793423485871,
          -0.8706034624406072,
          -0.21562511721524913,
          -2.7544755786133783,
          0.6624308530451055,
          0.28854998412771443,
          -0.535760744184198,
          0.1789591073538704,
          -0.6531060918299708,
          0.8202914606839122,
          -2.4515686018563096,
          -0.36118890915901497,
          -0.014781173997794678,
          -1.8714565190005041,
          -0.16464392968556016,
          -2.4963944152782247,
          -0.840499546124264,
          -0.2808381525331505,
          -1.9462130943754443,
          -0.4778130091368125,
          -0.9738154766853007,
          0.35222871889684876,
          -2.455511135898576,
          0.6271727770953234,
          0.8365400185104497,
          -0.07857003060249207,
          -3.389420444602345,
          -0.00475641894812631,
          0.09728680543368128,
          -2.7931575174039076,
          0.5438722288637452,
          0.10901503940510432,
          -1.362661887889559,
          -2.087144208862386,
          -3.220704900095159,
          0.5540054440152046,
          -1.4204974326711488,
          -1.0827845881887628,
          0.38748776455542316,
          -0.6362739392273448,
          -0.3519481129188073,
          -1.7691066702614495,
          -0.07760429494181532,
          -0.526371417346729,
          -1.0773057307128153,
          -0.8385687496828814,
          -2.5179494837730285,
          -0.19374933986216802,
          0.30601117029914354,
          -0.255450496989357,
          -0.6446329855900845,
          -0.3684859910558587,
          -0.886402322597005,
          -1.293267516860865,
          0.40927807674436245,
          -0.45370781656442255,
          -1.3088567049824762,
          1.208284805357778,
          -0.18652325869381012,
          -0.9819219077623695,
          -0.9115914352298129,
          1.0342123490356159,
          -2.41283951703404,
          -0.4095708020253905,
          -2.1172617229919077,
          0.02945159205878976,
          1.0724950870175658,
          -1.2484602309294701,
          -0.47328808807138084,
          0.6689648407667761,
          -0.1666311527645427,
          -1.3131268364003599,
          -0.8529480208772899,
          -1.0906759882524681,
          -1.3833800115626007,
          -0.6418677745346532,
          -0.12081749405512408,
          0.632738674874873,
          0.06837598305087267,
          -3.2689014265343483,
          -1.2713976491643009,
          -3.481764568662284,
          -2.3260902236675496,
          0.8632971694760979,
          -0.9867780566218284,
          -2.967726815056753,
          -0.19050360271369787,
          0.08309461182508046,
          -0.5488395439120608,
          0.23758006703570977,
          -1.1360501290437472,
          -0.4006935189784068,
          -0.08611112855438588,
          -1.0110877986148767,
          -1.8793923258007932,
          -2.3592055395637974,
          0.5032679807960795,
          0.35878152917235545,
          0.6215158277995085,
          -0.922493400111234,
          -0.7288797658251738,
          0.10091308453559208,
          -0.13414458550128863,
          0.21576264235376733,
          -1.6333867767988728,
          -0.6743907107124862,
          -2.3054053350987895
         ],
         "z": [
          0.6672497279766686,
          0.19041384895894456,
          0.1627845034997221,
          1.4284293211754182,
          1.3156532399931211,
          1.1430519821626839,
          -0.11816056408777735,
          -1.8999770736143469,
          -0.00935684113429019,
          -0.06055944983415675,
          0.975725162144845,
          0.798814397117872,
          -0.6529080736043449,
          -0.7284318335185689,
          -0.5962923483189659,
          -0.31346036546625433,
          2.2179984755547975,
          0.5079488992567145,
          -0.22470134595093202,
          -1.0583016901807336,
          -2.5607101595501693,
          0.9634884357153377,
          1.5594119714870043,
          1.8870352100955703,
          1.2361171811275282,
          0.5618447783234575,
          1.0321670619077836,
          -1.0387083636724959,
          -1.5228893793482334,
          -1.845425759052386,
          1.3020776870485948,
          -0.8400371679301543,
          -1.1427503308284943,
          -1.6050821614170212,
          -0.07116186741715291,
          -0.028205537773445352,
          -0.48351981435662894,
          -1.162478047640521,
          0.21405085221560677,
          -0.6862482262707563,
          0.8935802493691489,
          -0.5349215904594052,
          1.3996176697881575,
          0.1284745357131561,
          1.1134046195280367,
          -0.5178616745909006,
          0.5000770566935061,
          0.26935667777470385,
          1.9837844717064843,
          -0.6703593429189163,
          0.6044854709708131,
          1.376274382596292,
          0.0052279542828457945,
          2.2504437172903864,
          0.2955185143180457,
          0.12012697878493123,
          0.8784832717798197,
          -0.10626651346476221,
          -0.428882719700187,
          1.9319512509386532,
          -0.11712389261547741,
          0.7779246811791403,
          -0.676822567258714,
          -0.4212364853786353,
          1.0972077081949088,
          2.597194438174196,
          2.341907350558781,
          0.26417426742235495,
          -1.0393376742180762,
          0.5599893029449677,
          -0.04010330323943928,
          0.5092368124081981,
          -0.04542134496509953,
          0.24263053023044848,
          0.4641793554698976,
          0.7523658618237636,
          1.1054652638604512,
          0.6221450331318923,
          0.8518461713394655,
          1.3734470602630855,
          3.100122175790321,
          0.6568684348121435,
          1.2457634513408564,
          1.2261503934273312,
          0.9047981506347399,
          1.414133642123049,
          0.47604373897026586,
          -0.7121106972741509,
          -0.04993639629867744,
          1.2562601844073495,
          2.4637938005652935,
          -0.37086349093916016,
          -0.5500395276905966,
          1.8441427734208145,
          -0.015988403516332985,
          0.04941236516329078,
          1.658953661633076,
          0.5900409973680251,
          0.9932787723453743,
          2.993183600455558,
          1.106877370797673,
          1.5981809484394245,
          -0.15985627672383032,
          -1.467966577516619,
          -0.29652160094490204,
          2.0672045982990355,
          -1.4829718673902321,
          -0.11301271659041855,
          0.21740810007039513,
          1.8436334774229708,
          -0.5558854374957015,
          -2.3438913015230565,
          0.9351077254921288,
          0.7477693658453826,
          0.12156187386636415,
          0.3152205139628475,
          -0.655861280086465,
          0.45824120929134315,
          0.060423896700106214,
          0.04973479277827692,
          0.47637511795852117,
          -0.7885128424003102,
          -0.5360167363530057,
          1.1296579010932744,
          0.31164263705686146,
          1.0010705830859672,
          -0.02638752391247222,
          1.2129600127377915,
          1.0648992024245023,
          0.8751862693151835,
          0.25241513046841774,
          -1.4710567789524578,
          1.9925425295743473,
          -0.5453704133886256,
          -0.8787098944330595,
          -0.577388076503053,
          -1.43593683004761,
          -1.0626342792575727,
          -0.4194090298119781,
          -0.11513284752624077,
          0.8184606825628679,
          -1.356218707015655,
          -1.8230104302134396,
          -0.9845741992276276,
          -2.075067809755917,
          -2.477229945389812,
          -2.2155076491597856,
          -0.6748850000454564,
          -0.6780873725744109,
          -0.5285727200800114,
          -2.5374479501086222,
          -1.2011411020800715,
          0.4050141854948073,
          0.24011578450969973,
          -1.0820859746351241,
          -2.4487693527907286,
          -0.3146174490667724,
          -1.9269227535292812,
          0.5804737973053717,
          -1.152914313104942,
          -0.11004924372214156,
          -1.6589290139270245,
          -0.06439644215516463,
          -0.6258722817291017,
          -0.33138133192690167,
          0.8839712637313911,
          0.5095252981594013,
          0.3405157989029982,
          1.8564893081947524,
          0.5532882032459865,
          1.6946086722500022,
          -0.969156910104637,
          -0.513005661951868,
          -1.8333910046885709,
          -1.4547664112595675,
          -1.9783741143082705,
          -0.47855980598065284,
          -0.5928644647509681,
          0.7430247693728816,
          -0.3617395448192256,
          0.291018166360267,
          -1.5544482146845682,
          -0.5264703362201756,
          -1.5947511236125766,
          -2.0468541468300767,
          -0.8589029538476087,
          -2.880389078482124,
          -1.8632956682552626,
          -2.0661678246478155,
          -2.03018937045939,
          -2.7355028513258697,
          -1.601495430791795,
          -0.2583994780245604,
          -0.0949576892102937,
          0.7933004560108781,
          -0.08246427993560192,
          0.23343452709400275,
          -0.44894542257570724,
          -1.1188956109651789,
          -2.131004410876661,
          -1.5211151448635043,
          -1.0710880441047996,
          -0.7039408288898471,
          0.2606663779599202,
          -0.46417469504102465,
          -2.5387464082327234,
          0.16840674446182158,
          -2.193336000777873,
          -1.1659687910647314,
          -1.7766007323435486,
          0.5125924180352336,
          -0.08324502847149522,
          0.12004479761536153,
          -1.1588896529987436,
          -1.4200185604681252,
          -1.1885913635818732,
          -1.7924129872487278,
          0.03253762760546722,
          1.7062780936497992,
          -0.7587331626117896,
          -2.45710577024759,
          -1.0735438754678364,
          -1.2036029867499538,
          -0.283938890725319,
          -1.1894760479118822,
          -3.1287407616,
          0.09489744285068198,
          -1.155977016832818,
          0.42583013429899264,
          -1.5071811807563715,
          0.4024672287287185
         ]
        },
        {
         "customdata": [
          [
           400000
          ],
          [
           439000
          ],
          [
           299990
          ],
          [
           159000
          ],
          [
           329900
          ],
          [
           399000
          ],
          [
           375000
          ],
          [
           539900
          ],
          [
           327500
          ],
          [
           424500
          ],
          [
           419000
          ],
          [
           319950
          ],
          [
           302475
          ],
          [
           269900
          ],
          [
           385000
          ],
          [
           289000
          ],
          [
           304900
          ],
          [
           314900
          ],
          [
           399900
          ],
          [
           317475
          ],
          [
           302500
          ],
          [
           347000
          ],
          [
           269900
          ],
          [
           394500
          ],
          [
           319438
          ],
          [
           164950
          ],
          [
           389479
          ],
          [
           549000
          ],
          [
           372450
          ],
          [
           429000
          ],
          [
           410000
          ],
          [
           399450
          ],
          [
           424750
          ],
          [
           310500
          ],
          [
           419500
          ],
          [
           284900
          ],
          [
           268900
          ],
          [
           308750
          ],
          [
           328200
          ],
          [
           268900
          ],
          [
           434900
          ],
          [
           322900
          ],
          [
           349950
          ],
          [
           417250
          ],
          [
           417000
          ],
          [
           394000
          ],
          [
           300000
          ],
          [
           429000
          ],
          [
           326950
          ],
          [
           402139
          ],
          [
           288000
          ],
          [
           309587
          ],
          [
           169900
          ],
          [
           547000
          ],
          [
           332200
          ],
          [
           378500
          ],
          [
           400000
          ],
          [
           274900
          ],
          [
           303480
          ],
          [
           425000
          ],
          [
           279000
          ],
          [
           429000
          ],
          [
           174900
          ],
          [
           419000
          ],
          [
           375000
          ],
          [
           397000
          ],
          [
           298000
          ],
          [
           549000
          ],
          [
           309173
          ],
          [
           299501
          ],
          [
           334500
          ],
          [
           339000
          ],
          [
           414000
          ],
          [
           329900
          ],
          [
           434900
          ],
          [
           414900
          ],
          [
           350000
          ],
          [
           428903
          ],
          [
           339700
          ],
          [
           544400
          ],
          [
           277450
          ],
          [
           350000
          ],
          [
           305000
          ],
          [
           178900
          ],
          [
           425000
          ],
          [
           417250
          ],
          [
           334950
          ],
          [
           399000
          ],
          [
           419000
          ],
          [
           429000
          ],
          [
           327500
          ],
          [
           372000
          ],
          [
           298850
          ],
          [
           431950
          ]
         ],
         "hovertemplate": "<b>%{hovertext}</b><br><br>Class=%{marker.color}<br>PC 1=%{x}<br>PC 2=%{y}<br>PC 3=%{z}<br>median_listing_price=%{customdata[0]}<extra></extra>",
         "hovertext": [
          "Warren",
          "Lee",
          "Henderson",
          "Hertford",
          "Onslow",
          "Graham",
          "Buncombe",
          "Pender",
          "Franklin",
          "Gates",
          "Perquimans",
          "Guilford",
          "Northampton",
          "Brunswick",
          "Lincoln",
          "Nash",
          "Madison",
          "Scotland",
          "Burke",
          "Vance",
          "Greene",
          "Watauga",
          "Davidson",
          "Stanly",
          "New hanover",
          "Swain",
          "Polk",
          "Macon",
          "Stokes",
          "Chowan",
          "New hanover",
          "Washington",
          "Halifax",
          "Beaufort",
          "Orange",
          "Mitchell",
          "Pamlico",
          "Union",
          "Bertie",
          "Durham",
          "Dare",
          "Yancey",
          "Camden",
          "Greene",
          "Hoke",
          "Montgomery",
          "Duplin",
          "Stanly",
          "Graham",
          "Jones",
          "Stokes",
          "Scotland",
          "Martin",
          "Iredell",
          "Alexander",
          "Craven",
          "Rutherford",
          "Burke",
          "Forsyth",
          "Stanly",
          "Montgomery",
          "Columbus",
          "Cherokee",
          "Davie",
          "Yancey",
          "Caswell",
          "Rowan",
          "Franklin",
          "Washington",
          "Gaston",
          "Rutherford",
          "Hoke",
          "Orange",
          "Lenoir",
          "Mecklenburg",
          "Surry",
          "Buncombe",
          "Caldwell",
          "Stokes",
          "Craven",
          "Vance",
          "Edgecombe",
          "Clay",
          "Mitchell",
          "Beaufort",
          "Gates",
          "Camden",
          "Johnston",
          "Montgomery",
          "Duplin",
          "Greene",
          "Buncombe",
          "Hoke",
          "Lincoln"
         ],
         "legendgroup": "2.0",
         "marker": {
          "color": [
           2,
           2,
           2,
           2,
           2,
           2,
           2,
           2,
           2,
           2,
           2,
           2,
           2,
           2,
           2,
           2,
           2,
           2,
           2,
           2,
           2,
           2,
           2,
           2,
           2,
           2,
           2,
           2,
           2,
           2,
           2,
           2,
           2,
           2,
           2,
           2,
           2,
           2,
           2,
           2,
           2,
           2,
           2,
           2,
           2,
           2,
           2,
           2,
           2,
           2,
           2,
           2,
           2,
           2,
           2,
           2,
           2,
           2,
           2,
           2,
           2,
           2,
           2,
           2,
           2,
           2,
           2,
           2,
           2,
           2,
           2,
           2,
           2,
           2,
           2,
           2,
           2,
           2,
           2,
           2,
           2,
           2,
           2,
           2,
           2,
           2,
           2,
           2,
           2,
           2,
           2,
           2,
           2,
           2
          ],
          "coloraxis": "coloraxis",
          "symbol": "diamond"
         },
         "mode": "markers",
         "name": "2.0",
         "scene": "scene",
         "showlegend": true,
         "type": "scatter3d",
         "x": [
          -0.1320683709110543,
          -1.1791879005718546,
          1.2415400131854637,
          -0.10923853303818068,
          -0.9217052832402517,
          1.8356580816461145,
          2.592376204778225,
          0.1072193786953302,
          1.5549387195930089,
          -0.7006676117017281,
          -0.3016642470225889,
          -0.6067397206165898,
          -1.1315843173248092,
          3.7866714037620715,
          0.16967458771576696,
          -0.987428573461631,
          0.34957907162733204,
          1.5633586705510158,
          -0.8124196172864833,
          -0.38472966015999976,
          1.4042798104143162,
          1.8842645694008775,
          4.235964721726801,
          -0.6285755796691637,
          1.639791162809707,
          0.2774878241337523,
          1.8405713347984891,
          0.2838746256739084,
          0.46961282467643334,
          -1.0009197962482155,
          -0.1809629898341744,
          2.6183661798930054,
          -0.18126925691752496,
          -0.862794325759273,
          -0.5642014203511584,
          -0.8638241738311393,
          0.8807888865871173,
          0.35077582191488854,
          -0.8720954324311757,
          1.0829566313563899,
          -0.132708502378765,
          1.8394613562742461,
          1.8276213358414448,
          0.028110322263294126,
          -0.2599506544558518,
          -0.43315986358337294,
          1.6950492682138159,
          -0.8371030844060896,
          -0.19062321664256798,
          2.2533498854591096,
          -0.7558033825206155,
          0.5162063035677877,
          0.6086941262417443,
          0.37932157290754476,
          -0.7845998047605471,
          0.6466855266340701,
          2.9159149874851193,
          4.486374864181114,
          -0.8001965247006434,
          0.36506231644644654,
          4.458242876959934,
          -0.8133777857975956,
          0.8664697810664218,
          -0.016480456479635478,
          1.7037136661563126,
          -0.27063266490188453,
          -0.6466115572391387,
          0.48926537398889003,
          0.407121484298256,
          1.7811447591851097,
          -0.4905891462477671,
          1.9205583454983015,
          3.1030271152245223,
          -0.043912916057811086,
          -0.13194476136169012,
          2.30589084789603,
          2.000155780215749,
          0.2487142117833111,
          2.6207511316685226,
          0.527957708172022,
          5.0310415396010395,
          2.19279264087633,
          0.8766987185884448,
          1.5255605445275322,
          2.847345921249371,
          -0.05327059397178533,
          0.05377809994698687,
          -0.02272863630949893,
          2.441623536219801,
          -0.7888132801619258,
          0.212407674527113,
          1.0024782846224622,
          1.5482599471400649,
          -0.015446273155796327
         ],
         "y": [
          1.9808801865566068,
          3.67526460122381,
          0.7825268360337473,
          1.2405784251787446,
          1.5291918079999938,
          1.3449591204913816,
          1.7595614733750367,
          4.342582364677004,
          1.5155568368079873,
          3.811151837934998,
          2.632058360048754,
          2.005901707070864,
          1.471107461782895,
          -1.284113715205084,
          2.3742459107530545,
          1.2140364586527368,
          1.808693603815127,
          0.9542908584958283,
          3.4450605581626683,
          1.940500895277524,
          0.882711955553615,
          1.8663478797256172,
          -1.2864822739738313,
          3.271671486483164,
          1.0342902799180052,
          1.4954781568239277,
          2.9959384060671987,
          4.577637477572266,
          2.121053194148535,
          3.360044135604806,
          2.2470985349724573,
          0.9157829290879127,
          2.4785838354324827,
          1.6241030410722455,
          3.774612315885354,
          1.107172455077582,
          0.15635093392847224,
          1.7800945062824824,
          1.4011849530644498,
          0.11594677235570448,
          2.573254974158405,
          1.029804273395639,
          2.057002449529934,
          2.482121977380484,
          3.451718077384646,
          3.2149328256294916,
          0.8123129865260063,
          3.2878951908167737,
          2.2136556456479943,
          3.1012445077135387,
          1.0879416754931668,
          1.7621039543425359,
          0.8562181589971839,
          4.483909809445025,
          1.3858295869300037,
          2.3239483049195986,
          1.075490581125772,
          -1.0053211936538142,
          1.4144871697628953,
          1.95454873547131,
          -1.012483387115118,
          3.2630515274579257,
          1.2166571633775112,
          3.1597892839354715,
          1.4675992331121626,
          3.1669228315656013,
          1.1057920299466826,
          4.361025702907996,
          1.7241353479937023,
          0.7033403774332926,
          1.2132357197088754,
          1.1221129603832547,
          0.8463331261092579,
          2.088762835572184,
          2.5587284586186367,
          3.200476127191317,
          1.9298802630888765,
          2.162108281908235,
          0.9950636615308303,
          4.246883218736414,
          -1.5228141413441336,
          1.9098675284399682,
          1.59089960779317,
          1.3212550739950504,
          1.1378799103876,
          3.1140976681772448,
          2.1877271438858132,
          2.7065136407011976,
          3.0528684691957024,
          3.192574189348092,
          1.110344432928151,
          2.0526684330550116,
          0.6500182205678703,
          2.434313053870777
         ],
         "z": [
          0.09463426663730251,
          1.1714274630627983,
          -1.872327254621252,
          3.4110848506207345,
          1.3285509299340004,
          0.16066704172025892,
          -1.1491609880413758,
          -1.3230805696912067,
          -0.4774589644138125,
          2.1515206796338586,
          0.634014850773314,
          -1.0293966545863447,
          0.4506145148717495,
          -1.0491437910079506,
          -1.0663769543863,
          0.435098833955805,
          0.13689418060265704,
          2.2207950499077973,
          1.2302306446036964,
          0.29877471339698064,
          -1.2090784363597042,
          -0.5776727127501762,
          -0.4552815726637959,
          2.1018636942078865,
          3.03936735183673,
          4.719291125272915,
          -0.7271269519126625,
          -1.213366180925153,
          0.476204861019669,
          1.5199189464067941,
          0.07952474480923148,
          1.1057012406717566,
          2.5459305796992373,
          0.47976558406849557,
          2.9106239481926384,
          1.537775351441477,
          -0.1802438696413956,
          0.6938319839861807,
          3.4352419228863305,
          -0.26230332801824163,
          1.694520483912204,
          3.281471605527344,
          -0.8354732812677522,
          -0.40149139846686915,
          2.44346567048208,
          1.7960754419973204,
          -1.2627691886541468,
          1.3054117152126428,
          -0.7326923958559145,
          -0.9179565555695718,
          1.5503614038828808,
          0.41616088021739145,
          3.096658428827904,
          -1.1246699747041153,
          2.9010708715796274,
          -0.24589340904952475,
          0.9545161531555327,
          -0.5764309459072365,
          0.21831155455095658,
          -1.5759219813954177,
          -1.3081971739078573,
          0.6396980895644252,
          2.2071248398683028,
          0.18954643666991225,
          -1.0580228907664722,
          0.4629370458401729,
          -0.2666053155046438,
          -2.2412004834512453,
          -0.8821186255775391,
          -2.2841107962144145,
          0.9180096686239974,
          1.4227687864799061,
          0.13964511229836782,
          -0.9391790403189578,
          1.0886454148524856,
          -2.3955198285967265,
          -1.9900963017092392,
          -2.572590394882332,
          1.0435520974669643,
          -3.439536553457142,
          -1.8073468662988446,
          -2.2891009105106517,
          -1.0672408453519864,
          8.32085296468389,
          -1.1329555363879398,
          -0.6047466178219744,
          -2.119935993547669,
          -0.10435754713787172,
          -1.8193631883198764,
          0.41534277370882194,
          0.2900003613642433,
          -1.371184553227279,
          -2.8359971191514823,
          0.49486071756274663
         ]
        },
        {
         "customdata": [
          [
           359000
          ],
          [
           390590
          ],
          [
           394475
          ],
          [
           362425
          ],
          [
           366513
          ],
          [
           398000
          ],
          [
           399950
          ],
          [
           375000
          ],
          [
           407874
          ],
          [
           375000
          ]
         ],
         "hovertemplate": "<b>%{hovertext}</b><br><br>Class=%{marker.color}<br>PC 1=%{x}<br>PC 2=%{y}<br>PC 3=%{z}<br>median_listing_price=%{customdata[0]}<extra></extra>",
         "hovertext": [
          "Dare",
          "Transylvania",
          "Harnett",
          "Cleveland",
          "Wayne",
          "Cabarrus",
          "Madison",
          "Currituck",
          "Chowan",
          "Cumberland"
         ],
         "legendgroup": "1.0",
         "marker": {
          "color": [
           1,
           1,
           1,
           1,
           1,
           1,
           1,
           1,
           1,
           1
          ],
          "coloraxis": "coloraxis",
          "symbol": "square"
         },
         "mode": "markers",
         "name": "1.0",
         "scene": "scene",
         "showlegend": true,
         "type": "scatter3d",
         "x": [
          11.209825916535733,
          11.29873770779712,
          13.363161487753251,
          13.475876920269586,
          14.084992733762228,
          13.913120661591417,
          14.193099399431023,
          13.784740915683386,
          14.572640943489683,
          14.188575620759929
         ],
         "y": [
          -1.7851069054363446,
          0.030694395486548075,
          -0.1873517237532961,
          -2.035462814148867,
          -2.0954968060959427,
          -0.2163205350079466,
          -0.21792407808694966,
          -1.2540781208022138,
          -0.24010818153215913,
          -1.30964700565805
         ],
         "z": [
          0.37685909472888857,
          0.8100694498231812,
          2.1507098090720187,
          1.6507995550690888,
          1.7161488786136292,
          1.952706610625245,
          0.9246795792616692,
          -0.18799216078105643,
          0.17219967150678944,
          -0.22635387208409652
         ]
        }
       ],
       "layout": {
        "coloraxis": {
         "colorbar": {
          "title": {
           "text": "Class"
          }
         },
         "colorscale": [
          [
           0,
           "#0d0887"
          ],
          [
           0.1111111111111111,
           "#46039f"
          ],
          [
           0.2222222222222222,
           "#7201a8"
          ],
          [
           0.3333333333333333,
           "#9c179e"
          ],
          [
           0.4444444444444444,
           "#bd3786"
          ],
          [
           0.5555555555555556,
           "#d8576b"
          ],
          [
           0.6666666666666666,
           "#ed7953"
          ],
          [
           0.7777777777777778,
           "#fb9f3a"
          ],
          [
           0.8888888888888888,
           "#fdca26"
          ],
          [
           1,
           "#f0f921"
          ]
         ]
        },
        "legend": {
         "title": {
          "text": "Class"
         },
         "tracegroupgap": 0,
         "x": 0,
         "y": 1
        },
        "margin": {
         "t": 60
        },
        "scene": {
         "domain": {
          "x": [
           0,
           1
          ],
          "y": [
           0,
           1
          ]
         },
         "xaxis": {
          "title": {
           "text": "PC 1"
          }
         },
         "yaxis": {
          "title": {
           "text": "PC 2"
          }
         },
         "zaxis": {
          "title": {
           "text": "PC 3"
          }
         }
        },
        "template": {
         "data": {
          "bar": [
           {
            "error_x": {
             "color": "#2a3f5f"
            },
            "error_y": {
             "color": "#2a3f5f"
            },
            "marker": {
             "line": {
              "color": "#E5ECF6",
              "width": 0.5
             },
             "pattern": {
              "fillmode": "overlay",
              "size": 10,
              "solidity": 0.2
             }
            },
            "type": "bar"
           }
          ],
          "barpolar": [
           {
            "marker": {
             "line": {
              "color": "#E5ECF6",
              "width": 0.5
             },
             "pattern": {
              "fillmode": "overlay",
              "size": 10,
              "solidity": 0.2
             }
            },
            "type": "barpolar"
           }
          ],
          "carpet": [
           {
            "aaxis": {
             "endlinecolor": "#2a3f5f",
             "gridcolor": "white",
             "linecolor": "white",
             "minorgridcolor": "white",
             "startlinecolor": "#2a3f5f"
            },
            "baxis": {
             "endlinecolor": "#2a3f5f",
             "gridcolor": "white",
             "linecolor": "white",
             "minorgridcolor": "white",
             "startlinecolor": "#2a3f5f"
            },
            "type": "carpet"
           }
          ],
          "choropleth": [
           {
            "colorbar": {
             "outlinewidth": 0,
             "ticks": ""
            },
            "type": "choropleth"
           }
          ],
          "contour": [
           {
            "colorbar": {
             "outlinewidth": 0,
             "ticks": ""
            },
            "colorscale": [
             [
              0,
              "#0d0887"
             ],
             [
              0.1111111111111111,
              "#46039f"
             ],
             [
              0.2222222222222222,
              "#7201a8"
             ],
             [
              0.3333333333333333,
              "#9c179e"
             ],
             [
              0.4444444444444444,
              "#bd3786"
             ],
             [
              0.5555555555555556,
              "#d8576b"
             ],
             [
              0.6666666666666666,
              "#ed7953"
             ],
             [
              0.7777777777777778,
              "#fb9f3a"
             ],
             [
              0.8888888888888888,
              "#fdca26"
             ],
             [
              1,
              "#f0f921"
             ]
            ],
            "type": "contour"
           }
          ],
          "contourcarpet": [
           {
            "colorbar": {
             "outlinewidth": 0,
             "ticks": ""
            },
            "type": "contourcarpet"
           }
          ],
          "heatmap": [
           {
            "colorbar": {
             "outlinewidth": 0,
             "ticks": ""
            },
            "colorscale": [
             [
              0,
              "#0d0887"
             ],
             [
              0.1111111111111111,
              "#46039f"
             ],
             [
              0.2222222222222222,
              "#7201a8"
             ],
             [
              0.3333333333333333,
              "#9c179e"
             ],
             [
              0.4444444444444444,
              "#bd3786"
             ],
             [
              0.5555555555555556,
              "#d8576b"
             ],
             [
              0.6666666666666666,
              "#ed7953"
             ],
             [
              0.7777777777777778,
              "#fb9f3a"
             ],
             [
              0.8888888888888888,
              "#fdca26"
             ],
             [
              1,
              "#f0f921"
             ]
            ],
            "type": "heatmap"
           }
          ],
          "heatmapgl": [
           {
            "colorbar": {
             "outlinewidth": 0,
             "ticks": ""
            },
            "colorscale": [
             [
              0,
              "#0d0887"
             ],
             [
              0.1111111111111111,
              "#46039f"
             ],
             [
              0.2222222222222222,
              "#7201a8"
             ],
             [
              0.3333333333333333,
              "#9c179e"
             ],
             [
              0.4444444444444444,
              "#bd3786"
             ],
             [
              0.5555555555555556,
              "#d8576b"
             ],
             [
              0.6666666666666666,
              "#ed7953"
             ],
             [
              0.7777777777777778,
              "#fb9f3a"
             ],
             [
              0.8888888888888888,
              "#fdca26"
             ],
             [
              1,
              "#f0f921"
             ]
            ],
            "type": "heatmapgl"
           }
          ],
          "histogram": [
           {
            "marker": {
             "pattern": {
              "fillmode": "overlay",
              "size": 10,
              "solidity": 0.2
             }
            },
            "type": "histogram"
           }
          ],
          "histogram2d": [
           {
            "colorbar": {
             "outlinewidth": 0,
             "ticks": ""
            },
            "colorscale": [
             [
              0,
              "#0d0887"
             ],
             [
              0.1111111111111111,
              "#46039f"
             ],
             [
              0.2222222222222222,
              "#7201a8"
             ],
             [
              0.3333333333333333,
              "#9c179e"
             ],
             [
              0.4444444444444444,
              "#bd3786"
             ],
             [
              0.5555555555555556,
              "#d8576b"
             ],
             [
              0.6666666666666666,
              "#ed7953"
             ],
             [
              0.7777777777777778,
              "#fb9f3a"
             ],
             [
              0.8888888888888888,
              "#fdca26"
             ],
             [
              1,
              "#f0f921"
             ]
            ],
            "type": "histogram2d"
           }
          ],
          "histogram2dcontour": [
           {
            "colorbar": {
             "outlinewidth": 0,
             "ticks": ""
            },
            "colorscale": [
             [
              0,
              "#0d0887"
             ],
             [
              0.1111111111111111,
              "#46039f"
             ],
             [
              0.2222222222222222,
              "#7201a8"
             ],
             [
              0.3333333333333333,
              "#9c179e"
             ],
             [
              0.4444444444444444,
              "#bd3786"
             ],
             [
              0.5555555555555556,
              "#d8576b"
             ],
             [
              0.6666666666666666,
              "#ed7953"
             ],
             [
              0.7777777777777778,
              "#fb9f3a"
             ],
             [
              0.8888888888888888,
              "#fdca26"
             ],
             [
              1,
              "#f0f921"
             ]
            ],
            "type": "histogram2dcontour"
           }
          ],
          "mesh3d": [
           {
            "colorbar": {
             "outlinewidth": 0,
             "ticks": ""
            },
            "type": "mesh3d"
           }
          ],
          "parcoords": [
           {
            "line": {
             "colorbar": {
              "outlinewidth": 0,
              "ticks": ""
             }
            },
            "type": "parcoords"
           }
          ],
          "pie": [
           {
            "automargin": true,
            "type": "pie"
           }
          ],
          "scatter": [
           {
            "marker": {
             "colorbar": {
              "outlinewidth": 0,
              "ticks": ""
             }
            },
            "type": "scatter"
           }
          ],
          "scatter3d": [
           {
            "line": {
             "colorbar": {
              "outlinewidth": 0,
              "ticks": ""
             }
            },
            "marker": {
             "colorbar": {
              "outlinewidth": 0,
              "ticks": ""
             }
            },
            "type": "scatter3d"
           }
          ],
          "scattercarpet": [
           {
            "marker": {
             "colorbar": {
              "outlinewidth": 0,
              "ticks": ""
             }
            },
            "type": "scattercarpet"
           }
          ],
          "scattergeo": [
           {
            "marker": {
             "colorbar": {
              "outlinewidth": 0,
              "ticks": ""
             }
            },
            "type": "scattergeo"
           }
          ],
          "scattergl": [
           {
            "marker": {
             "colorbar": {
              "outlinewidth": 0,
              "ticks": ""
             }
            },
            "type": "scattergl"
           }
          ],
          "scattermapbox": [
           {
            "marker": {
             "colorbar": {
              "outlinewidth": 0,
              "ticks": ""
             }
            },
            "type": "scattermapbox"
           }
          ],
          "scatterpolar": [
           {
            "marker": {
             "colorbar": {
              "outlinewidth": 0,
              "ticks": ""
             }
            },
            "type": "scatterpolar"
           }
          ],
          "scatterpolargl": [
           {
            "marker": {
             "colorbar": {
              "outlinewidth": 0,
              "ticks": ""
             }
            },
            "type": "scatterpolargl"
           }
          ],
          "scatterternary": [
           {
            "marker": {
             "colorbar": {
              "outlinewidth": 0,
              "ticks": ""
             }
            },
            "type": "scatterternary"
           }
          ],
          "surface": [
           {
            "colorbar": {
             "outlinewidth": 0,
             "ticks": ""
            },
            "colorscale": [
             [
              0,
              "#0d0887"
             ],
             [
              0.1111111111111111,
              "#46039f"
             ],
             [
              0.2222222222222222,
              "#7201a8"
             ],
             [
              0.3333333333333333,
              "#9c179e"
             ],
             [
              0.4444444444444444,
              "#bd3786"
             ],
             [
              0.5555555555555556,
              "#d8576b"
             ],
             [
              0.6666666666666666,
              "#ed7953"
             ],
             [
              0.7777777777777778,
              "#fb9f3a"
             ],
             [
              0.8888888888888888,
              "#fdca26"
             ],
             [
              1,
              "#f0f921"
             ]
            ],
            "type": "surface"
           }
          ],
          "table": [
           {
            "cells": {
             "fill": {
              "color": "#EBF0F8"
             },
             "line": {
              "color": "white"
             }
            },
            "header": {
             "fill": {
              "color": "#C8D4E3"
             },
             "line": {
              "color": "white"
             }
            },
            "type": "table"
           }
          ]
         },
         "layout": {
          "annotationdefaults": {
           "arrowcolor": "#2a3f5f",
           "arrowhead": 0,
           "arrowwidth": 1
          },
          "autotypenumbers": "strict",
          "coloraxis": {
           "colorbar": {
            "outlinewidth": 0,
            "ticks": ""
           }
          },
          "colorscale": {
           "diverging": [
            [
             0,
             "#8e0152"
            ],
            [
             0.1,
             "#c51b7d"
            ],
            [
             0.2,
             "#de77ae"
            ],
            [
             0.3,
             "#f1b6da"
            ],
            [
             0.4,
             "#fde0ef"
            ],
            [
             0.5,
             "#f7f7f7"
            ],
            [
             0.6,
             "#e6f5d0"
            ],
            [
             0.7,
             "#b8e186"
            ],
            [
             0.8,
             "#7fbc41"
            ],
            [
             0.9,
             "#4d9221"
            ],
            [
             1,
             "#276419"
            ]
           ],
           "sequential": [
            [
             0,
             "#0d0887"
            ],
            [
             0.1111111111111111,
             "#46039f"
            ],
            [
             0.2222222222222222,
             "#7201a8"
            ],
            [
             0.3333333333333333,
             "#9c179e"
            ],
            [
             0.4444444444444444,
             "#bd3786"
            ],
            [
             0.5555555555555556,
             "#d8576b"
            ],
            [
             0.6666666666666666,
             "#ed7953"
            ],
            [
             0.7777777777777778,
             "#fb9f3a"
            ],
            [
             0.8888888888888888,
             "#fdca26"
            ],
            [
             1,
             "#f0f921"
            ]
           ],
           "sequentialminus": [
            [
             0,
             "#0d0887"
            ],
            [
             0.1111111111111111,
             "#46039f"
            ],
            [
             0.2222222222222222,
             "#7201a8"
            ],
            [
             0.3333333333333333,
             "#9c179e"
            ],
            [
             0.4444444444444444,
             "#bd3786"
            ],
            [
             0.5555555555555556,
             "#d8576b"
            ],
            [
             0.6666666666666666,
             "#ed7953"
            ],
            [
             0.7777777777777778,
             "#fb9f3a"
            ],
            [
             0.8888888888888888,
             "#fdca26"
            ],
            [
             1,
             "#f0f921"
            ]
           ]
          },
          "colorway": [
           "#636efa",
           "#EF553B",
           "#00cc96",
           "#ab63fa",
           "#FFA15A",
           "#19d3f3",
           "#FF6692",
           "#B6E880",
           "#FF97FF",
           "#FECB52"
          ],
          "font": {
           "color": "#2a3f5f"
          },
          "geo": {
           "bgcolor": "white",
           "lakecolor": "white",
           "landcolor": "#E5ECF6",
           "showlakes": true,
           "showland": true,
           "subunitcolor": "white"
          },
          "hoverlabel": {
           "align": "left"
          },
          "hovermode": "closest",
          "mapbox": {
           "style": "light"
          },
          "paper_bgcolor": "white",
          "plot_bgcolor": "#E5ECF6",
          "polar": {
           "angularaxis": {
            "gridcolor": "white",
            "linecolor": "white",
            "ticks": ""
           },
           "bgcolor": "#E5ECF6",
           "radialaxis": {
            "gridcolor": "white",
            "linecolor": "white",
            "ticks": ""
           }
          },
          "scene": {
           "xaxis": {
            "backgroundcolor": "#E5ECF6",
            "gridcolor": "white",
            "gridwidth": 2,
            "linecolor": "white",
            "showbackground": true,
            "ticks": "",
            "zerolinecolor": "white"
           },
           "yaxis": {
            "backgroundcolor": "#E5ECF6",
            "gridcolor": "white",
            "gridwidth": 2,
            "linecolor": "white",
            "showbackground": true,
            "ticks": "",
            "zerolinecolor": "white"
           },
           "zaxis": {
            "backgroundcolor": "#E5ECF6",
            "gridcolor": "white",
            "gridwidth": 2,
            "linecolor": "white",
            "showbackground": true,
            "ticks": "",
            "zerolinecolor": "white"
           }
          },
          "shapedefaults": {
           "line": {
            "color": "#2a3f5f"
           }
          },
          "ternary": {
           "aaxis": {
            "gridcolor": "white",
            "linecolor": "white",
            "ticks": ""
           },
           "baxis": {
            "gridcolor": "white",
            "linecolor": "white",
            "ticks": ""
           },
           "bgcolor": "#E5ECF6",
           "caxis": {
            "gridcolor": "white",
            "linecolor": "white",
            "ticks": ""
           }
          },
          "title": {
           "x": 0.05
          },
          "xaxis": {
           "automargin": true,
           "gridcolor": "white",
           "linecolor": "white",
           "ticks": "",
           "title": {
            "standoff": 15
           },
           "zerolinecolor": "white",
           "zerolinewidth": 2
          },
          "yaxis": {
           "automargin": true,
           "gridcolor": "white",
           "linecolor": "white",
           "ticks": "",
           "title": {
            "standoff": 15
           },
           "zerolinecolor": "white",
           "zerolinewidth": 2
          }
         }
        },
        "width": 800
       }
      },
      "text/html": [
       "<div>                            <div id=\"be85d837-c5cd-45a0-a61e-291dbd12d348\" class=\"plotly-graph-div\" style=\"height:525px; width:800px;\"></div>            <script type=\"text/javascript\">                require([\"plotly\"], function(Plotly) {                    window.PLOTLYENV=window.PLOTLYENV || {};                                    if (document.getElementById(\"be85d837-c5cd-45a0-a61e-291dbd12d348\")) {                    Plotly.newPlot(                        \"be85d837-c5cd-45a0-a61e-291dbd12d348\",                        [{\"customdata\":[[224000.0],[245000.0],[179900.0],[199000.0],[192000.0],[147000.0],[130000.0],[259900.0],[198400.0],[129900.0],[269000.0],[159000.0],[205900.0],[266000.0],[195000.0],[265900.0],[135000.0],[325000.0],[179900.0],[279000.0],[246150.0],[152990.0],[79900.0],[119900.0],[164900.0],[169900.0],[168000.0],[284500.0],[210000.0],[329000.0],[245000.0],[249900.0],[229900.0],[246290.0],[194000.0],[182995.0],[155000.0],[205000.0],[169900.0],[214900.0],[129500.0],[280000.0],[158000.0],[169900.0],[204900.0],[229000.0],[184400.0],[206080.0],[273750.0],[212600.0],[149900.0],[207450.0],[243000.0],[201500.0],[198450.0],[244608.0],[329250.0],[249900.0],[199700.0],[179950.0],[127450.0],[180000.0],[324495.0],[159900.0],[133750.0],[81950.0],[244950.0],[169900.0],[271500.0],[173700.0],[279950.0],[216000.0],[193745.0],[225200.0],[263000.0],[214950.0],[199900.0],[198900.0],[159450.0],[124900.0],[142450.0],[178400.0],[180900.0],[154900.0],[229900.0],[129750.0],[195750.0],[242500.0],[277500.0],[169900.0],[164950.0],[185000.0],[237000.0],[245000.0],[164500.0],[285000.0],[154450.0],[152850.0],[159950.0],[84450.0],[191450.0],[132200.0],[179900.0],[219999.0],[199950.0],[124950.0],[253250.0],[244900.0],[224900.0],[189900.0],[254950.0],[207400.0],[199900.0],[215000.0],[259400.0],[197450.0],[179900.0],[182995.0],[279900.0],[124900.0],[149900.0],[259900.0],[274900.0],[147000.0],[179900.0],[159450.0],[187500.0],[129750.0],[327250.0],[182150.0],[218700.0],[206585.0],[198950.0],[249000.0],[328266.0],[217350.0],[265000.0],[128500.0],[219900.0],[184900.0],[159000.0],[269900.0],[256248.0],[219900.0],[249500.0],[239500.0],[332970.0],[335000.0],[262900.0],[279000.0],[126500.0],[194900.0],[249900.0],[128000.0],[284990.0],[189000.0],[149900.0],[134500.0],[154900.0],[249000.0],[184900.0],[171000.0],[174900.0],[195000.0],[159900.0],[164000.0],[180000.0],[200000.0],[144900.0],[196900.0],[89995.0],[185000.0],[259900.0],[207900.0],[249000.0],[238000.0],[199900.0],[197000.0],[224900.0],[174900.0],[147490.0],[301440.0],[200000.0],[193950.0],[201700.0],[295000.0],[335195.0],[184445.0],[255848.0],[265000.0],[259450.0],[238900.0],[159450.0],[237500.0],[179498.0],[168450.0],[159000.0],[199900.0],[148450.0],[237000.0],[200000.0],[332000.0],[166400.0],[154900.0],[149200.0],[129900.0],[93450.0],[297625.0],[249900.0],[129200.0],[204950.0],[249900.0],[214950.0],[290000.0],[169200.0],[199700.0],[265000.0],[196945.0],[119900.0],[121745.0],[278700.0],[285000.0],[274900.0],[179900.0],[189000.0],[231800.0],[168900.0],[231950.0],[154900.0],[215450.0],[189900.0]],\"hovertemplate\":\"<b>%{hovertext}</b><br><br>Class=%{marker.color}<br>PC 1=%{x}<br>PC 2=%{y}<br>PC 3=%{z}<br>median_listing_price=%{customdata[0]}<extra></extra>\",\"hovertext\":[\"Cherokee\",\"Craven\",\"Catawba\",\"Gaston\",\"Lenoir\",\"Beaufort\",\"Ashe\",\"Currituck\",\"Sampson\",\"Union\",\"Rowan\",\"Caswell\",\"Pasquotank\",\"Hyde\",\"Mcdowell\",\"Edgecombe\",\"Halifax\",\"Pamlico\",\"Yadkin\",\"Rutherford\",\"Columbus\",\"Clay\",\"Durham\",\"Wilson\",\"Hoke\",\"Tyrrell\",\"Davie\",\"Alamance\",\"Johnston\",\"Montgomery\",\"Jones\",\"Wayne\",\"Anson\",\"Richmond\",\"Orange\",\"Caldwell\",\"Wilkes\",\"Moore\",\"Mecklenburg\",\"Alleghany\",\"Cleveland\",\"Yancey\",\"Carteret\",\"Harnett\",\"Martin\",\"Bladen\",\"Chowan\",\"Bertie\",\"Haywood\",\"Alexander\",\"Cumberland\",\"Jackson\",\"Chatham\",\"Wake\",\"Avery\",\"Duplin\",\"Surry\",\"Robeson\",\"Iredell\",\"Cabarrus\",\"Forsyth\",\"Camden\",\"Mitchell\",\"Pitt\",\"Washington\",\"Person\",\"Randolph\",\"Granville\",\"Rockingham\",\"Franklin\",\"Warren\",\"Davie\",\"Chatham\",\"Macon\",\"Hertford\",\"Lee\",\"Currituck\",\"Richmond\",\"Gaston\",\"Wake\",\"Alleghany\",\"Pitt\",\"Onslow\",\"Nash\",\"Mcdowell\",\"Granville\",\"Henderson\",\"Yadkin\",\"Catawba\",\"Pasquotank\",\"Polk\",\"Wilson\",\"Tyrrell\",\"Johnston\",\"Carteret\",\"Hyde\",\"Davidson\",\"Rowan\",\"Cherokee\",\"Randolph\",\"Mecklenburg\",\"Wilkes\",\"Haywood\",\"Sampson\",\"Edgecombe\",\"Caswell\",\"Vance\",\"Avery\",\"Perquimans\",\"Robeson\",\"Clay\",\"Brunswick\",\"Gates\",\"Lincoln\",\"Lenoir\",\"Watauga\",\"Anson\",\"Moore\",\"Transylvania\",\"Surry\",\"Swain\",\"Pender\",\"Ashe\",\"Northampton\",\"Person\",\"Buncombe\",\"Cumberland\",\"Rockingham\",\"Columbus\",\"Madison\",\"Guilford\",\"Alamance\",\"Jackson\",\"Bladen\",\"Caldwell\",\"Forsyth\",\"Transylvania\",\"Chatham\",\"Brunswick\",\"Wilson\",\"Mcdowell\",\"Hertford\",\"Pender\",\"Burke\",\"Bladen\",\"Moore\",\"Pasquotank\",\"Catawba\",\"Richmond\",\"Halifax\",\"New hanover\",\"Swain\",\"Duplin\",\"Yadkin\",\"Wilkes\",\"Granville\",\"Camden\",\"Warren\",\"Avery\",\"Bertie\",\"Johnston\",\"Durham\",\"Onslow\",\"Alamance\",\"Lincoln\",\"Jackson\",\"Harnett\",\"Guilford\",\"Gates\",\"Pitt\",\"Person\",\"Northampton\",\"Greene\",\"Wayne\",\"Anson\",\"Iredell\",\"Wake\",\"Sampson\",\"Ashe\",\"Polk\",\"Union\",\"Lee\",\"Cleveland\",\"Haywood\",\"Graham\",\"Macon\",\"Henderson\",\"Watauga\",\"Hyde\",\"Alexander\",\"Carteret\",\"Randolph\",\"Tyrrell\",\"Davidson\",\"Cabarrus\",\"Alleghany\",\"Nash\",\"Rockingham\",\"Pamlico\",\"Martin\",\"Dare\",\"Perquimans\",\"Robeson\",\"Jones\",\"Scotland\",\"Polk\",\"Ashe\",\"Columbus\",\"Mcdowell\",\"Wilson\",\"Durham\",\"Wake\",\"Moore\",\"Washington\",\"Guilford\",\"Iredell\",\"Orange\",\"Chowan\",\"Lee\",\"Gaston\",\"Rutherford\",\"Jackson\",\"Alleghany\",\"Forsyth\",\"Nash\",\"Cabarrus\",\"Pender\",\"Watauga\",\"Lenoir\",\"Surry\",\"Wayne\"],\"legendgroup\":\"0.0\",\"marker\":{\"color\":[0.0,0.0,0.0,0.0,0.0,0.0,0.0,0.0,0.0,0.0,0.0,0.0,0.0,0.0,0.0,0.0,0.0,0.0,0.0,0.0,0.0,0.0,0.0,0.0,0.0,0.0,0.0,0.0,0.0,0.0,0.0,0.0,0.0,0.0,0.0,0.0,0.0,0.0,0.0,0.0,0.0,0.0,0.0,0.0,0.0,0.0,0.0,0.0,0.0,0.0,0.0,0.0,0.0,0.0,0.0,0.0,0.0,0.0,0.0,0.0,0.0,0.0,0.0,0.0,0.0,0.0,0.0,0.0,0.0,0.0,0.0,0.0,0.0,0.0,0.0,0.0,0.0,0.0,0.0,0.0,0.0,0.0,0.0,0.0,0.0,0.0,0.0,0.0,0.0,0.0,0.0,0.0,0.0,0.0,0.0,0.0,0.0,0.0,0.0,0.0,0.0,0.0,0.0,0.0,0.0,0.0,0.0,0.0,0.0,0.0,0.0,0.0,0.0,0.0,0.0,0.0,0.0,0.0,0.0,0.0,0.0,0.0,0.0,0.0,0.0,0.0,0.0,0.0,0.0,0.0,0.0,0.0,0.0,0.0,0.0,0.0,0.0,0.0,0.0,0.0,0.0,0.0,0.0,0.0,0.0,0.0,0.0,0.0,0.0,0.0,0.0,0.0,0.0,0.0,0.0,0.0,0.0,0.0,0.0,0.0,0.0,0.0,0.0,0.0,0.0,0.0,0.0,0.0,0.0,0.0,0.0,0.0,0.0,0.0,0.0,0.0,0.0,0.0,0.0,0.0,0.0,0.0,0.0,0.0,0.0,0.0,0.0,0.0,0.0,0.0,0.0,0.0,0.0,0.0,0.0,0.0,0.0,0.0,0.0,0.0,0.0,0.0,0.0,0.0,0.0,0.0,0.0,0.0,0.0,0.0,0.0,0.0,0.0,0.0,0.0,0.0,0.0,0.0,0.0,0.0,0.0,0.0,0.0,0.0,0.0,0.0,0.0,0.0,0.0,0.0,0.0],\"coloraxis\":\"coloraxis\",\"symbol\":\"circle\"},\"mode\":\"markers\",\"name\":\"0.0\",\"scene\":\"scene\",\"showlegend\":true,\"x\":[-1.3037753290710525,2.1138595764086188,-1.7396689983559952,-1.6474128516293305,-2.2610271609546126,-1.788979870166847,-1.7658417598348783,-1.2084614244499803,-0.3681441867613629,-1.5508789569625863,-1.4709503524650231,-1.6415916096418972,-1.3556294025359075,0.7421939565310037,-1.3089369322757696,-0.5674583903321466,-1.9611451042430499,-0.9146035425749157,-1.3288054847375632,-1.12077875448368,-1.9229404566880712,1.5097742357264914,-2.3136139546606853,-2.096757955099158,-1.8072941102427975,-0.8524790834336445,-2.085007705516317,-1.0993208841938253,-0.4552052667257832,1.343190513938199,-1.6564563381304034,0.048023625183301256,-1.8221912372025515,0.3186190672461769,-1.4687343239107418,-1.2732401873725265,-1.4675446499840596,-0.7318237268060411,-1.0233065466630153,-0.2730922447077436,-1.5775788090545628,-1.6137939489216448,-1.7254910373106045,-1.8871695907180752,0.23015110801075137,-0.9368233916511148,-1.739365200742352,-0.2737884925721342,-1.3433006238972554,-1.31701624246566,-1.4107825569743309,-1.76518590608997,-1.2471507363468752,0.5769870080947076,-0.9820806355152999,0.19051348098343918,-0.723228958373993,2.8682913500670693,-2.1237531621237378,-1.5098699166256813,-1.5978070213111073,-1.775858421648261,1.6592720985157354,-1.8983624284622576,-1.4635814101119304,-2.343854739686676,-1.8031806529829049,-1.905735944981473,-1.30222116105689,-0.9508388303320007,-1.6199165126250346,-0.1526066843861883,-1.2726741817698894,-0.7728428108610066,-0.30112766648690154,-1.72012632062348,-1.3715574077109505,-0.32617411027665616,-1.6514523182905696,-2.0734978777088098,-1.8338242400916631,-1.21398282110496,-1.2679281717760993,1.5256987545556273,-1.1907920420919575,-1.4618244744347446,-1.249385108229701,0.6089000681531679,-0.8944579373286634,-0.519715663237218,-1.8628466721037247,-1.8412598379935288,0.882523116178924,-1.5539440684262118,-1.9996134499580747,-1.161927938924532,1.9315732228488702,-1.8463662679832815,-1.6099837680869808,-2.300431243620079,-0.8870178511318857,-1.5707450726195007,-1.0195298304304001,-1.7006329850143826,-1.171145375451442,-2.0054215366327957,-1.3600159421369922,0.9589925162208951,-0.6016113310269914,-1.933513969342025,3.52747498734316,-1.6896873564500896,-1.2055170212815367,-0.10257744336530795,0.026286102923234425,-0.24794319255317454,-0.9009034589802734,-1.2915694864352216,-0.7030384051419453,-1.4786437692909253,-1.390672203919746,-1.083151753014051,-1.2748977176904954,-1.8158453023121222,-0.49206595999031316,-1.9668725946648546,-1.1579826680816048,-1.4644980246224197,-0.5490383622642092,-1.6392865727216077,-0.10012073262315248,-1.2487698851128748,0.5000366764642756,-0.873583881326249,1.9980900878231938,-1.735110441048224,-1.3641732727488836,-1.9726565162954766,-1.698972080846386,-1.6167419100143743,-1.8760299291001916,1.354546388465578,3.5884859434720475,-0.19113106634887903,0.2468234233695062,-1.2526297666108313,2.0494016977714162,-0.3843666617087986,-1.1373318271804271,-0.8041567778063456,-1.145779709632718,-1.072579913470687,-1.3999582541995164,-1.3895715305187994,-0.8451976989163967,-1.5772255186663091,-1.6471887182821137,-1.4905455666801128,1.8980910638772064,-1.061304371544036,-0.4253140176519075,-0.8203508457986061,-1.7945614911248478,-0.9929629425674394,-1.6480549339916317,-1.9486237841202758,-1.2938685076717695,-1.1514236299428315,-1.7138910045072673,0.4934573100429081,-2.3252125974865283,-1.0549098853714258,-0.06465416568296004,-1.6259744075917284,0.8423931076723163,-0.10670220132397326,-1.1003028513487216,-0.13154472387079896,-0.5907066732220808,-1.1045929446674432,-1.4059579814384844,-0.8571220683043349,-1.6064605355484598,-0.18152012276167045,-1.0695500803772575,-0.6829548715209002,2.196605275676643,-0.9608930559123894,3.888841083031886,0.9867032284963507,-0.4722088045841006,0.6486142619209367,-1.5802293605949993,-0.9774208521994806,-1.11241002426633,-0.6216668183198416,-1.816862523332505,-0.10480240868239385,-1.555843175920038,-0.017793710493345827,-1.028710666961635,-0.4888403647439205,-2.045643446320264,2.2773749294678067,-1.30439064853812,-1.0579830435058377,-2.4060030995479935,-0.3823432460717485,1.1314254523654055,-1.27004175685185,-1.5436695322296392,-1.2404873850668716,-1.0245374883522467,-0.829001654655772,-0.9492818779807644,-1.6466254214765437,-1.2377440768469488,1.322600809459724,-1.9481185124217508,-1.4849132067467592,0.13604803706864216,-0.6417303169374242,-0.8205618184527096,-1.8978333898361117,-0.602742888605239,-1.0420653254432806,-1.5232340566185494,-1.733231400466487,-1.4320962684142826,0.13798098053199134,-1.801881005897459],\"y\":[0.9172142825775202,-1.4299483266625581,0.012666252452080966,-0.4432975661587833,-0.4337144895015605,-1.6645211759012088,-2.4907908625849173,0.6837889033158047,-1.0959581963016107,-2.4567098586999725,0.459683861322848,-0.06122143385403965,0.1403108599155116,0.11426136413045689,-0.17146388540183735,0.5177408495697277,-1.1439859782789743,0.8016674095170049,-0.6813109606801325,0.6010971667535586,0.26805091744611076,-3.4280162681088884,-2.3885112002285482,-1.7335097465858684,-0.07338975030102805,-0.8498636782857865,-0.4037009553635449,0.5510157852882313,-0.5963410417293492,-2.371416972370376,0.17320879698895483,-0.8673648073570509,0.04954000620505179,-1.1745732533360738,-0.7995905828589434,0.18124807511710866,-1.0642316010081885,-0.7780461489285663,-0.911711069171295,-0.5475429696402823,-2.773416796825731,0.23496336171441298,-3.497645172293042,-1.3077700382655242,-0.5584558230763782,0.5478673061021307,0.4361023745319665,-0.7935529150950392,0.331913982148099,0.4452544376834438,-1.2837689317853382,-0.3853652418199773,0.5201573917535584,-0.5974134612016454,-0.5949240656449195,-1.0636934314315734,0.7727347566250641,-1.5353773332360685,-0.3532426372443908,-3.161307946210916,-2.769849404938387,0.11164365681290614,-2.503020711654097,-1.1353977260169836,-2.1276531311616056,-2.580298145928207,0.4757047922386048,-1.4671538232821149,0.8495344689471988,-1.0157799975217559,0.11441261450320701,-0.5351965178729464,0.02039626480858425,0.6627249198295286,0.5061862107474544,-0.13126974897749058,-0.5515304367470055,-1.0751965972402941,-0.2182651112258021,-1.9727819961345436,-0.9667676547285359,-0.8373801639277487,-0.018857125996400752,-3.1775889514458253,0.5608057811469562,-2.7292997982246217,-0.8509756380918733,-1.1528840420847541,0.3645658149461502,-0.9436809605364302,-0.07016556893272664,0.5592933187615677,-1.0608840843359464,0.18957555786991753,-1.808409477548184,0.268695792826271,-3.456372955841637,-0.9205817574853378,0.12774479000251743,-2.4551274475623996,-0.746426132695863,-2.062974380596977,-0.7825990691423544,0.48990959885201857,-0.8254676995718905,-1.634577906909638,0.5645669824062781,-1.2474518760819946,0.6493499108891115,-0.9829291366268402,-1.914058922827997,-2.666726706268405,-0.6399704153649115,-0.609427401452442,0.2688980449271886,-1.2228331530777943,-0.877717960926507,-0.03324433805800187,0.5324152357044909,-2.9715660734640266,-1.2511684536376255,0.7054975466995594,0.14891473445538478,-1.4645967266893514,-0.9161793423485871,-0.8706034624406072,-0.21562511721524913,-2.7544755786133783,0.6624308530451055,0.28854998412771443,-0.535760744184198,0.1789591073538704,-0.6531060918299708,0.8202914606839122,-2.4515686018563096,-0.36118890915901497,-0.014781173997794678,-1.8714565190005041,-0.16464392968556016,-2.4963944152782247,-0.840499546124264,-0.2808381525331505,-1.9462130943754443,-0.4778130091368125,-0.9738154766853007,0.35222871889684876,-2.455511135898576,0.6271727770953234,0.8365400185104497,-0.07857003060249207,-3.389420444602345,-0.00475641894812631,0.09728680543368128,-2.7931575174039076,0.5438722288637452,0.10901503940510432,-1.362661887889559,-2.087144208862386,-3.220704900095159,0.5540054440152046,-1.4204974326711488,-1.0827845881887628,0.38748776455542316,-0.6362739392273448,-0.3519481129188073,-1.7691066702614495,-0.07760429494181532,-0.526371417346729,-1.0773057307128153,-0.8385687496828814,-2.5179494837730285,-0.19374933986216802,0.30601117029914354,-0.255450496989357,-0.6446329855900845,-0.3684859910558587,-0.886402322597005,-1.293267516860865,0.40927807674436245,-0.45370781656442255,-1.3088567049824762,1.208284805357778,-0.18652325869381012,-0.9819219077623695,-0.9115914352298129,1.0342123490356159,-2.41283951703404,-0.4095708020253905,-2.1172617229919077,0.02945159205878976,1.0724950870175658,-1.2484602309294701,-0.47328808807138084,0.6689648407667761,-0.1666311527645427,-1.3131268364003599,-0.8529480208772899,-1.0906759882524681,-1.3833800115626007,-0.6418677745346532,-0.12081749405512408,0.632738674874873,0.06837598305087267,-3.2689014265343483,-1.2713976491643009,-3.481764568662284,-2.3260902236675496,0.8632971694760979,-0.9867780566218284,-2.967726815056753,-0.19050360271369787,0.08309461182508046,-0.5488395439120608,0.23758006703570977,-1.1360501290437472,-0.4006935189784068,-0.08611112855438588,-1.0110877986148767,-1.8793923258007932,-2.3592055395637974,0.5032679807960795,0.35878152917235545,0.6215158277995085,-0.922493400111234,-0.7288797658251738,0.10091308453559208,-0.13414458550128863,0.21576264235376733,-1.6333867767988728,-0.6743907107124862,-2.3054053350987895],\"z\":[0.6672497279766686,0.19041384895894456,0.1627845034997221,1.4284293211754182,1.3156532399931211,1.1430519821626839,-0.11816056408777735,-1.8999770736143469,-0.00935684113429019,-0.06055944983415675,0.975725162144845,0.798814397117872,-0.6529080736043449,-0.7284318335185689,-0.5962923483189659,-0.31346036546625433,2.2179984755547975,0.5079488992567145,-0.22470134595093202,-1.0583016901807336,-2.5607101595501693,0.9634884357153377,1.5594119714870043,1.8870352100955703,1.2361171811275282,0.5618447783234575,1.0321670619077836,-1.0387083636724959,-1.5228893793482334,-1.845425759052386,1.3020776870485948,-0.8400371679301543,-1.1427503308284943,-1.6050821614170212,-0.07116186741715291,-0.028205537773445352,-0.48351981435662894,-1.162478047640521,0.21405085221560677,-0.6862482262707563,0.8935802493691489,-0.5349215904594052,1.3996176697881575,0.1284745357131561,1.1134046195280367,-0.5178616745909006,0.5000770566935061,0.26935667777470385,1.9837844717064843,-0.6703593429189163,0.6044854709708131,1.376274382596292,0.0052279542828457945,2.2504437172903864,0.2955185143180457,0.12012697878493123,0.8784832717798197,-0.10626651346476221,-0.428882719700187,1.9319512509386532,-0.11712389261547741,0.7779246811791403,-0.676822567258714,-0.4212364853786353,1.0972077081949088,2.597194438174196,2.341907350558781,0.26417426742235495,-1.0393376742180762,0.5599893029449677,-0.04010330323943928,0.5092368124081981,-0.04542134496509953,0.24263053023044848,0.4641793554698976,0.7523658618237636,1.1054652638604512,0.6221450331318923,0.8518461713394655,1.3734470602630855,3.100122175790321,0.6568684348121435,1.2457634513408564,1.2261503934273312,0.9047981506347399,1.414133642123049,0.47604373897026586,-0.7121106972741509,-0.04993639629867744,1.2562601844073495,2.4637938005652935,-0.37086349093916016,-0.5500395276905966,1.8441427734208145,-0.015988403516332985,0.04941236516329078,1.658953661633076,0.5900409973680251,0.9932787723453743,2.993183600455558,1.106877370797673,1.5981809484394245,-0.15985627672383032,-1.467966577516619,-0.29652160094490204,2.0672045982990355,-1.4829718673902321,-0.11301271659041855,0.21740810007039513,1.8436334774229708,-0.5558854374957015,-2.3438913015230565,0.9351077254921288,0.7477693658453826,0.12156187386636415,0.3152205139628475,-0.655861280086465,0.45824120929134315,0.060423896700106214,0.04973479277827692,0.47637511795852117,-0.7885128424003102,-0.5360167363530057,1.1296579010932744,0.31164263705686146,1.0010705830859672,-0.02638752391247222,1.2129600127377915,1.0648992024245023,0.8751862693151835,0.25241513046841774,-1.4710567789524578,1.9925425295743473,-0.5453704133886256,-0.8787098944330595,-0.577388076503053,-1.43593683004761,-1.0626342792575727,-0.4194090298119781,-0.11513284752624077,0.8184606825628679,-1.356218707015655,-1.8230104302134396,-0.9845741992276276,-2.075067809755917,-2.477229945389812,-2.2155076491597856,-0.6748850000454564,-0.6780873725744109,-0.5285727200800114,-2.5374479501086222,-1.2011411020800715,0.4050141854948073,0.24011578450969973,-1.0820859746351241,-2.4487693527907286,-0.3146174490667724,-1.9269227535292812,0.5804737973053717,-1.152914313104942,-0.11004924372214156,-1.6589290139270245,-0.06439644215516463,-0.6258722817291017,-0.33138133192690167,0.8839712637313911,0.5095252981594013,0.3405157989029982,1.8564893081947524,0.5532882032459865,1.6946086722500022,-0.969156910104637,-0.513005661951868,-1.8333910046885709,-1.4547664112595675,-1.9783741143082705,-0.47855980598065284,-0.5928644647509681,0.7430247693728816,-0.3617395448192256,0.291018166360267,-1.5544482146845682,-0.5264703362201756,-1.5947511236125766,-2.0468541468300767,-0.8589029538476087,-2.880389078482124,-1.8632956682552626,-2.0661678246478155,-2.03018937045939,-2.7355028513258697,-1.601495430791795,-0.2583994780245604,-0.0949576892102937,0.7933004560108781,-0.08246427993560192,0.23343452709400275,-0.44894542257570724,-1.1188956109651789,-2.131004410876661,-1.5211151448635043,-1.0710880441047996,-0.7039408288898471,0.2606663779599202,-0.46417469504102465,-2.5387464082327234,0.16840674446182158,-2.193336000777873,-1.1659687910647314,-1.7766007323435486,0.5125924180352336,-0.08324502847149522,0.12004479761536153,-1.1588896529987436,-1.4200185604681252,-1.1885913635818732,-1.7924129872487278,0.03253762760546722,1.7062780936497992,-0.7587331626117896,-2.45710577024759,-1.0735438754678364,-1.2036029867499538,-0.283938890725319,-1.1894760479118822,-3.1287407616,0.09489744285068198,-1.155977016832818,0.42583013429899264,-1.5071811807563715,0.4024672287287185],\"type\":\"scatter3d\"},{\"customdata\":[[400000.0],[439000.0],[299990.0],[159000.0],[329900.0],[399000.0],[375000.0],[539900.0],[327500.0],[424500.0],[419000.0],[319950.0],[302475.0],[269900.0],[385000.0],[289000.0],[304900.0],[314900.0],[399900.0],[317475.0],[302500.0],[347000.0],[269900.0],[394500.0],[319438.0],[164950.0],[389479.0],[549000.0],[372450.0],[429000.0],[410000.0],[399450.0],[424750.0],[310500.0],[419500.0],[284900.0],[268900.0],[308750.0],[328200.0],[268900.0],[434900.0],[322900.0],[349950.0],[417250.0],[417000.0],[394000.0],[300000.0],[429000.0],[326950.0],[402139.0],[288000.0],[309587.0],[169900.0],[547000.0],[332200.0],[378500.0],[400000.0],[274900.0],[303480.0],[425000.0],[279000.0],[429000.0],[174900.0],[419000.0],[375000.0],[397000.0],[298000.0],[549000.0],[309173.0],[299501.0],[334500.0],[339000.0],[414000.0],[329900.0],[434900.0],[414900.0],[350000.0],[428903.0],[339700.0],[544400.0],[277450.0],[350000.0],[305000.0],[178900.0],[425000.0],[417250.0],[334950.0],[399000.0],[419000.0],[429000.0],[327500.0],[372000.0],[298850.0],[431950.0]],\"hovertemplate\":\"<b>%{hovertext}</b><br><br>Class=%{marker.color}<br>PC 1=%{x}<br>PC 2=%{y}<br>PC 3=%{z}<br>median_listing_price=%{customdata[0]}<extra></extra>\",\"hovertext\":[\"Warren\",\"Lee\",\"Henderson\",\"Hertford\",\"Onslow\",\"Graham\",\"Buncombe\",\"Pender\",\"Franklin\",\"Gates\",\"Perquimans\",\"Guilford\",\"Northampton\",\"Brunswick\",\"Lincoln\",\"Nash\",\"Madison\",\"Scotland\",\"Burke\",\"Vance\",\"Greene\",\"Watauga\",\"Davidson\",\"Stanly\",\"New hanover\",\"Swain\",\"Polk\",\"Macon\",\"Stokes\",\"Chowan\",\"New hanover\",\"Washington\",\"Halifax\",\"Beaufort\",\"Orange\",\"Mitchell\",\"Pamlico\",\"Union\",\"Bertie\",\"Durham\",\"Dare\",\"Yancey\",\"Camden\",\"Greene\",\"Hoke\",\"Montgomery\",\"Duplin\",\"Stanly\",\"Graham\",\"Jones\",\"Stokes\",\"Scotland\",\"Martin\",\"Iredell\",\"Alexander\",\"Craven\",\"Rutherford\",\"Burke\",\"Forsyth\",\"Stanly\",\"Montgomery\",\"Columbus\",\"Cherokee\",\"Davie\",\"Yancey\",\"Caswell\",\"Rowan\",\"Franklin\",\"Washington\",\"Gaston\",\"Rutherford\",\"Hoke\",\"Orange\",\"Lenoir\",\"Mecklenburg\",\"Surry\",\"Buncombe\",\"Caldwell\",\"Stokes\",\"Craven\",\"Vance\",\"Edgecombe\",\"Clay\",\"Mitchell\",\"Beaufort\",\"Gates\",\"Camden\",\"Johnston\",\"Montgomery\",\"Duplin\",\"Greene\",\"Buncombe\",\"Hoke\",\"Lincoln\"],\"legendgroup\":\"2.0\",\"marker\":{\"color\":[2.0,2.0,2.0,2.0,2.0,2.0,2.0,2.0,2.0,2.0,2.0,2.0,2.0,2.0,2.0,2.0,2.0,2.0,2.0,2.0,2.0,2.0,2.0,2.0,2.0,2.0,2.0,2.0,2.0,2.0,2.0,2.0,2.0,2.0,2.0,2.0,2.0,2.0,2.0,2.0,2.0,2.0,2.0,2.0,2.0,2.0,2.0,2.0,2.0,2.0,2.0,2.0,2.0,2.0,2.0,2.0,2.0,2.0,2.0,2.0,2.0,2.0,2.0,2.0,2.0,2.0,2.0,2.0,2.0,2.0,2.0,2.0,2.0,2.0,2.0,2.0,2.0,2.0,2.0,2.0,2.0,2.0,2.0,2.0,2.0,2.0,2.0,2.0,2.0,2.0,2.0,2.0,2.0,2.0],\"coloraxis\":\"coloraxis\",\"symbol\":\"diamond\"},\"mode\":\"markers\",\"name\":\"2.0\",\"scene\":\"scene\",\"showlegend\":true,\"x\":[-0.1320683709110543,-1.1791879005718546,1.2415400131854637,-0.10923853303818068,-0.9217052832402517,1.8356580816461145,2.592376204778225,0.1072193786953302,1.5549387195930089,-0.7006676117017281,-0.3016642470225889,-0.6067397206165898,-1.1315843173248092,3.7866714037620715,0.16967458771576696,-0.987428573461631,0.34957907162733204,1.5633586705510158,-0.8124196172864833,-0.38472966015999976,1.4042798104143162,1.8842645694008775,4.235964721726801,-0.6285755796691637,1.639791162809707,0.2774878241337523,1.8405713347984891,0.2838746256739084,0.46961282467643334,-1.0009197962482155,-0.1809629898341744,2.6183661798930054,-0.18126925691752496,-0.862794325759273,-0.5642014203511584,-0.8638241738311393,0.8807888865871173,0.35077582191488854,-0.8720954324311757,1.0829566313563899,-0.132708502378765,1.8394613562742461,1.8276213358414448,0.028110322263294126,-0.2599506544558518,-0.43315986358337294,1.6950492682138159,-0.8371030844060896,-0.19062321664256798,2.2533498854591096,-0.7558033825206155,0.5162063035677877,0.6086941262417443,0.37932157290754476,-0.7845998047605471,0.6466855266340701,2.9159149874851193,4.486374864181114,-0.8001965247006434,0.36506231644644654,4.458242876959934,-0.8133777857975956,0.8664697810664218,-0.016480456479635478,1.7037136661563126,-0.27063266490188453,-0.6466115572391387,0.48926537398889003,0.407121484298256,1.7811447591851097,-0.4905891462477671,1.9205583454983015,3.1030271152245223,-0.043912916057811086,-0.13194476136169012,2.30589084789603,2.000155780215749,0.2487142117833111,2.6207511316685226,0.527957708172022,5.0310415396010395,2.19279264087633,0.8766987185884448,1.5255605445275322,2.847345921249371,-0.05327059397178533,0.05377809994698687,-0.02272863630949893,2.441623536219801,-0.7888132801619258,0.212407674527113,1.0024782846224622,1.5482599471400649,-0.015446273155796327],\"y\":[1.9808801865566068,3.67526460122381,0.7825268360337473,1.2405784251787446,1.5291918079999938,1.3449591204913816,1.7595614733750367,4.342582364677004,1.5155568368079873,3.811151837934998,2.632058360048754,2.005901707070864,1.471107461782895,-1.284113715205084,2.3742459107530545,1.2140364586527368,1.808693603815127,0.9542908584958283,3.4450605581626683,1.940500895277524,0.882711955553615,1.8663478797256172,-1.2864822739738313,3.271671486483164,1.0342902799180052,1.4954781568239277,2.9959384060671987,4.577637477572266,2.121053194148535,3.360044135604806,2.2470985349724573,0.9157829290879127,2.4785838354324827,1.6241030410722455,3.774612315885354,1.107172455077582,0.15635093392847224,1.7800945062824824,1.4011849530644498,0.11594677235570448,2.573254974158405,1.029804273395639,2.057002449529934,2.482121977380484,3.451718077384646,3.2149328256294916,0.8123129865260063,3.2878951908167737,2.2136556456479943,3.1012445077135387,1.0879416754931668,1.7621039543425359,0.8562181589971839,4.483909809445025,1.3858295869300037,2.3239483049195986,1.075490581125772,-1.0053211936538142,1.4144871697628953,1.95454873547131,-1.012483387115118,3.2630515274579257,1.2166571633775112,3.1597892839354715,1.4675992331121626,3.1669228315656013,1.1057920299466826,4.361025702907996,1.7241353479937023,0.7033403774332926,1.2132357197088754,1.1221129603832547,0.8463331261092579,2.088762835572184,2.5587284586186367,3.200476127191317,1.9298802630888765,2.162108281908235,0.9950636615308303,4.246883218736414,-1.5228141413441336,1.9098675284399682,1.59089960779317,1.3212550739950504,1.1378799103876,3.1140976681772448,2.1877271438858132,2.7065136407011976,3.0528684691957024,3.192574189348092,1.110344432928151,2.0526684330550116,0.6500182205678703,2.434313053870777],\"z\":[0.09463426663730251,1.1714274630627983,-1.872327254621252,3.4110848506207345,1.3285509299340004,0.16066704172025892,-1.1491609880413758,-1.3230805696912067,-0.4774589644138125,2.1515206796338586,0.634014850773314,-1.0293966545863447,0.4506145148717495,-1.0491437910079506,-1.0663769543863,0.435098833955805,0.13689418060265704,2.2207950499077973,1.2302306446036964,0.29877471339698064,-1.2090784363597042,-0.5776727127501762,-0.4552815726637959,2.1018636942078865,3.03936735183673,4.719291125272915,-0.7271269519126625,-1.213366180925153,0.476204861019669,1.5199189464067941,0.07952474480923148,1.1057012406717566,2.5459305796992373,0.47976558406849557,2.9106239481926384,1.537775351441477,-0.1802438696413956,0.6938319839861807,3.4352419228863305,-0.26230332801824163,1.694520483912204,3.281471605527344,-0.8354732812677522,-0.40149139846686915,2.44346567048208,1.7960754419973204,-1.2627691886541468,1.3054117152126428,-0.7326923958559145,-0.9179565555695718,1.5503614038828808,0.41616088021739145,3.096658428827904,-1.1246699747041153,2.9010708715796274,-0.24589340904952475,0.9545161531555327,-0.5764309459072365,0.21831155455095658,-1.5759219813954177,-1.3081971739078573,0.6396980895644252,2.2071248398683028,0.18954643666991225,-1.0580228907664722,0.4629370458401729,-0.2666053155046438,-2.2412004834512453,-0.8821186255775391,-2.2841107962144145,0.9180096686239974,1.4227687864799061,0.13964511229836782,-0.9391790403189578,1.0886454148524856,-2.3955198285967265,-1.9900963017092392,-2.572590394882332,1.0435520974669643,-3.439536553457142,-1.8073468662988446,-2.2891009105106517,-1.0672408453519864,8.32085296468389,-1.1329555363879398,-0.6047466178219744,-2.119935993547669,-0.10435754713787172,-1.8193631883198764,0.41534277370882194,0.2900003613642433,-1.371184553227279,-2.8359971191514823,0.49486071756274663],\"type\":\"scatter3d\"},{\"customdata\":[[359000.0],[390590.0],[394475.0],[362425.0],[366513.0],[398000.0],[399950.0],[375000.0],[407874.0],[375000.0]],\"hovertemplate\":\"<b>%{hovertext}</b><br><br>Class=%{marker.color}<br>PC 1=%{x}<br>PC 2=%{y}<br>PC 3=%{z}<br>median_listing_price=%{customdata[0]}<extra></extra>\",\"hovertext\":[\"Dare\",\"Transylvania\",\"Harnett\",\"Cleveland\",\"Wayne\",\"Cabarrus\",\"Madison\",\"Currituck\",\"Chowan\",\"Cumberland\"],\"legendgroup\":\"1.0\",\"marker\":{\"color\":[1.0,1.0,1.0,1.0,1.0,1.0,1.0,1.0,1.0,1.0],\"coloraxis\":\"coloraxis\",\"symbol\":\"square\"},\"mode\":\"markers\",\"name\":\"1.0\",\"scene\":\"scene\",\"showlegend\":true,\"x\":[11.209825916535733,11.29873770779712,13.363161487753251,13.475876920269586,14.084992733762228,13.913120661591417,14.193099399431023,13.784740915683386,14.572640943489683,14.188575620759929],\"y\":[-1.7851069054363446,0.030694395486548075,-0.1873517237532961,-2.035462814148867,-2.0954968060959427,-0.2163205350079466,-0.21792407808694966,-1.2540781208022138,-0.24010818153215913,-1.30964700565805],\"z\":[0.37685909472888857,0.8100694498231812,2.1507098090720187,1.6507995550690888,1.7161488786136292,1.952706610625245,0.9246795792616692,-0.18799216078105643,0.17219967150678944,-0.22635387208409652],\"type\":\"scatter3d\"}],                        {\"template\":{\"data\":{\"bar\":[{\"error_x\":{\"color\":\"#2a3f5f\"},\"error_y\":{\"color\":\"#2a3f5f\"},\"marker\":{\"line\":{\"color\":\"#E5ECF6\",\"width\":0.5},\"pattern\":{\"fillmode\":\"overlay\",\"size\":10,\"solidity\":0.2}},\"type\":\"bar\"}],\"barpolar\":[{\"marker\":{\"line\":{\"color\":\"#E5ECF6\",\"width\":0.5},\"pattern\":{\"fillmode\":\"overlay\",\"size\":10,\"solidity\":0.2}},\"type\":\"barpolar\"}],\"carpet\":[{\"aaxis\":{\"endlinecolor\":\"#2a3f5f\",\"gridcolor\":\"white\",\"linecolor\":\"white\",\"minorgridcolor\":\"white\",\"startlinecolor\":\"#2a3f5f\"},\"baxis\":{\"endlinecolor\":\"#2a3f5f\",\"gridcolor\":\"white\",\"linecolor\":\"white\",\"minorgridcolor\":\"white\",\"startlinecolor\":\"#2a3f5f\"},\"type\":\"carpet\"}],\"choropleth\":[{\"colorbar\":{\"outlinewidth\":0,\"ticks\":\"\"},\"type\":\"choropleth\"}],\"contour\":[{\"colorbar\":{\"outlinewidth\":0,\"ticks\":\"\"},\"colorscale\":[[0.0,\"#0d0887\"],[0.1111111111111111,\"#46039f\"],[0.2222222222222222,\"#7201a8\"],[0.3333333333333333,\"#9c179e\"],[0.4444444444444444,\"#bd3786\"],[0.5555555555555556,\"#d8576b\"],[0.6666666666666666,\"#ed7953\"],[0.7777777777777778,\"#fb9f3a\"],[0.8888888888888888,\"#fdca26\"],[1.0,\"#f0f921\"]],\"type\":\"contour\"}],\"contourcarpet\":[{\"colorbar\":{\"outlinewidth\":0,\"ticks\":\"\"},\"type\":\"contourcarpet\"}],\"heatmap\":[{\"colorbar\":{\"outlinewidth\":0,\"ticks\":\"\"},\"colorscale\":[[0.0,\"#0d0887\"],[0.1111111111111111,\"#46039f\"],[0.2222222222222222,\"#7201a8\"],[0.3333333333333333,\"#9c179e\"],[0.4444444444444444,\"#bd3786\"],[0.5555555555555556,\"#d8576b\"],[0.6666666666666666,\"#ed7953\"],[0.7777777777777778,\"#fb9f3a\"],[0.8888888888888888,\"#fdca26\"],[1.0,\"#f0f921\"]],\"type\":\"heatmap\"}],\"heatmapgl\":[{\"colorbar\":{\"outlinewidth\":0,\"ticks\":\"\"},\"colorscale\":[[0.0,\"#0d0887\"],[0.1111111111111111,\"#46039f\"],[0.2222222222222222,\"#7201a8\"],[0.3333333333333333,\"#9c179e\"],[0.4444444444444444,\"#bd3786\"],[0.5555555555555556,\"#d8576b\"],[0.6666666666666666,\"#ed7953\"],[0.7777777777777778,\"#fb9f3a\"],[0.8888888888888888,\"#fdca26\"],[1.0,\"#f0f921\"]],\"type\":\"heatmapgl\"}],\"histogram\":[{\"marker\":{\"pattern\":{\"fillmode\":\"overlay\",\"size\":10,\"solidity\":0.2}},\"type\":\"histogram\"}],\"histogram2d\":[{\"colorbar\":{\"outlinewidth\":0,\"ticks\":\"\"},\"colorscale\":[[0.0,\"#0d0887\"],[0.1111111111111111,\"#46039f\"],[0.2222222222222222,\"#7201a8\"],[0.3333333333333333,\"#9c179e\"],[0.4444444444444444,\"#bd3786\"],[0.5555555555555556,\"#d8576b\"],[0.6666666666666666,\"#ed7953\"],[0.7777777777777778,\"#fb9f3a\"],[0.8888888888888888,\"#fdca26\"],[1.0,\"#f0f921\"]],\"type\":\"histogram2d\"}],\"histogram2dcontour\":[{\"colorbar\":{\"outlinewidth\":0,\"ticks\":\"\"},\"colorscale\":[[0.0,\"#0d0887\"],[0.1111111111111111,\"#46039f\"],[0.2222222222222222,\"#7201a8\"],[0.3333333333333333,\"#9c179e\"],[0.4444444444444444,\"#bd3786\"],[0.5555555555555556,\"#d8576b\"],[0.6666666666666666,\"#ed7953\"],[0.7777777777777778,\"#fb9f3a\"],[0.8888888888888888,\"#fdca26\"],[1.0,\"#f0f921\"]],\"type\":\"histogram2dcontour\"}],\"mesh3d\":[{\"colorbar\":{\"outlinewidth\":0,\"ticks\":\"\"},\"type\":\"mesh3d\"}],\"parcoords\":[{\"line\":{\"colorbar\":{\"outlinewidth\":0,\"ticks\":\"\"}},\"type\":\"parcoords\"}],\"pie\":[{\"automargin\":true,\"type\":\"pie\"}],\"scatter\":[{\"marker\":{\"colorbar\":{\"outlinewidth\":0,\"ticks\":\"\"}},\"type\":\"scatter\"}],\"scatter3d\":[{\"line\":{\"colorbar\":{\"outlinewidth\":0,\"ticks\":\"\"}},\"marker\":{\"colorbar\":{\"outlinewidth\":0,\"ticks\":\"\"}},\"type\":\"scatter3d\"}],\"scattercarpet\":[{\"marker\":{\"colorbar\":{\"outlinewidth\":0,\"ticks\":\"\"}},\"type\":\"scattercarpet\"}],\"scattergeo\":[{\"marker\":{\"colorbar\":{\"outlinewidth\":0,\"ticks\":\"\"}},\"type\":\"scattergeo\"}],\"scattergl\":[{\"marker\":{\"colorbar\":{\"outlinewidth\":0,\"ticks\":\"\"}},\"type\":\"scattergl\"}],\"scattermapbox\":[{\"marker\":{\"colorbar\":{\"outlinewidth\":0,\"ticks\":\"\"}},\"type\":\"scattermapbox\"}],\"scatterpolar\":[{\"marker\":{\"colorbar\":{\"outlinewidth\":0,\"ticks\":\"\"}},\"type\":\"scatterpolar\"}],\"scatterpolargl\":[{\"marker\":{\"colorbar\":{\"outlinewidth\":0,\"ticks\":\"\"}},\"type\":\"scatterpolargl\"}],\"scatterternary\":[{\"marker\":{\"colorbar\":{\"outlinewidth\":0,\"ticks\":\"\"}},\"type\":\"scatterternary\"}],\"surface\":[{\"colorbar\":{\"outlinewidth\":0,\"ticks\":\"\"},\"colorscale\":[[0.0,\"#0d0887\"],[0.1111111111111111,\"#46039f\"],[0.2222222222222222,\"#7201a8\"],[0.3333333333333333,\"#9c179e\"],[0.4444444444444444,\"#bd3786\"],[0.5555555555555556,\"#d8576b\"],[0.6666666666666666,\"#ed7953\"],[0.7777777777777778,\"#fb9f3a\"],[0.8888888888888888,\"#fdca26\"],[1.0,\"#f0f921\"]],\"type\":\"surface\"}],\"table\":[{\"cells\":{\"fill\":{\"color\":\"#EBF0F8\"},\"line\":{\"color\":\"white\"}},\"header\":{\"fill\":{\"color\":\"#C8D4E3\"},\"line\":{\"color\":\"white\"}},\"type\":\"table\"}]},\"layout\":{\"annotationdefaults\":{\"arrowcolor\":\"#2a3f5f\",\"arrowhead\":0,\"arrowwidth\":1},\"autotypenumbers\":\"strict\",\"coloraxis\":{\"colorbar\":{\"outlinewidth\":0,\"ticks\":\"\"}},\"colorscale\":{\"diverging\":[[0,\"#8e0152\"],[0.1,\"#c51b7d\"],[0.2,\"#de77ae\"],[0.3,\"#f1b6da\"],[0.4,\"#fde0ef\"],[0.5,\"#f7f7f7\"],[0.6,\"#e6f5d0\"],[0.7,\"#b8e186\"],[0.8,\"#7fbc41\"],[0.9,\"#4d9221\"],[1,\"#276419\"]],\"sequential\":[[0.0,\"#0d0887\"],[0.1111111111111111,\"#46039f\"],[0.2222222222222222,\"#7201a8\"],[0.3333333333333333,\"#9c179e\"],[0.4444444444444444,\"#bd3786\"],[0.5555555555555556,\"#d8576b\"],[0.6666666666666666,\"#ed7953\"],[0.7777777777777778,\"#fb9f3a\"],[0.8888888888888888,\"#fdca26\"],[1.0,\"#f0f921\"]],\"sequentialminus\":[[0.0,\"#0d0887\"],[0.1111111111111111,\"#46039f\"],[0.2222222222222222,\"#7201a8\"],[0.3333333333333333,\"#9c179e\"],[0.4444444444444444,\"#bd3786\"],[0.5555555555555556,\"#d8576b\"],[0.6666666666666666,\"#ed7953\"],[0.7777777777777778,\"#fb9f3a\"],[0.8888888888888888,\"#fdca26\"],[1.0,\"#f0f921\"]]},\"colorway\":[\"#636efa\",\"#EF553B\",\"#00cc96\",\"#ab63fa\",\"#FFA15A\",\"#19d3f3\",\"#FF6692\",\"#B6E880\",\"#FF97FF\",\"#FECB52\"],\"font\":{\"color\":\"#2a3f5f\"},\"geo\":{\"bgcolor\":\"white\",\"lakecolor\":\"white\",\"landcolor\":\"#E5ECF6\",\"showlakes\":true,\"showland\":true,\"subunitcolor\":\"white\"},\"hoverlabel\":{\"align\":\"left\"},\"hovermode\":\"closest\",\"mapbox\":{\"style\":\"light\"},\"paper_bgcolor\":\"white\",\"plot_bgcolor\":\"#E5ECF6\",\"polar\":{\"angularaxis\":{\"gridcolor\":\"white\",\"linecolor\":\"white\",\"ticks\":\"\"},\"bgcolor\":\"#E5ECF6\",\"radialaxis\":{\"gridcolor\":\"white\",\"linecolor\":\"white\",\"ticks\":\"\"}},\"scene\":{\"xaxis\":{\"backgroundcolor\":\"#E5ECF6\",\"gridcolor\":\"white\",\"gridwidth\":2,\"linecolor\":\"white\",\"showbackground\":true,\"ticks\":\"\",\"zerolinecolor\":\"white\"},\"yaxis\":{\"backgroundcolor\":\"#E5ECF6\",\"gridcolor\":\"white\",\"gridwidth\":2,\"linecolor\":\"white\",\"showbackground\":true,\"ticks\":\"\",\"zerolinecolor\":\"white\"},\"zaxis\":{\"backgroundcolor\":\"#E5ECF6\",\"gridcolor\":\"white\",\"gridwidth\":2,\"linecolor\":\"white\",\"showbackground\":true,\"ticks\":\"\",\"zerolinecolor\":\"white\"}},\"shapedefaults\":{\"line\":{\"color\":\"#2a3f5f\"}},\"ternary\":{\"aaxis\":{\"gridcolor\":\"white\",\"linecolor\":\"white\",\"ticks\":\"\"},\"baxis\":{\"gridcolor\":\"white\",\"linecolor\":\"white\",\"ticks\":\"\"},\"bgcolor\":\"#E5ECF6\",\"caxis\":{\"gridcolor\":\"white\",\"linecolor\":\"white\",\"ticks\":\"\"}},\"title\":{\"x\":0.05},\"xaxis\":{\"automargin\":true,\"gridcolor\":\"white\",\"linecolor\":\"white\",\"ticks\":\"\",\"title\":{\"standoff\":15},\"zerolinecolor\":\"white\",\"zerolinewidth\":2},\"yaxis\":{\"automargin\":true,\"gridcolor\":\"white\",\"linecolor\":\"white\",\"ticks\":\"\",\"title\":{\"standoff\":15},\"zerolinecolor\":\"white\",\"zerolinewidth\":2}}},\"scene\":{\"domain\":{\"x\":[0.0,1.0],\"y\":[0.0,1.0]},\"xaxis\":{\"title\":{\"text\":\"PC 1\"}},\"yaxis\":{\"title\":{\"text\":\"PC 2\"}},\"zaxis\":{\"title\":{\"text\":\"PC 3\"}}},\"coloraxis\":{\"colorbar\":{\"title\":{\"text\":\"Class\"}},\"colorscale\":[[0.0,\"#0d0887\"],[0.1111111111111111,\"#46039f\"],[0.2222222222222222,\"#7201a8\"],[0.3333333333333333,\"#9c179e\"],[0.4444444444444444,\"#bd3786\"],[0.5555555555555556,\"#d8576b\"],[0.6666666666666666,\"#ed7953\"],[0.7777777777777778,\"#fb9f3a\"],[0.8888888888888888,\"#fdca26\"],[1.0,\"#f0f921\"]]},\"legend\":{\"title\":{\"text\":\"Class\"},\"tracegroupgap\":0,\"x\":0,\"y\":1},\"margin\":{\"t\":60},\"width\":800},                        {\"responsive\": true}                    ).then(function(){\n",
       "                            \n",
       "var gd = document.getElementById('be85d837-c5cd-45a0-a61e-291dbd12d348');\n",
       "var x = new MutationObserver(function (mutations, observer) {{\n",
       "        var display = window.getComputedStyle(gd).display;\n",
       "        if (!display || display === 'none') {{\n",
       "            console.log([gd, 'removed!']);\n",
       "            Plotly.purge(gd);\n",
       "            observer.disconnect();\n",
       "        }}\n",
       "}});\n",
       "\n",
       "// Listen for the removal of the full notebook cells\n",
       "var notebookContainer = gd.closest('#notebook-container');\n",
       "if (notebookContainer) {{\n",
       "    x.observe(notebookContainer, {childList: true});\n",
       "}}\n",
       "\n",
       "// Listen for the clearing of the current output cell\n",
       "var outputEl = gd.closest('.output');\n",
       "if (outputEl) {{\n",
       "    x.observe(outputEl, {childList: true});\n",
       "}}\n",
       "\n",
       "                        })                };                });            </script>        </div>"
      ]
     },
     "metadata": {},
     "output_type": "display_data"
    }
   ],
   "source": [
    "# Creating a 3D-Scatter with the PCA data and the clusters\n",
    "\n",
    "fig = px.scatter_3d(\n",
    "    clustered_df1,\n",
    "    x=\"PC 1\",\n",
    "    y=\"PC 2\",\n",
    "    z=\"PC 3\",\n",
    "    hover_data=[\"median_listing_price\"],\n",
    "    hover_name=\"County\",\n",
    "    color=\"Class\",\n",
    "    symbol=\"Class\",\n",
    "    width=800,\n",
    ")\n",
    "fig.update_layout(legend=dict(x=0, y=1))\n",
    "fig.show()"
   ]
  },
  {
   "cell_type": "markdown",
   "metadata": {},
   "source": [
    "# kmeans=2"
   ]
  },
  {
   "cell_type": "code",
   "execution_count": 112,
   "metadata": {},
   "outputs": [],
   "source": [
    "# Initialize the K-Means model.\n",
    "model = KMeans(n_clusters=2, random_state=1)\n",
    "\n",
    "# Fit the model\n",
    "model.fit(pcs_df)\n",
    "\n",
    "# Predict clusters\n",
    "predictions = model.predict(pcs_df)\n"
   ]
  },
  {
   "cell_type": "code",
   "execution_count": 111,
   "metadata": {},
   "outputs": [
    {
     "name": "stdout",
     "output_type": "stream",
     "text": [
      "(7196, 20)\n"
     ]
    },
    {
     "data": {
      "text/html": [
       "<div>\n",
       "<style scoped>\n",
       "    .dataframe tbody tr th:only-of-type {\n",
       "        vertical-align: middle;\n",
       "    }\n",
       "\n",
       "    .dataframe tbody tr th {\n",
       "        vertical-align: top;\n",
       "    }\n",
       "\n",
       "    .dataframe thead th {\n",
       "        text-align: right;\n",
       "    }\n",
       "</style>\n",
       "<table border=\"1\" class=\"dataframe\">\n",
       "  <thead>\n",
       "    <tr style=\"text-align: right;\">\n",
       "      <th></th>\n",
       "      <th>Year</th>\n",
       "      <th>median_listing_price</th>\n",
       "      <th>active_listing_count</th>\n",
       "      <th>median_days_on_market</th>\n",
       "      <th>new_listing_count</th>\n",
       "      <th>price_increased_count</th>\n",
       "      <th>price_reduced_count</th>\n",
       "      <th>median_square_feet</th>\n",
       "      <th>average_listing_price</th>\n",
       "      <th>total_listing_count</th>\n",
       "      <th>violent_crime_rate</th>\n",
       "      <th>30_Year_Fixed_Rate</th>\n",
       "      <th>Number_of_Schools</th>\n",
       "      <th>median_listing_price_mm</th>\n",
       "      <th>Number_of_Parks</th>\n",
       "      <th>PC 1</th>\n",
       "      <th>PC 2</th>\n",
       "      <th>PC 3</th>\n",
       "      <th>County</th>\n",
       "      <th>Class</th>\n",
       "    </tr>\n",
       "  </thead>\n",
       "  <tbody>\n",
       "    <tr>\n",
       "      <th>0</th>\n",
       "      <td>2018.0</td>\n",
       "      <td>224000.0</td>\n",
       "      <td>306.0</td>\n",
       "      <td>126.0</td>\n",
       "      <td>52.0</td>\n",
       "      <td>0.0</td>\n",
       "      <td>28.0</td>\n",
       "      <td>2174.0</td>\n",
       "      <td>352753.0</td>\n",
       "      <td>340.0</td>\n",
       "      <td>243.6</td>\n",
       "      <td>4.64</td>\n",
       "      <td>53.0</td>\n",
       "      <td>-0.025663</td>\n",
       "      <td>34.0</td>\n",
       "      <td>-1.303775</td>\n",
       "      <td>0.917214</td>\n",
       "      <td>0.667250</td>\n",
       "      <td>Cherokee</td>\n",
       "      <td>1.0</td>\n",
       "    </tr>\n",
       "    <tr>\n",
       "      <th>1</th>\n",
       "      <td>2018.0</td>\n",
       "      <td>245000.0</td>\n",
       "      <td>1197.0</td>\n",
       "      <td>85.0</td>\n",
       "      <td>296.0</td>\n",
       "      <td>12.0</td>\n",
       "      <td>204.0</td>\n",
       "      <td>2234.0</td>\n",
       "      <td>325987.0</td>\n",
       "      <td>1445.0</td>\n",
       "      <td>660.2</td>\n",
       "      <td>4.64</td>\n",
       "      <td>354.0</td>\n",
       "      <td>-0.019608</td>\n",
       "      <td>479.0</td>\n",
       "      <td>2.113860</td>\n",
       "      <td>-1.429948</td>\n",
       "      <td>0.190414</td>\n",
       "      <td>Craven</td>\n",
       "      <td>1.0</td>\n",
       "    </tr>\n",
       "    <tr>\n",
       "      <th>2</th>\n",
       "      <td>2018.0</td>\n",
       "      <td>179900.0</td>\n",
       "      <td>145.0</td>\n",
       "      <td>114.0</td>\n",
       "      <td>28.0</td>\n",
       "      <td>0.0</td>\n",
       "      <td>24.0</td>\n",
       "      <td>1987.0</td>\n",
       "      <td>235683.0</td>\n",
       "      <td>176.0</td>\n",
       "      <td>89</td>\n",
       "      <td>4.64</td>\n",
       "      <td>45.0</td>\n",
       "      <td>-0.024403</td>\n",
       "      <td>13.0</td>\n",
       "      <td>-1.739669</td>\n",
       "      <td>0.012666</td>\n",
       "      <td>0.162785</td>\n",
       "      <td>Catawba</td>\n",
       "      <td>1.0</td>\n",
       "    </tr>\n",
       "    <tr>\n",
       "      <th>3</th>\n",
       "      <td>2018.0</td>\n",
       "      <td>199000.0</td>\n",
       "      <td>545.0</td>\n",
       "      <td>132.0</td>\n",
       "      <td>48.0</td>\n",
       "      <td>0.0</td>\n",
       "      <td>52.0</td>\n",
       "      <td>1708.0</td>\n",
       "      <td>264228.0</td>\n",
       "      <td>547.0</td>\n",
       "      <td>272.1</td>\n",
       "      <td>4.64</td>\n",
       "      <td>26.0</td>\n",
       "      <td>-0.004502</td>\n",
       "      <td>2.0</td>\n",
       "      <td>-1.647413</td>\n",
       "      <td>-0.443298</td>\n",
       "      <td>1.428429</td>\n",
       "      <td>Gaston</td>\n",
       "      <td>1.0</td>\n",
       "    </tr>\n",
       "    <tr>\n",
       "      <th>4</th>\n",
       "      <td>2018.0</td>\n",
       "      <td>400000.0</td>\n",
       "      <td>364.0</td>\n",
       "      <td>105.0</td>\n",
       "      <td>80.0</td>\n",
       "      <td>0.0</td>\n",
       "      <td>56.0</td>\n",
       "      <td>2350.0</td>\n",
       "      <td>520135.0</td>\n",
       "      <td>445.0</td>\n",
       "      <td>153.6</td>\n",
       "      <td>4.64</td>\n",
       "      <td>117.0</td>\n",
       "      <td>-0.024390</td>\n",
       "      <td>126.0</td>\n",
       "      <td>-0.132068</td>\n",
       "      <td>1.980880</td>\n",
       "      <td>0.094634</td>\n",
       "      <td>Warren</td>\n",
       "      <td>1.0</td>\n",
       "    </tr>\n",
       "  </tbody>\n",
       "</table>\n",
       "</div>"
      ],
      "text/plain": [
       "     Year  median_listing_price  active_listing_count  median_days_on_market  \\\n",
       "0  2018.0              224000.0                 306.0                  126.0   \n",
       "1  2018.0              245000.0                1197.0                   85.0   \n",
       "2  2018.0              179900.0                 145.0                  114.0   \n",
       "3  2018.0              199000.0                 545.0                  132.0   \n",
       "4  2018.0              400000.0                 364.0                  105.0   \n",
       "\n",
       "   new_listing_count  price_increased_count  price_reduced_count  \\\n",
       "0               52.0                    0.0                 28.0   \n",
       "1              296.0                   12.0                204.0   \n",
       "2               28.0                    0.0                 24.0   \n",
       "3               48.0                    0.0                 52.0   \n",
       "4               80.0                    0.0                 56.0   \n",
       "\n",
       "   median_square_feet  average_listing_price  total_listing_count  \\\n",
       "0              2174.0               352753.0                340.0   \n",
       "1              2234.0               325987.0               1445.0   \n",
       "2              1987.0               235683.0                176.0   \n",
       "3              1708.0               264228.0                547.0   \n",
       "4              2350.0               520135.0                445.0   \n",
       "\n",
       "  violent_crime_rate  30_Year_Fixed_Rate  Number_of_Schools  \\\n",
       "0              243.6                4.64               53.0   \n",
       "1              660.2                4.64              354.0   \n",
       "2                 89                4.64               45.0   \n",
       "3              272.1                4.64               26.0   \n",
       "4              153.6                4.64              117.0   \n",
       "\n",
       "   median_listing_price_mm  Number_of_Parks      PC 1      PC 2      PC 3  \\\n",
       "0                -0.025663             34.0 -1.303775  0.917214  0.667250   \n",
       "1                -0.019608            479.0  2.113860 -1.429948  0.190414   \n",
       "2                -0.024403             13.0 -1.739669  0.012666  0.162785   \n",
       "3                -0.004502              2.0 -1.647413 -0.443298  1.428429   \n",
       "4                -0.024390            126.0 -0.132068  1.980880  0.094634   \n",
       "\n",
       "     County  Class  \n",
       "0  Cherokee    1.0  \n",
       "1    Craven    1.0  \n",
       "2   Catawba    1.0  \n",
       "3    Gaston    1.0  \n",
       "4    Warren    1.0  "
      ]
     },
     "execution_count": 111,
     "metadata": {},
     "output_type": "execute_result"
    }
   ],
   "source": [
    "# Create a new DataFrame including predicted clusters and real estate features.\n",
    "# Concatentate the df and pcs_df DataFrames on the same columns.\n",
    "clustered_df = pd.concat([df, pcs_df], axis=1)\n",
    "\n",
    "#  Add a new column, \"County\" to the clustered_df DataFrame that holds the names of the counties. \n",
    "clustered_df = pd.concat([clustered_df,re_name_df], axis=1)\n",
    "\n",
    "#  Add a new column, \"Class\" to the clustered_df DataFrame that holds the predictions.\n",
    "clustered_df[\"Class\"] = pd.Series(predictions, index=df.index)\n",
    "\n",
    "# Print the shape of the clustered_df\n",
    "print(clustered_df.shape)\n",
    "clustered_df.head()"
   ]
  },
  {
   "cell_type": "code",
   "execution_count": 110,
   "metadata": {},
   "outputs": [
    {
     "data": {
      "application/vnd.plotly.v1+json": {
       "config": {
        "plotlyServerURL": "https://plot.ly"
       },
       "data": [
        {
         "customdata": [
          [
           224000
          ],
          [
           245000
          ],
          [
           179900
          ],
          [
           199000
          ],
          [
           400000
          ],
          [
           192000
          ],
          [
           439000
          ],
          [
           299990
          ],
          [
           147000
          ],
          [
           159000
          ],
          [
           329900
          ],
          [
           130000
          ],
          [
           259900
          ],
          [
           198400
          ],
          [
           129900
          ],
          [
           269000
          ],
          [
           399000
          ],
          [
           159000
          ],
          [
           205900
          ],
          [
           266000
          ],
          [
           195000
          ],
          [
           265900
          ],
          [
           375000
          ],
          [
           539900
          ],
          [
           135000
          ],
          [
           327500
          ],
          [
           325000
          ],
          [
           179900
          ],
          [
           424500
          ],
          [
           279000
          ],
          [
           246150
          ],
          [
           152990
          ],
          [
           79900
          ],
          [
           119900
          ],
          [
           164900
          ],
          [
           169900
          ],
          [
           168000
          ],
          [
           419000
          ],
          [
           284500
          ],
          [
           210000
          ],
          [
           329000
          ],
          [
           319950
          ],
          [
           245000
          ],
          [
           249900
          ],
          [
           229900
          ],
          [
           246290
          ],
          [
           194000
          ],
          [
           182995
          ],
          [
           155000
          ],
          [
           205000
          ],
          [
           302475
          ],
          [
           169900
          ],
          [
           214900
          ],
          [
           129500
          ],
          [
           269900
          ],
          [
           280000
          ],
          [
           385000
          ],
          [
           289000
          ],
          [
           158000
          ],
          [
           304900
          ],
          [
           314900
          ],
          [
           399900
          ],
          [
           169900
          ],
          [
           204900
          ],
          [
           229000
          ],
          [
           184400
          ],
          [
           206080
          ],
          [
           273750
          ],
          [
           212600
          ],
          [
           149900
          ],
          [
           207450
          ],
          [
           317475
          ],
          [
           302500
          ],
          [
           243000
          ],
          [
           347000
          ],
          [
           201500
          ],
          [
           269900
          ],
          [
           198450
          ],
          [
           244608
          ],
          [
           329250
          ],
          [
           249900
          ],
          [
           199700
          ],
          [
           394500
          ],
          [
           319438
          ],
          [
           179950
          ],
          [
           127450
          ],
          [
           180000
          ],
          [
           324495
          ],
          [
           164950
          ],
          [
           389479
          ],
          [
           549000
          ],
          [
           159900
          ],
          [
           133750
          ],
          [
           81950
          ],
          [
           372450
          ],
          [
           244950
          ],
          [
           169900
          ],
          [
           271500
          ],
          [
           173700
          ],
          [
           279950
          ],
          [
           216000
          ],
          [
           193745
          ],
          [
           225200
          ],
          [
           429000
          ],
          [
           263000
          ],
          [
           410000
          ],
          [
           214950
          ],
          [
           199900
          ],
          [
           198900
          ],
          [
           399450
          ],
          [
           159450
          ],
          [
           424750
          ],
          [
           124900
          ],
          [
           142450
          ],
          [
           178400
          ],
          [
           310500
          ],
          [
           419500
          ],
          [
           180900
          ],
          [
           154900
          ],
          [
           229900
          ],
          [
           129750
          ],
          [
           195750
          ],
          [
           284900
          ],
          [
           242500
          ],
          [
           277500
          ],
          [
           268900
          ],
          [
           169900
          ],
          [
           308750
          ],
          [
           328200
          ],
          [
           164950
          ],
          [
           185000
          ],
          [
           237000
          ],
          [
           245000
          ],
          [
           164500
          ],
          [
           285000
          ],
          [
           268900
          ],
          [
           434900
          ],
          [
           154450
          ],
          [
           152850
          ],
          [
           159950
          ],
          [
           322900
          ],
          [
           84450
          ],
          [
           191450
          ],
          [
           132200
          ],
          [
           349950
          ],
          [
           417250
          ],
          [
           179900
          ],
          [
           219999
          ],
          [
           199950
          ],
          [
           124950
          ],
          [
           253250
          ],
          [
           244900
          ],
          [
           224900
          ],
          [
           189900
          ],
          [
           417000
          ],
          [
           254950
          ],
          [
           207400
          ],
          [
           199900
          ],
          [
           215000
          ],
          [
           259400
          ],
          [
           197450
          ],
          [
           394000
          ],
          [
           300000
          ],
          [
           429000
          ],
          [
           326950
          ],
          [
           179900
          ],
          [
           402139
          ],
          [
           182995
          ],
          [
           279900
          ],
          [
           124900
          ],
          [
           149900
          ],
          [
           288000
          ],
          [
           259900
          ],
          [
           274900
          ],
          [
           147000
          ],
          [
           179900
          ],
          [
           309587
          ],
          [
           169900
          ],
          [
           159450
          ],
          [
           547000
          ],
          [
           332200
          ],
          [
           378500
          ],
          [
           187500
          ],
          [
           129750
          ],
          [
           327250
          ],
          [
           182150
          ],
          [
           400000
          ],
          [
           218700
          ],
          [
           206585
          ],
          [
           198950
          ],
          [
           249000
          ],
          [
           274900
          ],
          [
           328266
          ],
          [
           303480
          ],
          [
           217350
          ],
          [
           425000
          ],
          [
           279000
          ],
          [
           265000
          ],
          [
           128500
          ],
          [
           219900
          ],
          [
           184900
          ],
          [
           159000
          ],
          [
           429000
          ],
          [
           269900
          ],
          [
           174900
          ],
          [
           256248
          ],
          [
           219900
          ],
          [
           249500
          ],
          [
           239500
          ],
          [
           332970
          ],
          [
           335000
          ],
          [
           262900
          ],
          [
           419000
          ],
          [
           279000
          ],
          [
           126500
          ],
          [
           194900
          ],
          [
           249900
          ],
          [
           375000
          ],
          [
           128000
          ],
          [
           284990
          ],
          [
           189000
          ],
          [
           149900
          ],
          [
           397000
          ],
          [
           134500
          ],
          [
           154900
          ],
          [
           249000
          ],
          [
           184900
          ],
          [
           171000
          ],
          [
           174900
          ],
          [
           195000
          ],
          [
           159900
          ],
          [
           298000
          ],
          [
           164000
          ],
          [
           549000
          ],
          [
           180000
          ],
          [
           200000
          ],
          [
           144900
          ],
          [
           196900
          ],
          [
           89995
          ],
          [
           309173
          ],
          [
           299501
          ],
          [
           185000
          ],
          [
           334500
          ],
          [
           259900
          ],
          [
           207900
          ],
          [
           249000
          ],
          [
           339000
          ],
          [
           414000
          ],
          [
           329900
          ],
          [
           238000
          ],
          [
           434900
          ],
          [
           199900
          ],
          [
           197000
          ],
          [
           224900
          ],
          [
           174900
          ],
          [
           414900
          ],
          [
           147490
          ],
          [
           350000
          ],
          [
           301440
          ],
          [
           200000
          ],
          [
           193950
          ],
          [
           201700
          ],
          [
           295000
          ],
          [
           335195
          ],
          [
           184445
          ],
          [
           255848
          ],
          [
           428903
          ],
          [
           265000
          ],
          [
           339700
          ],
          [
           259450
          ],
          [
           238900
          ],
          [
           159450
          ],
          [
           544400
          ],
          [
           277450
          ],
          [
           237500
          ],
          [
           179498
          ],
          [
           350000
          ],
          [
           168450
          ],
          [
           159000
          ],
          [
           305000
          ],
          [
           178900
          ],
          [
           199900
          ],
          [
           148450
          ],
          [
           237000
          ],
          [
           425000
          ],
          [
           200000
          ],
          [
           332000
          ],
          [
           166400
          ],
          [
           154900
          ],
          [
           149200
          ],
          [
           129900
          ],
          [
           93450
          ],
          [
           297625
          ],
          [
           417250
          ],
          [
           249900
          ],
          [
           129200
          ],
          [
           334950
          ],
          [
           204950
          ],
          [
           249900
          ],
          [
           214950
          ],
          [
           290000
          ],
          [
           169200
          ],
          [
           199700
          ],
          [
           399000
          ],
          [
           419000
          ],
          [
           265000
          ],
          [
           196945
          ],
          [
           119900
          ],
          [
           429000
          ],
          [
           121745
          ],
          [
           278700
          ],
          [
           285000
          ],
          [
           274900
          ],
          [
           179900
          ],
          [
           189000
          ],
          [
           327500
          ],
          [
           231800
          ],
          [
           168900
          ],
          [
           372000
          ],
          [
           231950
          ],
          [
           154900
          ],
          [
           298850
          ],
          [
           215450
          ],
          [
           189900
          ],
          [
           431950
          ]
         ],
         "hovertemplate": "<b>%{hovertext}</b><br><br>Class=%{marker.color}<br>PC 1=%{x}<br>PC 2=%{y}<br>PC 3=%{z}<br>median_listing_price=%{customdata[0]}<extra></extra>",
         "hovertext": [
          "Cherokee",
          "Craven",
          "Catawba",
          "Gaston",
          "Warren",
          "Lenoir",
          "Lee",
          "Henderson",
          "Beaufort",
          "Hertford",
          "Onslow",
          "Ashe",
          "Currituck",
          "Sampson",
          "Union",
          "Rowan",
          "Graham",
          "Caswell",
          "Pasquotank",
          "Hyde",
          "Mcdowell",
          "Edgecombe",
          "Buncombe",
          "Pender",
          "Halifax",
          "Franklin",
          "Pamlico",
          "Yadkin",
          "Gates",
          "Rutherford",
          "Columbus",
          "Clay",
          "Durham",
          "Wilson",
          "Hoke",
          "Tyrrell",
          "Davie",
          "Perquimans",
          "Alamance",
          "Johnston",
          "Montgomery",
          "Guilford",
          "Jones",
          "Wayne",
          "Anson",
          "Richmond",
          "Orange",
          "Caldwell",
          "Wilkes",
          "Moore",
          "Northampton",
          "Mecklenburg",
          "Alleghany",
          "Cleveland",
          "Brunswick",
          "Yancey",
          "Lincoln",
          "Nash",
          "Carteret",
          "Madison",
          "Scotland",
          "Burke",
          "Harnett",
          "Martin",
          "Bladen",
          "Chowan",
          "Bertie",
          "Haywood",
          "Alexander",
          "Cumberland",
          "Jackson",
          "Vance",
          "Greene",
          "Chatham",
          "Watauga",
          "Wake",
          "Davidson",
          "Avery",
          "Duplin",
          "Surry",
          "Robeson",
          "Iredell",
          "Stanly",
          "New hanover",
          "Cabarrus",
          "Forsyth",
          "Camden",
          "Mitchell",
          "Swain",
          "Polk",
          "Macon",
          "Pitt",
          "Washington",
          "Person",
          "Stokes",
          "Randolph",
          "Granville",
          "Rockingham",
          "Franklin",
          "Warren",
          "Davie",
          "Chatham",
          "Macon",
          "Chowan",
          "Hertford",
          "New hanover",
          "Lee",
          "Currituck",
          "Richmond",
          "Washington",
          "Gaston",
          "Halifax",
          "Wake",
          "Alleghany",
          "Pitt",
          "Beaufort",
          "Orange",
          "Onslow",
          "Nash",
          "Mcdowell",
          "Granville",
          "Henderson",
          "Mitchell",
          "Yadkin",
          "Catawba",
          "Pamlico",
          "Pasquotank",
          "Union",
          "Bertie",
          "Polk",
          "Wilson",
          "Tyrrell",
          "Johnston",
          "Carteret",
          "Hyde",
          "Durham",
          "Dare",
          "Davidson",
          "Rowan",
          "Cherokee",
          "Yancey",
          "Randolph",
          "Mecklenburg",
          "Wilkes",
          "Camden",
          "Greene",
          "Haywood",
          "Sampson",
          "Edgecombe",
          "Caswell",
          "Vance",
          "Avery",
          "Perquimans",
          "Robeson",
          "Hoke",
          "Clay",
          "Brunswick",
          "Gates",
          "Lincoln",
          "Lenoir",
          "Watauga",
          "Montgomery",
          "Duplin",
          "Stanly",
          "Graham",
          "Anson",
          "Jones",
          "Moore",
          "Transylvania",
          "Surry",
          "Swain",
          "Stokes",
          "Pender",
          "Ashe",
          "Northampton",
          "Person",
          "Scotland",
          "Martin",
          "Buncombe",
          "Iredell",
          "Alexander",
          "Craven",
          "Cumberland",
          "Rockingham",
          "Columbus",
          "Madison",
          "Rutherford",
          "Guilford",
          "Alamance",
          "Jackson",
          "Bladen",
          "Burke",
          "Caldwell",
          "Forsyth",
          "Forsyth",
          "Stanly",
          "Montgomery",
          "Transylvania",
          "Chatham",
          "Brunswick",
          "Wilson",
          "Mcdowell",
          "Columbus",
          "Hertford",
          "Cherokee",
          "Pender",
          "Burke",
          "Bladen",
          "Moore",
          "Pasquotank",
          "Catawba",
          "Richmond",
          "Davie",
          "Halifax",
          "New hanover",
          "Swain",
          "Duplin",
          "Yancey",
          "Yadkin",
          "Wilkes",
          "Granville",
          "Camden",
          "Caswell",
          "Warren",
          "Avery",
          "Bertie",
          "Johnston",
          "Durham",
          "Onslow",
          "Alamance",
          "Lincoln",
          "Rowan",
          "Jackson",
          "Franklin",
          "Harnett",
          "Guilford",
          "Gates",
          "Pitt",
          "Person",
          "Washington",
          "Gaston",
          "Northampton",
          "Rutherford",
          "Greene",
          "Wayne",
          "Anson",
          "Hoke",
          "Orange",
          "Lenoir",
          "Iredell",
          "Mecklenburg",
          "Wake",
          "Sampson",
          "Ashe",
          "Polk",
          "Surry",
          "Union",
          "Buncombe",
          "Lee",
          "Cleveland",
          "Haywood",
          "Graham",
          "Macon",
          "Henderson",
          "Watauga",
          "Hyde",
          "Caldwell",
          "Alexander",
          "Stokes",
          "Carteret",
          "Randolph",
          "Tyrrell",
          "Craven",
          "Vance",
          "Davidson",
          "Cabarrus",
          "Edgecombe",
          "Alleghany",
          "Nash",
          "Clay",
          "Mitchell",
          "Rockingham",
          "Pamlico",
          "Martin",
          "Beaufort",
          "Dare",
          "Perquimans",
          "Robeson",
          "Jones",
          "Scotland",
          "Polk",
          "Ashe",
          "Columbus",
          "Gates",
          "Mcdowell",
          "Wilson",
          "Camden",
          "Durham",
          "Wake",
          "Moore",
          "Washington",
          "Guilford",
          "Iredell",
          "Johnston",
          "Montgomery",
          "Orange",
          "Chowan",
          "Lee",
          "Duplin",
          "Gaston",
          "Rutherford",
          "Jackson",
          "Alleghany",
          "Forsyth",
          "Nash",
          "Greene",
          "Cabarrus",
          "Pender",
          "Buncombe",
          "Watauga",
          "Lenoir",
          "Hoke",
          "Surry",
          "Wayne",
          "Lincoln"
         ],
         "legendgroup": "1.0",
         "marker": {
          "color": [
           1,
           1,
           1,
           1,
           1,
           1,
           1,
           1,
           1,
           1,
           1,
           1,
           1,
           1,
           1,
           1,
           1,
           1,
           1,
           1,
           1,
           1,
           1,
           1,
           1,
           1,
           1,
           1,
           1,
           1,
           1,
           1,
           1,
           1,
           1,
           1,
           1,
           1,
           1,
           1,
           1,
           1,
           1,
           1,
           1,
           1,
           1,
           1,
           1,
           1,
           1,
           1,
           1,
           1,
           1,
           1,
           1,
           1,
           1,
           1,
           1,
           1,
           1,
           1,
           1,
           1,
           1,
           1,
           1,
           1,
           1,
           1,
           1,
           1,
           1,
           1,
           1,
           1,
           1,
           1,
           1,
           1,
           1,
           1,
           1,
           1,
           1,
           1,
           1,
           1,
           1,
           1,
           1,
           1,
           1,
           1,
           1,
           1,
           1,
           1,
           1,
           1,
           1,
           1,
           1,
           1,
           1,
           1,
           1,
           1,
           1,
           1,
           1,
           1,
           1,
           1,
           1,
           1,
           1,
           1,
           1,
           1,
           1,
           1,
           1,
           1,
           1,
           1,
           1,
           1,
           1,
           1,
           1,
           1,
           1,
           1,
           1,
           1,
           1,
           1,
           1,
           1,
           1,
           1,
           1,
           1,
           1,
           1,
           1,
           1,
           1,
           1,
           1,
           1,
           1,
           1,
           1,
           1,
           1,
           1,
           1,
           1,
           1,
           1,
           1,
           1,
           1,
           1,
           1,
           1,
           1,
           1,
           1,
           1,
           1,
           1,
           1,
           1,
           1,
           1,
           1,
           1,
           1,
           1,
           1,
           1,
           1,
           1,
           1,
           1,
           1,
           1,
           1,
           1,
           1,
           1,
           1,
           1,
           1,
           1,
           1,
           1,
           1,
           1,
           1,
           1,
           1,
           1,
           1,
           1,
           1,
           1,
           1,
           1,
           1,
           1,
           1,
           1,
           1,
           1,
           1,
           1,
           1,
           1,
           1,
           1,
           1,
           1,
           1,
           1,
           1,
           1,
           1,
           1,
           1,
           1,
           1,
           1,
           1,
           1,
           1,
           1,
           1,
           1,
           1,
           1,
           1,
           1,
           1,
           1,
           1,
           1,
           1,
           1,
           1,
           1,
           1,
           1,
           1,
           1,
           1,
           1,
           1,
           1,
           1,
           1,
           1,
           1,
           1,
           1,
           1,
           1,
           1,
           1,
           1,
           1,
           1,
           1,
           1,
           1,
           1,
           1,
           1,
           1,
           1,
           1,
           1,
           1,
           1,
           1,
           1,
           1,
           1,
           1,
           1,
           1,
           1,
           1,
           1,
           1,
           1,
           1,
           1,
           1,
           1,
           1,
           1,
           1,
           1,
           1,
           1,
           1,
           1,
           1,
           1,
           1,
           1,
           1,
           1,
           1,
           1,
           1,
           1,
           1,
           1
          ],
          "coloraxis": "coloraxis",
          "symbol": "circle"
         },
         "mode": "markers",
         "name": "1.0",
         "scene": "scene",
         "showlegend": true,
         "type": "scatter3d",
         "x": [
          -1.3037753290710525,
          2.1138595764086188,
          -1.7396689983559952,
          -1.6474128516293305,
          -0.1320683709110543,
          -2.2610271609546126,
          -1.1791879005718546,
          1.2415400131854637,
          -1.788979870166847,
          -0.10923853303818068,
          -0.9217052832402517,
          -1.7658417598348783,
          -1.2084614244499803,
          -0.3681441867613629,
          -1.5508789569625863,
          -1.4709503524650231,
          1.8356580816461145,
          -1.6415916096418972,
          -1.3556294025359075,
          0.7421939565310037,
          -1.3089369322757696,
          -0.5674583903321466,
          2.592376204778225,
          0.1072193786953302,
          -1.9611451042430499,
          1.5549387195930089,
          -0.9146035425749157,
          -1.3288054847375632,
          -0.7006676117017281,
          -1.12077875448368,
          -1.9229404566880712,
          1.5097742357264914,
          -2.3136139546606853,
          -2.096757955099158,
          -1.8072941102427975,
          -0.8524790834336445,
          -2.085007705516317,
          -0.3016642470225889,
          -1.0993208841938253,
          -0.4552052667257832,
          1.343190513938199,
          -0.6067397206165898,
          -1.6564563381304034,
          0.048023625183301256,
          -1.8221912372025515,
          0.3186190672461769,
          -1.4687343239107418,
          -1.2732401873725265,
          -1.4675446499840596,
          -0.7318237268060411,
          -1.1315843173248092,
          -1.0233065466630153,
          -0.2730922447077436,
          -1.5775788090545628,
          3.7866714037620715,
          -1.6137939489216448,
          0.16967458771576696,
          -0.987428573461631,
          -1.7254910373106045,
          0.34957907162733204,
          1.5633586705510158,
          -0.8124196172864833,
          -1.8871695907180752,
          0.23015110801075137,
          -0.9368233916511148,
          -1.739365200742352,
          -0.2737884925721342,
          -1.3433006238972554,
          -1.31701624246566,
          -1.4107825569743309,
          -1.76518590608997,
          -0.38472966015999976,
          1.4042798104143162,
          -1.2471507363468752,
          1.8842645694008775,
          0.5769870080947076,
          4.235964721726801,
          -0.9820806355152999,
          0.19051348098343918,
          -0.723228958373993,
          2.8682913500670693,
          -2.1237531621237378,
          -0.6285755796691637,
          1.639791162809707,
          -1.5098699166256813,
          -1.5978070213111073,
          -1.775858421648261,
          1.6592720985157354,
          0.2774878241337523,
          1.8405713347984891,
          0.2838746256739084,
          -1.8983624284622576,
          -1.4635814101119304,
          -2.343854739686676,
          0.46961282467643334,
          -1.8031806529829049,
          -1.905735944981473,
          -1.30222116105689,
          -0.9508388303320007,
          -1.6199165126250346,
          -0.1526066843861883,
          -1.2726741817698894,
          -0.7728428108610066,
          -1.0009197962482155,
          -0.30112766648690154,
          -0.1809629898341744,
          -1.72012632062348,
          -1.3715574077109505,
          -0.32617411027665616,
          2.6183661798930054,
          -1.6514523182905696,
          -0.18126925691752496,
          -2.0734978777088098,
          -1.8338242400916631,
          -1.21398282110496,
          -0.862794325759273,
          -0.5642014203511584,
          -1.2679281717760993,
          1.5256987545556273,
          -1.1907920420919575,
          -1.4618244744347446,
          -1.249385108229701,
          -0.8638241738311393,
          0.6089000681531679,
          -0.8944579373286634,
          0.8807888865871173,
          -0.519715663237218,
          0.35077582191488854,
          -0.8720954324311757,
          -1.8628466721037247,
          -1.8412598379935288,
          0.882523116178924,
          -1.5539440684262118,
          -1.9996134499580747,
          -1.161927938924532,
          1.0829566313563899,
          -0.132708502378765,
          1.9315732228488702,
          -1.8463662679832815,
          -1.6099837680869808,
          1.8394613562742461,
          -2.300431243620079,
          -0.8870178511318857,
          -1.5707450726195007,
          1.8276213358414448,
          0.028110322263294126,
          -1.0195298304304001,
          -1.7006329850143826,
          -1.171145375451442,
          -2.0054215366327957,
          -1.3600159421369922,
          0.9589925162208951,
          -0.6016113310269914,
          -1.933513969342025,
          -0.2599506544558518,
          3.52747498734316,
          -1.6896873564500896,
          -1.2055170212815367,
          -0.10257744336530795,
          0.026286102923234425,
          -0.24794319255317454,
          -0.43315986358337294,
          1.6950492682138159,
          -0.8371030844060896,
          -0.19062321664256798,
          -0.9009034589802734,
          2.2533498854591096,
          -1.2915694864352216,
          -0.7030384051419453,
          -1.4786437692909253,
          -1.390672203919746,
          -0.7558033825206155,
          -1.083151753014051,
          -1.2748977176904954,
          -1.8158453023121222,
          -0.49206595999031316,
          0.5162063035677877,
          0.6086941262417443,
          -1.9668725946648546,
          0.37932157290754476,
          -0.7845998047605471,
          0.6466855266340701,
          -1.1579826680816048,
          -1.4644980246224197,
          -0.5490383622642092,
          -1.6392865727216077,
          2.9159149874851193,
          -0.10012073262315248,
          -1.2487698851128748,
          0.5000366764642756,
          -0.873583881326249,
          4.486374864181114,
          1.9980900878231938,
          -0.8001965247006434,
          -1.735110441048224,
          0.36506231644644654,
          4.458242876959934,
          -1.3641732727488836,
          -1.9726565162954766,
          -1.698972080846386,
          -1.6167419100143743,
          -1.8760299291001916,
          -0.8133777857975956,
          1.354546388465578,
          0.8664697810664218,
          3.5884859434720475,
          -0.19113106634887903,
          0.2468234233695062,
          -1.2526297666108313,
          2.0494016977714162,
          -0.3843666617087986,
          -1.1373318271804271,
          -0.016480456479635478,
          -0.8041567778063456,
          -1.145779709632718,
          -1.072579913470687,
          -1.3999582541995164,
          1.7037136661563126,
          -1.3895715305187994,
          -0.8451976989163967,
          -1.5772255186663091,
          -1.6471887182821137,
          -0.27063266490188453,
          -1.4905455666801128,
          1.8980910638772064,
          -1.061304371544036,
          -0.4253140176519075,
          -0.8203508457986061,
          -1.7945614911248478,
          -0.9929629425674394,
          -1.6480549339916317,
          -0.6466115572391387,
          -1.9486237841202758,
          0.48926537398889003,
          -1.2938685076717695,
          -1.1514236299428315,
          -1.7138910045072673,
          0.4934573100429081,
          -2.3252125974865283,
          0.407121484298256,
          1.7811447591851097,
          -1.0549098853714258,
          -0.4905891462477671,
          -0.06465416568296004,
          -1.6259744075917284,
          0.8423931076723163,
          1.9205583454983015,
          3.1030271152245223,
          -0.043912916057811086,
          -0.10670220132397326,
          -0.13194476136169012,
          -1.1003028513487216,
          -0.13154472387079896,
          -0.5907066732220808,
          -1.1045929446674432,
          2.30589084789603,
          -1.4059579814384844,
          2.000155780215749,
          -0.8571220683043349,
          -1.6064605355484598,
          -0.18152012276167045,
          -1.0695500803772575,
          -0.6829548715209002,
          2.196605275676643,
          -0.9608930559123894,
          3.888841083031886,
          0.2487142117833111,
          0.9867032284963507,
          2.6207511316685226,
          -0.4722088045841006,
          0.6486142619209367,
          -1.5802293605949993,
          0.527957708172022,
          5.0310415396010395,
          -0.9774208521994806,
          -1.11241002426633,
          2.19279264087633,
          -0.6216668183198416,
          -1.816862523332505,
          0.8766987185884448,
          1.5255605445275322,
          -0.10480240868239385,
          -1.555843175920038,
          -0.017793710493345827,
          2.847345921249371,
          -1.028710666961635,
          -0.4888403647439205,
          -2.045643446320264,
          2.2773749294678067,
          -1.30439064853812,
          -1.0579830435058377,
          -2.4060030995479935,
          -0.3823432460717485,
          -0.05327059397178533,
          1.1314254523654055,
          -1.27004175685185,
          0.05377809994698687,
          -1.5436695322296392,
          -1.2404873850668716,
          -1.0245374883522467,
          -0.829001654655772,
          -0.9492818779807644,
          -1.6466254214765437,
          -0.02272863630949893,
          2.441623536219801,
          -1.2377440768469488,
          1.322600809459724,
          -1.9481185124217508,
          -0.7888132801619258,
          -1.4849132067467592,
          0.13604803706864216,
          -0.6417303169374242,
          -0.8205618184527096,
          -1.8978333898361117,
          -0.602742888605239,
          0.212407674527113,
          -1.0420653254432806,
          -1.5232340566185494,
          1.0024782846224622,
          -1.733231400466487,
          -1.4320962684142826,
          1.5482599471400649,
          0.13798098053199134,
          -1.801881005897459,
          -0.015446273155796327
         ],
         "y": [
          0.9172142825775202,
          -1.4299483266625581,
          0.012666252452080966,
          -0.4432975661587833,
          1.9808801865566068,
          -0.4337144895015605,
          3.67526460122381,
          0.7825268360337473,
          -1.6645211759012088,
          1.2405784251787446,
          1.5291918079999938,
          -2.4907908625849173,
          0.6837889033158047,
          -1.0959581963016107,
          -2.4567098586999725,
          0.459683861322848,
          1.3449591204913816,
          -0.06122143385403965,
          0.1403108599155116,
          0.11426136413045689,
          -0.17146388540183735,
          0.5177408495697277,
          1.7595614733750367,
          4.342582364677004,
          -1.1439859782789743,
          1.5155568368079873,
          0.8016674095170049,
          -0.6813109606801325,
          3.811151837934998,
          0.6010971667535586,
          0.26805091744611076,
          -3.4280162681088884,
          -2.3885112002285482,
          -1.7335097465858684,
          -0.07338975030102805,
          -0.8498636782857865,
          -0.4037009553635449,
          2.632058360048754,
          0.5510157852882313,
          -0.5963410417293492,
          -2.371416972370376,
          2.005901707070864,
          0.17320879698895483,
          -0.8673648073570509,
          0.04954000620505179,
          -1.1745732533360738,
          -0.7995905828589434,
          0.18124807511710866,
          -1.0642316010081885,
          -0.7780461489285663,
          1.471107461782895,
          -0.911711069171295,
          -0.5475429696402823,
          -2.773416796825731,
          -1.284113715205084,
          0.23496336171441298,
          2.3742459107530545,
          1.2140364586527368,
          -3.497645172293042,
          1.808693603815127,
          0.9542908584958283,
          3.4450605581626683,
          -1.3077700382655242,
          -0.5584558230763782,
          0.5478673061021307,
          0.4361023745319665,
          -0.7935529150950392,
          0.331913982148099,
          0.4452544376834438,
          -1.2837689317853382,
          -0.3853652418199773,
          1.940500895277524,
          0.882711955553615,
          0.5201573917535584,
          1.8663478797256172,
          -0.5974134612016454,
          -1.2864822739738313,
          -0.5949240656449195,
          -1.0636934314315734,
          0.7727347566250641,
          -1.5353773332360685,
          -0.3532426372443908,
          3.271671486483164,
          1.0342902799180052,
          -3.161307946210916,
          -2.769849404938387,
          0.11164365681290614,
          -2.503020711654097,
          1.4954781568239277,
          2.9959384060671987,
          4.577637477572266,
          -1.1353977260169836,
          -2.1276531311616056,
          -2.580298145928207,
          2.121053194148535,
          0.4757047922386048,
          -1.4671538232821149,
          0.8495344689471988,
          -1.0157799975217559,
          0.11441261450320701,
          -0.5351965178729464,
          0.02039626480858425,
          0.6627249198295286,
          3.360044135604806,
          0.5061862107474544,
          2.2470985349724573,
          -0.13126974897749058,
          -0.5515304367470055,
          -1.0751965972402941,
          0.9157829290879127,
          -0.2182651112258021,
          2.4785838354324827,
          -1.9727819961345436,
          -0.9667676547285359,
          -0.8373801639277487,
          1.6241030410722455,
          3.774612315885354,
          -0.018857125996400752,
          -3.1775889514458253,
          0.5608057811469562,
          -2.7292997982246217,
          -0.8509756380918733,
          1.107172455077582,
          -1.1528840420847541,
          0.3645658149461502,
          0.15635093392847224,
          -0.9436809605364302,
          1.7800945062824824,
          1.4011849530644498,
          -0.07016556893272664,
          0.5592933187615677,
          -1.0608840843359464,
          0.18957555786991753,
          -1.808409477548184,
          0.268695792826271,
          0.11594677235570448,
          2.573254974158405,
          -3.456372955841637,
          -0.9205817574853378,
          0.12774479000251743,
          1.029804273395639,
          -2.4551274475623996,
          -0.746426132695863,
          -2.062974380596977,
          2.057002449529934,
          2.482121977380484,
          -0.7825990691423544,
          0.48990959885201857,
          -0.8254676995718905,
          -1.634577906909638,
          0.5645669824062781,
          -1.2474518760819946,
          0.6493499108891115,
          -0.9829291366268402,
          3.451718077384646,
          -1.914058922827997,
          -2.666726706268405,
          -0.6399704153649115,
          -0.609427401452442,
          0.2688980449271886,
          -1.2228331530777943,
          3.2149328256294916,
          0.8123129865260063,
          3.2878951908167737,
          2.2136556456479943,
          -0.877717960926507,
          3.1012445077135387,
          -0.03324433805800187,
          0.5324152357044909,
          -2.9715660734640266,
          -1.2511684536376255,
          1.0879416754931668,
          0.7054975466995594,
          0.14891473445538478,
          -1.4645967266893514,
          -0.9161793423485871,
          1.7621039543425359,
          0.8562181589971839,
          -0.8706034624406072,
          4.483909809445025,
          1.3858295869300037,
          2.3239483049195986,
          -0.21562511721524913,
          -2.7544755786133783,
          0.6624308530451055,
          0.28854998412771443,
          1.075490581125772,
          -0.535760744184198,
          0.1789591073538704,
          -0.6531060918299708,
          0.8202914606839122,
          -1.0053211936538142,
          -2.4515686018563096,
          1.4144871697628953,
          -0.36118890915901497,
          1.95454873547131,
          -1.012483387115118,
          -0.014781173997794678,
          -1.8714565190005041,
          -0.16464392968556016,
          -2.4963944152782247,
          -0.840499546124264,
          3.2630515274579257,
          -0.2808381525331505,
          1.2166571633775112,
          -1.9462130943754443,
          -0.4778130091368125,
          -0.9738154766853007,
          0.35222871889684876,
          -2.455511135898576,
          0.6271727770953234,
          0.8365400185104497,
          3.1597892839354715,
          -0.07857003060249207,
          -3.389420444602345,
          -0.00475641894812631,
          0.09728680543368128,
          1.4675992331121626,
          -2.7931575174039076,
          0.5438722288637452,
          0.10901503940510432,
          -1.362661887889559,
          3.1669228315656013,
          -2.087144208862386,
          -3.220704900095159,
          0.5540054440152046,
          -1.4204974326711488,
          -1.0827845881887628,
          0.38748776455542316,
          -0.6362739392273448,
          -0.3519481129188073,
          1.1057920299466826,
          -1.7691066702614495,
          4.361025702907996,
          -0.07760429494181532,
          -0.526371417346729,
          -1.0773057307128153,
          -0.8385687496828814,
          -2.5179494837730285,
          1.7241353479937023,
          0.7033403774332926,
          -0.19374933986216802,
          1.2132357197088754,
          0.30601117029914354,
          -0.255450496989357,
          -0.6446329855900845,
          1.1221129603832547,
          0.8463331261092579,
          2.088762835572184,
          -0.3684859910558587,
          2.5587284586186367,
          -0.886402322597005,
          -1.293267516860865,
          0.40927807674436245,
          -0.45370781656442255,
          3.200476127191317,
          -1.3088567049824762,
          1.9298802630888765,
          1.208284805357778,
          -0.18652325869381012,
          -0.9819219077623695,
          -0.9115914352298129,
          1.0342123490356159,
          -2.41283951703404,
          -0.4095708020253905,
          -2.1172617229919077,
          2.162108281908235,
          0.02945159205878976,
          0.9950636615308303,
          1.0724950870175658,
          -1.2484602309294701,
          -0.47328808807138084,
          4.246883218736414,
          -1.5228141413441336,
          0.6689648407667761,
          -0.1666311527645427,
          1.9098675284399682,
          -1.3131268364003599,
          -0.8529480208772899,
          1.59089960779317,
          1.3212550739950504,
          -1.0906759882524681,
          -1.3833800115626007,
          -0.6418677745346532,
          1.1378799103876,
          -0.12081749405512408,
          0.632738674874873,
          0.06837598305087267,
          -3.2689014265343483,
          -1.2713976491643009,
          -3.481764568662284,
          -2.3260902236675496,
          0.8632971694760979,
          3.1140976681772448,
          -0.9867780566218284,
          -2.967726815056753,
          2.1877271438858132,
          -0.19050360271369787,
          0.08309461182508046,
          -0.5488395439120608,
          0.23758006703570977,
          -1.1360501290437472,
          -0.4006935189784068,
          2.7065136407011976,
          3.0528684691957024,
          -0.08611112855438588,
          -1.0110877986148767,
          -1.8793923258007932,
          3.192574189348092,
          -2.3592055395637974,
          0.5032679807960795,
          0.35878152917235545,
          0.6215158277995085,
          -0.922493400111234,
          -0.7288797658251738,
          1.110344432928151,
          0.10091308453559208,
          -0.13414458550128863,
          2.0526684330550116,
          0.21576264235376733,
          -1.6333867767988728,
          0.6500182205678703,
          -0.6743907107124862,
          -2.3054053350987895,
          2.434313053870777
         ],
         "z": [
          0.6672497279766686,
          0.19041384895894456,
          0.1627845034997221,
          1.4284293211754182,
          0.09463426663730251,
          1.3156532399931211,
          1.1714274630627983,
          -1.872327254621252,
          1.1430519821626839,
          3.4110848506207345,
          1.3285509299340004,
          -0.11816056408777735,
          -1.8999770736143469,
          -0.00935684113429019,
          -0.06055944983415675,
          0.975725162144845,
          0.16066704172025892,
          0.798814397117872,
          -0.6529080736043449,
          -0.7284318335185689,
          -0.5962923483189659,
          -0.31346036546625433,
          -1.1491609880413758,
          -1.3230805696912067,
          2.2179984755547975,
          -0.4774589644138125,
          0.5079488992567145,
          -0.22470134595093202,
          2.1515206796338586,
          -1.0583016901807336,
          -2.5607101595501693,
          0.9634884357153377,
          1.5594119714870043,
          1.8870352100955703,
          1.2361171811275282,
          0.5618447783234575,
          1.0321670619077836,
          0.634014850773314,
          -1.0387083636724959,
          -1.5228893793482334,
          -1.845425759052386,
          -1.0293966545863447,
          1.3020776870485948,
          -0.8400371679301543,
          -1.1427503308284943,
          -1.6050821614170212,
          -0.07116186741715291,
          -0.028205537773445352,
          -0.48351981435662894,
          -1.162478047640521,
          0.4506145148717495,
          0.21405085221560677,
          -0.6862482262707563,
          0.8935802493691489,
          -1.0491437910079506,
          -0.5349215904594052,
          -1.0663769543863,
          0.435098833955805,
          1.3996176697881575,
          0.13689418060265704,
          2.2207950499077973,
          1.2302306446036964,
          0.1284745357131561,
          1.1134046195280367,
          -0.5178616745909006,
          0.5000770566935061,
          0.26935667777470385,
          1.9837844717064843,
          -0.6703593429189163,
          0.6044854709708131,
          1.376274382596292,
          0.29877471339698064,
          -1.2090784363597042,
          0.0052279542828457945,
          -0.5776727127501762,
          2.2504437172903864,
          -0.4552815726637959,
          0.2955185143180457,
          0.12012697878493123,
          0.8784832717798197,
          -0.10626651346476221,
          -0.428882719700187,
          2.1018636942078865,
          3.03936735183673,
          1.9319512509386532,
          -0.11712389261547741,
          0.7779246811791403,
          -0.676822567258714,
          4.719291125272915,
          -0.7271269519126625,
          -1.213366180925153,
          -0.4212364853786353,
          1.0972077081949088,
          2.597194438174196,
          0.476204861019669,
          2.341907350558781,
          0.26417426742235495,
          -1.0393376742180762,
          0.5599893029449677,
          -0.04010330323943928,
          0.5092368124081981,
          -0.04542134496509953,
          0.24263053023044848,
          1.5199189464067941,
          0.4641793554698976,
          0.07952474480923148,
          0.7523658618237636,
          1.1054652638604512,
          0.6221450331318923,
          1.1057012406717566,
          0.8518461713394655,
          2.5459305796992373,
          1.3734470602630855,
          3.100122175790321,
          0.6568684348121435,
          0.47976558406849557,
          2.9106239481926384,
          1.2457634513408564,
          1.2261503934273312,
          0.9047981506347399,
          1.414133642123049,
          0.47604373897026586,
          1.537775351441477,
          -0.7121106972741509,
          -0.04993639629867744,
          -0.1802438696413956,
          1.2562601844073495,
          0.6938319839861807,
          3.4352419228863305,
          2.4637938005652935,
          -0.37086349093916016,
          -0.5500395276905966,
          1.8441427734208145,
          -0.015988403516332985,
          0.04941236516329078,
          -0.26230332801824163,
          1.694520483912204,
          1.658953661633076,
          0.5900409973680251,
          0.9932787723453743,
          3.281471605527344,
          2.993183600455558,
          1.106877370797673,
          1.5981809484394245,
          -0.8354732812677522,
          -0.40149139846686915,
          -0.15985627672383032,
          -1.467966577516619,
          -0.29652160094490204,
          2.0672045982990355,
          -1.4829718673902321,
          -0.11301271659041855,
          0.21740810007039513,
          1.8436334774229708,
          2.44346567048208,
          -0.5558854374957015,
          -2.3438913015230565,
          0.9351077254921288,
          0.7477693658453826,
          0.12156187386636415,
          0.3152205139628475,
          1.7960754419973204,
          -1.2627691886541468,
          1.3054117152126428,
          -0.7326923958559145,
          -0.655861280086465,
          -0.9179565555695718,
          0.45824120929134315,
          0.060423896700106214,
          0.04973479277827692,
          0.47637511795852117,
          1.5503614038828808,
          -0.7885128424003102,
          -0.5360167363530057,
          1.1296579010932744,
          0.31164263705686146,
          0.41616088021739145,
          3.096658428827904,
          1.0010705830859672,
          -1.1246699747041153,
          2.9010708715796274,
          -0.24589340904952475,
          -0.02638752391247222,
          1.2129600127377915,
          1.0648992024245023,
          0.8751862693151835,
          0.9545161531555327,
          0.25241513046841774,
          -1.4710567789524578,
          1.9925425295743473,
          -0.5453704133886256,
          -0.5764309459072365,
          -0.8787098944330595,
          0.21831155455095658,
          -0.577388076503053,
          -1.5759219813954177,
          -1.3081971739078573,
          -1.43593683004761,
          -1.0626342792575727,
          -0.4194090298119781,
          -0.11513284752624077,
          0.8184606825628679,
          0.6396980895644252,
          -1.356218707015655,
          2.2071248398683028,
          -1.8230104302134396,
          -0.9845741992276276,
          -2.075067809755917,
          -2.477229945389812,
          -2.2155076491597856,
          -0.6748850000454564,
          -0.6780873725744109,
          0.18954643666991225,
          -0.5285727200800114,
          -2.5374479501086222,
          -1.2011411020800715,
          0.4050141854948073,
          -1.0580228907664722,
          0.24011578450969973,
          -1.0820859746351241,
          -2.4487693527907286,
          -0.3146174490667724,
          0.4629370458401729,
          -1.9269227535292812,
          0.5804737973053717,
          -1.152914313104942,
          -0.11004924372214156,
          -1.6589290139270245,
          -0.06439644215516463,
          -0.6258722817291017,
          -0.33138133192690167,
          -0.2666053155046438,
          0.8839712637313911,
          -2.2412004834512453,
          0.5095252981594013,
          0.3405157989029982,
          1.8564893081947524,
          0.5532882032459865,
          1.6946086722500022,
          -0.8821186255775391,
          -2.2841107962144145,
          -0.969156910104637,
          0.9180096686239974,
          -0.513005661951868,
          -1.8333910046885709,
          -1.4547664112595675,
          1.4227687864799061,
          0.13964511229836782,
          -0.9391790403189578,
          -1.9783741143082705,
          1.0886454148524856,
          -0.47855980598065284,
          -0.5928644647509681,
          0.7430247693728816,
          -0.3617395448192256,
          -2.3955198285967265,
          0.291018166360267,
          -1.9900963017092392,
          -1.5544482146845682,
          -0.5264703362201756,
          -1.5947511236125766,
          -2.0468541468300767,
          -0.8589029538476087,
          -2.880389078482124,
          -1.8632956682552626,
          -2.0661678246478155,
          -2.572590394882332,
          -2.03018937045939,
          1.0435520974669643,
          -2.7355028513258697,
          -1.601495430791795,
          -0.2583994780245604,
          -3.439536553457142,
          -1.8073468662988446,
          -0.0949576892102937,
          0.7933004560108781,
          -2.2891009105106517,
          -0.08246427993560192,
          0.23343452709400275,
          -1.0672408453519864,
          8.32085296468389,
          -0.44894542257570724,
          -1.1188956109651789,
          -2.131004410876661,
          -1.1329555363879398,
          -1.5211151448635043,
          -1.0710880441047996,
          -0.7039408288898471,
          0.2606663779599202,
          -0.46417469504102465,
          -2.5387464082327234,
          0.16840674446182158,
          -2.193336000777873,
          -0.6047466178219744,
          -1.1659687910647314,
          -1.7766007323435486,
          -2.119935993547669,
          0.5125924180352336,
          -0.08324502847149522,
          0.12004479761536153,
          -1.1588896529987436,
          -1.4200185604681252,
          -1.1885913635818732,
          -0.10435754713787172,
          -1.8193631883198764,
          -1.7924129872487278,
          0.03253762760546722,
          1.7062780936497992,
          0.41534277370882194,
          -0.7587331626117896,
          -2.45710577024759,
          -1.0735438754678364,
          -1.2036029867499538,
          -0.283938890725319,
          -1.1894760479118822,
          0.2900003613642433,
          -3.1287407616,
          0.09489744285068198,
          -1.371184553227279,
          -1.155977016832818,
          0.42583013429899264,
          -2.8359971191514823,
          -1.5071811807563715,
          0.4024672287287185,
          0.49486071756274663
         ]
        },
        {
         "customdata": [
          [
           359000
          ],
          [
           390590
          ],
          [
           394475
          ],
          [
           362425
          ],
          [
           366513
          ],
          [
           398000
          ],
          [
           399950
          ],
          [
           375000
          ],
          [
           407874
          ],
          [
           375000
          ]
         ],
         "hovertemplate": "<b>%{hovertext}</b><br><br>Class=%{marker.color}<br>PC 1=%{x}<br>PC 2=%{y}<br>PC 3=%{z}<br>median_listing_price=%{customdata[0]}<extra></extra>",
         "hovertext": [
          "Dare",
          "Transylvania",
          "Harnett",
          "Cleveland",
          "Wayne",
          "Cabarrus",
          "Madison",
          "Currituck",
          "Chowan",
          "Cumberland"
         ],
         "legendgroup": "0.0",
         "marker": {
          "color": [
           0,
           0,
           0,
           0,
           0,
           0,
           0,
           0,
           0,
           0
          ],
          "coloraxis": "coloraxis",
          "symbol": "diamond"
         },
         "mode": "markers",
         "name": "0.0",
         "scene": "scene",
         "showlegend": true,
         "type": "scatter3d",
         "x": [
          11.209825916535733,
          11.29873770779712,
          13.363161487753251,
          13.475876920269586,
          14.084992733762228,
          13.913120661591417,
          14.193099399431023,
          13.784740915683386,
          14.572640943489683,
          14.188575620759929
         ],
         "y": [
          -1.7851069054363446,
          0.030694395486548075,
          -0.1873517237532961,
          -2.035462814148867,
          -2.0954968060959427,
          -0.2163205350079466,
          -0.21792407808694966,
          -1.2540781208022138,
          -0.24010818153215913,
          -1.30964700565805
         ],
         "z": [
          0.37685909472888857,
          0.8100694498231812,
          2.1507098090720187,
          1.6507995550690888,
          1.7161488786136292,
          1.952706610625245,
          0.9246795792616692,
          -0.18799216078105643,
          0.17219967150678944,
          -0.22635387208409652
         ]
        }
       ],
       "layout": {
        "coloraxis": {
         "colorbar": {
          "title": {
           "text": "Class"
          }
         },
         "colorscale": [
          [
           0,
           "#0d0887"
          ],
          [
           0.1111111111111111,
           "#46039f"
          ],
          [
           0.2222222222222222,
           "#7201a8"
          ],
          [
           0.3333333333333333,
           "#9c179e"
          ],
          [
           0.4444444444444444,
           "#bd3786"
          ],
          [
           0.5555555555555556,
           "#d8576b"
          ],
          [
           0.6666666666666666,
           "#ed7953"
          ],
          [
           0.7777777777777778,
           "#fb9f3a"
          ],
          [
           0.8888888888888888,
           "#fdca26"
          ],
          [
           1,
           "#f0f921"
          ]
         ]
        },
        "legend": {
         "title": {
          "text": "Class"
         },
         "tracegroupgap": 0,
         "x": 0,
         "y": 1
        },
        "margin": {
         "t": 60
        },
        "scene": {
         "domain": {
          "x": [
           0,
           1
          ],
          "y": [
           0,
           1
          ]
         },
         "xaxis": {
          "title": {
           "text": "PC 1"
          }
         },
         "yaxis": {
          "title": {
           "text": "PC 2"
          }
         },
         "zaxis": {
          "title": {
           "text": "PC 3"
          }
         }
        },
        "template": {
         "data": {
          "bar": [
           {
            "error_x": {
             "color": "#2a3f5f"
            },
            "error_y": {
             "color": "#2a3f5f"
            },
            "marker": {
             "line": {
              "color": "#E5ECF6",
              "width": 0.5
             },
             "pattern": {
              "fillmode": "overlay",
              "size": 10,
              "solidity": 0.2
             }
            },
            "type": "bar"
           }
          ],
          "barpolar": [
           {
            "marker": {
             "line": {
              "color": "#E5ECF6",
              "width": 0.5
             },
             "pattern": {
              "fillmode": "overlay",
              "size": 10,
              "solidity": 0.2
             }
            },
            "type": "barpolar"
           }
          ],
          "carpet": [
           {
            "aaxis": {
             "endlinecolor": "#2a3f5f",
             "gridcolor": "white",
             "linecolor": "white",
             "minorgridcolor": "white",
             "startlinecolor": "#2a3f5f"
            },
            "baxis": {
             "endlinecolor": "#2a3f5f",
             "gridcolor": "white",
             "linecolor": "white",
             "minorgridcolor": "white",
             "startlinecolor": "#2a3f5f"
            },
            "type": "carpet"
           }
          ],
          "choropleth": [
           {
            "colorbar": {
             "outlinewidth": 0,
             "ticks": ""
            },
            "type": "choropleth"
           }
          ],
          "contour": [
           {
            "colorbar": {
             "outlinewidth": 0,
             "ticks": ""
            },
            "colorscale": [
             [
              0,
              "#0d0887"
             ],
             [
              0.1111111111111111,
              "#46039f"
             ],
             [
              0.2222222222222222,
              "#7201a8"
             ],
             [
              0.3333333333333333,
              "#9c179e"
             ],
             [
              0.4444444444444444,
              "#bd3786"
             ],
             [
              0.5555555555555556,
              "#d8576b"
             ],
             [
              0.6666666666666666,
              "#ed7953"
             ],
             [
              0.7777777777777778,
              "#fb9f3a"
             ],
             [
              0.8888888888888888,
              "#fdca26"
             ],
             [
              1,
              "#f0f921"
             ]
            ],
            "type": "contour"
           }
          ],
          "contourcarpet": [
           {
            "colorbar": {
             "outlinewidth": 0,
             "ticks": ""
            },
            "type": "contourcarpet"
           }
          ],
          "heatmap": [
           {
            "colorbar": {
             "outlinewidth": 0,
             "ticks": ""
            },
            "colorscale": [
             [
              0,
              "#0d0887"
             ],
             [
              0.1111111111111111,
              "#46039f"
             ],
             [
              0.2222222222222222,
              "#7201a8"
             ],
             [
              0.3333333333333333,
              "#9c179e"
             ],
             [
              0.4444444444444444,
              "#bd3786"
             ],
             [
              0.5555555555555556,
              "#d8576b"
             ],
             [
              0.6666666666666666,
              "#ed7953"
             ],
             [
              0.7777777777777778,
              "#fb9f3a"
             ],
             [
              0.8888888888888888,
              "#fdca26"
             ],
             [
              1,
              "#f0f921"
             ]
            ],
            "type": "heatmap"
           }
          ],
          "heatmapgl": [
           {
            "colorbar": {
             "outlinewidth": 0,
             "ticks": ""
            },
            "colorscale": [
             [
              0,
              "#0d0887"
             ],
             [
              0.1111111111111111,
              "#46039f"
             ],
             [
              0.2222222222222222,
              "#7201a8"
             ],
             [
              0.3333333333333333,
              "#9c179e"
             ],
             [
              0.4444444444444444,
              "#bd3786"
             ],
             [
              0.5555555555555556,
              "#d8576b"
             ],
             [
              0.6666666666666666,
              "#ed7953"
             ],
             [
              0.7777777777777778,
              "#fb9f3a"
             ],
             [
              0.8888888888888888,
              "#fdca26"
             ],
             [
              1,
              "#f0f921"
             ]
            ],
            "type": "heatmapgl"
           }
          ],
          "histogram": [
           {
            "marker": {
             "pattern": {
              "fillmode": "overlay",
              "size": 10,
              "solidity": 0.2
             }
            },
            "type": "histogram"
           }
          ],
          "histogram2d": [
           {
            "colorbar": {
             "outlinewidth": 0,
             "ticks": ""
            },
            "colorscale": [
             [
              0,
              "#0d0887"
             ],
             [
              0.1111111111111111,
              "#46039f"
             ],
             [
              0.2222222222222222,
              "#7201a8"
             ],
             [
              0.3333333333333333,
              "#9c179e"
             ],
             [
              0.4444444444444444,
              "#bd3786"
             ],
             [
              0.5555555555555556,
              "#d8576b"
             ],
             [
              0.6666666666666666,
              "#ed7953"
             ],
             [
              0.7777777777777778,
              "#fb9f3a"
             ],
             [
              0.8888888888888888,
              "#fdca26"
             ],
             [
              1,
              "#f0f921"
             ]
            ],
            "type": "histogram2d"
           }
          ],
          "histogram2dcontour": [
           {
            "colorbar": {
             "outlinewidth": 0,
             "ticks": ""
            },
            "colorscale": [
             [
              0,
              "#0d0887"
             ],
             [
              0.1111111111111111,
              "#46039f"
             ],
             [
              0.2222222222222222,
              "#7201a8"
             ],
             [
              0.3333333333333333,
              "#9c179e"
             ],
             [
              0.4444444444444444,
              "#bd3786"
             ],
             [
              0.5555555555555556,
              "#d8576b"
             ],
             [
              0.6666666666666666,
              "#ed7953"
             ],
             [
              0.7777777777777778,
              "#fb9f3a"
             ],
             [
              0.8888888888888888,
              "#fdca26"
             ],
             [
              1,
              "#f0f921"
             ]
            ],
            "type": "histogram2dcontour"
           }
          ],
          "mesh3d": [
           {
            "colorbar": {
             "outlinewidth": 0,
             "ticks": ""
            },
            "type": "mesh3d"
           }
          ],
          "parcoords": [
           {
            "line": {
             "colorbar": {
              "outlinewidth": 0,
              "ticks": ""
             }
            },
            "type": "parcoords"
           }
          ],
          "pie": [
           {
            "automargin": true,
            "type": "pie"
           }
          ],
          "scatter": [
           {
            "marker": {
             "colorbar": {
              "outlinewidth": 0,
              "ticks": ""
             }
            },
            "type": "scatter"
           }
          ],
          "scatter3d": [
           {
            "line": {
             "colorbar": {
              "outlinewidth": 0,
              "ticks": ""
             }
            },
            "marker": {
             "colorbar": {
              "outlinewidth": 0,
              "ticks": ""
             }
            },
            "type": "scatter3d"
           }
          ],
          "scattercarpet": [
           {
            "marker": {
             "colorbar": {
              "outlinewidth": 0,
              "ticks": ""
             }
            },
            "type": "scattercarpet"
           }
          ],
          "scattergeo": [
           {
            "marker": {
             "colorbar": {
              "outlinewidth": 0,
              "ticks": ""
             }
            },
            "type": "scattergeo"
           }
          ],
          "scattergl": [
           {
            "marker": {
             "colorbar": {
              "outlinewidth": 0,
              "ticks": ""
             }
            },
            "type": "scattergl"
           }
          ],
          "scattermapbox": [
           {
            "marker": {
             "colorbar": {
              "outlinewidth": 0,
              "ticks": ""
             }
            },
            "type": "scattermapbox"
           }
          ],
          "scatterpolar": [
           {
            "marker": {
             "colorbar": {
              "outlinewidth": 0,
              "ticks": ""
             }
            },
            "type": "scatterpolar"
           }
          ],
          "scatterpolargl": [
           {
            "marker": {
             "colorbar": {
              "outlinewidth": 0,
              "ticks": ""
             }
            },
            "type": "scatterpolargl"
           }
          ],
          "scatterternary": [
           {
            "marker": {
             "colorbar": {
              "outlinewidth": 0,
              "ticks": ""
             }
            },
            "type": "scatterternary"
           }
          ],
          "surface": [
           {
            "colorbar": {
             "outlinewidth": 0,
             "ticks": ""
            },
            "colorscale": [
             [
              0,
              "#0d0887"
             ],
             [
              0.1111111111111111,
              "#46039f"
             ],
             [
              0.2222222222222222,
              "#7201a8"
             ],
             [
              0.3333333333333333,
              "#9c179e"
             ],
             [
              0.4444444444444444,
              "#bd3786"
             ],
             [
              0.5555555555555556,
              "#d8576b"
             ],
             [
              0.6666666666666666,
              "#ed7953"
             ],
             [
              0.7777777777777778,
              "#fb9f3a"
             ],
             [
              0.8888888888888888,
              "#fdca26"
             ],
             [
              1,
              "#f0f921"
             ]
            ],
            "type": "surface"
           }
          ],
          "table": [
           {
            "cells": {
             "fill": {
              "color": "#EBF0F8"
             },
             "line": {
              "color": "white"
             }
            },
            "header": {
             "fill": {
              "color": "#C8D4E3"
             },
             "line": {
              "color": "white"
             }
            },
            "type": "table"
           }
          ]
         },
         "layout": {
          "annotationdefaults": {
           "arrowcolor": "#2a3f5f",
           "arrowhead": 0,
           "arrowwidth": 1
          },
          "autotypenumbers": "strict",
          "coloraxis": {
           "colorbar": {
            "outlinewidth": 0,
            "ticks": ""
           }
          },
          "colorscale": {
           "diverging": [
            [
             0,
             "#8e0152"
            ],
            [
             0.1,
             "#c51b7d"
            ],
            [
             0.2,
             "#de77ae"
            ],
            [
             0.3,
             "#f1b6da"
            ],
            [
             0.4,
             "#fde0ef"
            ],
            [
             0.5,
             "#f7f7f7"
            ],
            [
             0.6,
             "#e6f5d0"
            ],
            [
             0.7,
             "#b8e186"
            ],
            [
             0.8,
             "#7fbc41"
            ],
            [
             0.9,
             "#4d9221"
            ],
            [
             1,
             "#276419"
            ]
           ],
           "sequential": [
            [
             0,
             "#0d0887"
            ],
            [
             0.1111111111111111,
             "#46039f"
            ],
            [
             0.2222222222222222,
             "#7201a8"
            ],
            [
             0.3333333333333333,
             "#9c179e"
            ],
            [
             0.4444444444444444,
             "#bd3786"
            ],
            [
             0.5555555555555556,
             "#d8576b"
            ],
            [
             0.6666666666666666,
             "#ed7953"
            ],
            [
             0.7777777777777778,
             "#fb9f3a"
            ],
            [
             0.8888888888888888,
             "#fdca26"
            ],
            [
             1,
             "#f0f921"
            ]
           ],
           "sequentialminus": [
            [
             0,
             "#0d0887"
            ],
            [
             0.1111111111111111,
             "#46039f"
            ],
            [
             0.2222222222222222,
             "#7201a8"
            ],
            [
             0.3333333333333333,
             "#9c179e"
            ],
            [
             0.4444444444444444,
             "#bd3786"
            ],
            [
             0.5555555555555556,
             "#d8576b"
            ],
            [
             0.6666666666666666,
             "#ed7953"
            ],
            [
             0.7777777777777778,
             "#fb9f3a"
            ],
            [
             0.8888888888888888,
             "#fdca26"
            ],
            [
             1,
             "#f0f921"
            ]
           ]
          },
          "colorway": [
           "#636efa",
           "#EF553B",
           "#00cc96",
           "#ab63fa",
           "#FFA15A",
           "#19d3f3",
           "#FF6692",
           "#B6E880",
           "#FF97FF",
           "#FECB52"
          ],
          "font": {
           "color": "#2a3f5f"
          },
          "geo": {
           "bgcolor": "white",
           "lakecolor": "white",
           "landcolor": "#E5ECF6",
           "showlakes": true,
           "showland": true,
           "subunitcolor": "white"
          },
          "hoverlabel": {
           "align": "left"
          },
          "hovermode": "closest",
          "mapbox": {
           "style": "light"
          },
          "paper_bgcolor": "white",
          "plot_bgcolor": "#E5ECF6",
          "polar": {
           "angularaxis": {
            "gridcolor": "white",
            "linecolor": "white",
            "ticks": ""
           },
           "bgcolor": "#E5ECF6",
           "radialaxis": {
            "gridcolor": "white",
            "linecolor": "white",
            "ticks": ""
           }
          },
          "scene": {
           "xaxis": {
            "backgroundcolor": "#E5ECF6",
            "gridcolor": "white",
            "gridwidth": 2,
            "linecolor": "white",
            "showbackground": true,
            "ticks": "",
            "zerolinecolor": "white"
           },
           "yaxis": {
            "backgroundcolor": "#E5ECF6",
            "gridcolor": "white",
            "gridwidth": 2,
            "linecolor": "white",
            "showbackground": true,
            "ticks": "",
            "zerolinecolor": "white"
           },
           "zaxis": {
            "backgroundcolor": "#E5ECF6",
            "gridcolor": "white",
            "gridwidth": 2,
            "linecolor": "white",
            "showbackground": true,
            "ticks": "",
            "zerolinecolor": "white"
           }
          },
          "shapedefaults": {
           "line": {
            "color": "#2a3f5f"
           }
          },
          "ternary": {
           "aaxis": {
            "gridcolor": "white",
            "linecolor": "white",
            "ticks": ""
           },
           "baxis": {
            "gridcolor": "white",
            "linecolor": "white",
            "ticks": ""
           },
           "bgcolor": "#E5ECF6",
           "caxis": {
            "gridcolor": "white",
            "linecolor": "white",
            "ticks": ""
           }
          },
          "title": {
           "x": 0.05
          },
          "xaxis": {
           "automargin": true,
           "gridcolor": "white",
           "linecolor": "white",
           "ticks": "",
           "title": {
            "standoff": 15
           },
           "zerolinecolor": "white",
           "zerolinewidth": 2
          },
          "yaxis": {
           "automargin": true,
           "gridcolor": "white",
           "linecolor": "white",
           "ticks": "",
           "title": {
            "standoff": 15
           },
           "zerolinecolor": "white",
           "zerolinewidth": 2
          }
         }
        },
        "width": 800
       }
      },
      "text/html": [
       "<div>                            <div id=\"c8001eb9-f476-4fc5-8241-8ea9ea7885eb\" class=\"plotly-graph-div\" style=\"height:525px; width:800px;\"></div>            <script type=\"text/javascript\">                require([\"plotly\"], function(Plotly) {                    window.PLOTLYENV=window.PLOTLYENV || {};                                    if (document.getElementById(\"c8001eb9-f476-4fc5-8241-8ea9ea7885eb\")) {                    Plotly.newPlot(                        \"c8001eb9-f476-4fc5-8241-8ea9ea7885eb\",                        [{\"customdata\":[[224000.0],[245000.0],[179900.0],[199000.0],[400000.0],[192000.0],[439000.0],[299990.0],[147000.0],[159000.0],[329900.0],[130000.0],[259900.0],[198400.0],[129900.0],[269000.0],[399000.0],[159000.0],[205900.0],[266000.0],[195000.0],[265900.0],[375000.0],[539900.0],[135000.0],[327500.0],[325000.0],[179900.0],[424500.0],[279000.0],[246150.0],[152990.0],[79900.0],[119900.0],[164900.0],[169900.0],[168000.0],[419000.0],[284500.0],[210000.0],[329000.0],[319950.0],[245000.0],[249900.0],[229900.0],[246290.0],[194000.0],[182995.0],[155000.0],[205000.0],[302475.0],[169900.0],[214900.0],[129500.0],[269900.0],[280000.0],[385000.0],[289000.0],[158000.0],[304900.0],[314900.0],[399900.0],[169900.0],[204900.0],[229000.0],[184400.0],[206080.0],[273750.0],[212600.0],[149900.0],[207450.0],[317475.0],[302500.0],[243000.0],[347000.0],[201500.0],[269900.0],[198450.0],[244608.0],[329250.0],[249900.0],[199700.0],[394500.0],[319438.0],[179950.0],[127450.0],[180000.0],[324495.0],[164950.0],[389479.0],[549000.0],[159900.0],[133750.0],[81950.0],[372450.0],[244950.0],[169900.0],[271500.0],[173700.0],[279950.0],[216000.0],[193745.0],[225200.0],[429000.0],[263000.0],[410000.0],[214950.0],[199900.0],[198900.0],[399450.0],[159450.0],[424750.0],[124900.0],[142450.0],[178400.0],[310500.0],[419500.0],[180900.0],[154900.0],[229900.0],[129750.0],[195750.0],[284900.0],[242500.0],[277500.0],[268900.0],[169900.0],[308750.0],[328200.0],[164950.0],[185000.0],[237000.0],[245000.0],[164500.0],[285000.0],[268900.0],[434900.0],[154450.0],[152850.0],[159950.0],[322900.0],[84450.0],[191450.0],[132200.0],[349950.0],[417250.0],[179900.0],[219999.0],[199950.0],[124950.0],[253250.0],[244900.0],[224900.0],[189900.0],[417000.0],[254950.0],[207400.0],[199900.0],[215000.0],[259400.0],[197450.0],[394000.0],[300000.0],[429000.0],[326950.0],[179900.0],[402139.0],[182995.0],[279900.0],[124900.0],[149900.0],[288000.0],[259900.0],[274900.0],[147000.0],[179900.0],[309587.0],[169900.0],[159450.0],[547000.0],[332200.0],[378500.0],[187500.0],[129750.0],[327250.0],[182150.0],[400000.0],[218700.0],[206585.0],[198950.0],[249000.0],[274900.0],[328266.0],[303480.0],[217350.0],[425000.0],[279000.0],[265000.0],[128500.0],[219900.0],[184900.0],[159000.0],[429000.0],[269900.0],[174900.0],[256248.0],[219900.0],[249500.0],[239500.0],[332970.0],[335000.0],[262900.0],[419000.0],[279000.0],[126500.0],[194900.0],[249900.0],[375000.0],[128000.0],[284990.0],[189000.0],[149900.0],[397000.0],[134500.0],[154900.0],[249000.0],[184900.0],[171000.0],[174900.0],[195000.0],[159900.0],[298000.0],[164000.0],[549000.0],[180000.0],[200000.0],[144900.0],[196900.0],[89995.0],[309173.0],[299501.0],[185000.0],[334500.0],[259900.0],[207900.0],[249000.0],[339000.0],[414000.0],[329900.0],[238000.0],[434900.0],[199900.0],[197000.0],[224900.0],[174900.0],[414900.0],[147490.0],[350000.0],[301440.0],[200000.0],[193950.0],[201700.0],[295000.0],[335195.0],[184445.0],[255848.0],[428903.0],[265000.0],[339700.0],[259450.0],[238900.0],[159450.0],[544400.0],[277450.0],[237500.0],[179498.0],[350000.0],[168450.0],[159000.0],[305000.0],[178900.0],[199900.0],[148450.0],[237000.0],[425000.0],[200000.0],[332000.0],[166400.0],[154900.0],[149200.0],[129900.0],[93450.0],[297625.0],[417250.0],[249900.0],[129200.0],[334950.0],[204950.0],[249900.0],[214950.0],[290000.0],[169200.0],[199700.0],[399000.0],[419000.0],[265000.0],[196945.0],[119900.0],[429000.0],[121745.0],[278700.0],[285000.0],[274900.0],[179900.0],[189000.0],[327500.0],[231800.0],[168900.0],[372000.0],[231950.0],[154900.0],[298850.0],[215450.0],[189900.0],[431950.0]],\"hovertemplate\":\"<b>%{hovertext}</b><br><br>Class=%{marker.color}<br>PC 1=%{x}<br>PC 2=%{y}<br>PC 3=%{z}<br>median_listing_price=%{customdata[0]}<extra></extra>\",\"hovertext\":[\"Cherokee\",\"Craven\",\"Catawba\",\"Gaston\",\"Warren\",\"Lenoir\",\"Lee\",\"Henderson\",\"Beaufort\",\"Hertford\",\"Onslow\",\"Ashe\",\"Currituck\",\"Sampson\",\"Union\",\"Rowan\",\"Graham\",\"Caswell\",\"Pasquotank\",\"Hyde\",\"Mcdowell\",\"Edgecombe\",\"Buncombe\",\"Pender\",\"Halifax\",\"Franklin\",\"Pamlico\",\"Yadkin\",\"Gates\",\"Rutherford\",\"Columbus\",\"Clay\",\"Durham\",\"Wilson\",\"Hoke\",\"Tyrrell\",\"Davie\",\"Perquimans\",\"Alamance\",\"Johnston\",\"Montgomery\",\"Guilford\",\"Jones\",\"Wayne\",\"Anson\",\"Richmond\",\"Orange\",\"Caldwell\",\"Wilkes\",\"Moore\",\"Northampton\",\"Mecklenburg\",\"Alleghany\",\"Cleveland\",\"Brunswick\",\"Yancey\",\"Lincoln\",\"Nash\",\"Carteret\",\"Madison\",\"Scotland\",\"Burke\",\"Harnett\",\"Martin\",\"Bladen\",\"Chowan\",\"Bertie\",\"Haywood\",\"Alexander\",\"Cumberland\",\"Jackson\",\"Vance\",\"Greene\",\"Chatham\",\"Watauga\",\"Wake\",\"Davidson\",\"Avery\",\"Duplin\",\"Surry\",\"Robeson\",\"Iredell\",\"Stanly\",\"New hanover\",\"Cabarrus\",\"Forsyth\",\"Camden\",\"Mitchell\",\"Swain\",\"Polk\",\"Macon\",\"Pitt\",\"Washington\",\"Person\",\"Stokes\",\"Randolph\",\"Granville\",\"Rockingham\",\"Franklin\",\"Warren\",\"Davie\",\"Chatham\",\"Macon\",\"Chowan\",\"Hertford\",\"New hanover\",\"Lee\",\"Currituck\",\"Richmond\",\"Washington\",\"Gaston\",\"Halifax\",\"Wake\",\"Alleghany\",\"Pitt\",\"Beaufort\",\"Orange\",\"Onslow\",\"Nash\",\"Mcdowell\",\"Granville\",\"Henderson\",\"Mitchell\",\"Yadkin\",\"Catawba\",\"Pamlico\",\"Pasquotank\",\"Union\",\"Bertie\",\"Polk\",\"Wilson\",\"Tyrrell\",\"Johnston\",\"Carteret\",\"Hyde\",\"Durham\",\"Dare\",\"Davidson\",\"Rowan\",\"Cherokee\",\"Yancey\",\"Randolph\",\"Mecklenburg\",\"Wilkes\",\"Camden\",\"Greene\",\"Haywood\",\"Sampson\",\"Edgecombe\",\"Caswell\",\"Vance\",\"Avery\",\"Perquimans\",\"Robeson\",\"Hoke\",\"Clay\",\"Brunswick\",\"Gates\",\"Lincoln\",\"Lenoir\",\"Watauga\",\"Montgomery\",\"Duplin\",\"Stanly\",\"Graham\",\"Anson\",\"Jones\",\"Moore\",\"Transylvania\",\"Surry\",\"Swain\",\"Stokes\",\"Pender\",\"Ashe\",\"Northampton\",\"Person\",\"Scotland\",\"Martin\",\"Buncombe\",\"Iredell\",\"Alexander\",\"Craven\",\"Cumberland\",\"Rockingham\",\"Columbus\",\"Madison\",\"Rutherford\",\"Guilford\",\"Alamance\",\"Jackson\",\"Bladen\",\"Burke\",\"Caldwell\",\"Forsyth\",\"Forsyth\",\"Stanly\",\"Montgomery\",\"Transylvania\",\"Chatham\",\"Brunswick\",\"Wilson\",\"Mcdowell\",\"Columbus\",\"Hertford\",\"Cherokee\",\"Pender\",\"Burke\",\"Bladen\",\"Moore\",\"Pasquotank\",\"Catawba\",\"Richmond\",\"Davie\",\"Halifax\",\"New hanover\",\"Swain\",\"Duplin\",\"Yancey\",\"Yadkin\",\"Wilkes\",\"Granville\",\"Camden\",\"Caswell\",\"Warren\",\"Avery\",\"Bertie\",\"Johnston\",\"Durham\",\"Onslow\",\"Alamance\",\"Lincoln\",\"Rowan\",\"Jackson\",\"Franklin\",\"Harnett\",\"Guilford\",\"Gates\",\"Pitt\",\"Person\",\"Washington\",\"Gaston\",\"Northampton\",\"Rutherford\",\"Greene\",\"Wayne\",\"Anson\",\"Hoke\",\"Orange\",\"Lenoir\",\"Iredell\",\"Mecklenburg\",\"Wake\",\"Sampson\",\"Ashe\",\"Polk\",\"Surry\",\"Union\",\"Buncombe\",\"Lee\",\"Cleveland\",\"Haywood\",\"Graham\",\"Macon\",\"Henderson\",\"Watauga\",\"Hyde\",\"Caldwell\",\"Alexander\",\"Stokes\",\"Carteret\",\"Randolph\",\"Tyrrell\",\"Craven\",\"Vance\",\"Davidson\",\"Cabarrus\",\"Edgecombe\",\"Alleghany\",\"Nash\",\"Clay\",\"Mitchell\",\"Rockingham\",\"Pamlico\",\"Martin\",\"Beaufort\",\"Dare\",\"Perquimans\",\"Robeson\",\"Jones\",\"Scotland\",\"Polk\",\"Ashe\",\"Columbus\",\"Gates\",\"Mcdowell\",\"Wilson\",\"Camden\",\"Durham\",\"Wake\",\"Moore\",\"Washington\",\"Guilford\",\"Iredell\",\"Johnston\",\"Montgomery\",\"Orange\",\"Chowan\",\"Lee\",\"Duplin\",\"Gaston\",\"Rutherford\",\"Jackson\",\"Alleghany\",\"Forsyth\",\"Nash\",\"Greene\",\"Cabarrus\",\"Pender\",\"Buncombe\",\"Watauga\",\"Lenoir\",\"Hoke\",\"Surry\",\"Wayne\",\"Lincoln\"],\"legendgroup\":\"1.0\",\"marker\":{\"color\":[1.0,1.0,1.0,1.0,1.0,1.0,1.0,1.0,1.0,1.0,1.0,1.0,1.0,1.0,1.0,1.0,1.0,1.0,1.0,1.0,1.0,1.0,1.0,1.0,1.0,1.0,1.0,1.0,1.0,1.0,1.0,1.0,1.0,1.0,1.0,1.0,1.0,1.0,1.0,1.0,1.0,1.0,1.0,1.0,1.0,1.0,1.0,1.0,1.0,1.0,1.0,1.0,1.0,1.0,1.0,1.0,1.0,1.0,1.0,1.0,1.0,1.0,1.0,1.0,1.0,1.0,1.0,1.0,1.0,1.0,1.0,1.0,1.0,1.0,1.0,1.0,1.0,1.0,1.0,1.0,1.0,1.0,1.0,1.0,1.0,1.0,1.0,1.0,1.0,1.0,1.0,1.0,1.0,1.0,1.0,1.0,1.0,1.0,1.0,1.0,1.0,1.0,1.0,1.0,1.0,1.0,1.0,1.0,1.0,1.0,1.0,1.0,1.0,1.0,1.0,1.0,1.0,1.0,1.0,1.0,1.0,1.0,1.0,1.0,1.0,1.0,1.0,1.0,1.0,1.0,1.0,1.0,1.0,1.0,1.0,1.0,1.0,1.0,1.0,1.0,1.0,1.0,1.0,1.0,1.0,1.0,1.0,1.0,1.0,1.0,1.0,1.0,1.0,1.0,1.0,1.0,1.0,1.0,1.0,1.0,1.0,1.0,1.0,1.0,1.0,1.0,1.0,1.0,1.0,1.0,1.0,1.0,1.0,1.0,1.0,1.0,1.0,1.0,1.0,1.0,1.0,1.0,1.0,1.0,1.0,1.0,1.0,1.0,1.0,1.0,1.0,1.0,1.0,1.0,1.0,1.0,1.0,1.0,1.0,1.0,1.0,1.0,1.0,1.0,1.0,1.0,1.0,1.0,1.0,1.0,1.0,1.0,1.0,1.0,1.0,1.0,1.0,1.0,1.0,1.0,1.0,1.0,1.0,1.0,1.0,1.0,1.0,1.0,1.0,1.0,1.0,1.0,1.0,1.0,1.0,1.0,1.0,1.0,1.0,1.0,1.0,1.0,1.0,1.0,1.0,1.0,1.0,1.0,1.0,1.0,1.0,1.0,1.0,1.0,1.0,1.0,1.0,1.0,1.0,1.0,1.0,1.0,1.0,1.0,1.0,1.0,1.0,1.0,1.0,1.0,1.0,1.0,1.0,1.0,1.0,1.0,1.0,1.0,1.0,1.0,1.0,1.0,1.0,1.0,1.0,1.0,1.0,1.0,1.0,1.0,1.0,1.0,1.0,1.0,1.0,1.0,1.0,1.0,1.0,1.0,1.0,1.0,1.0,1.0,1.0,1.0,1.0,1.0,1.0,1.0,1.0,1.0,1.0,1.0,1.0,1.0,1.0,1.0,1.0,1.0,1.0,1.0,1.0,1.0,1.0],\"coloraxis\":\"coloraxis\",\"symbol\":\"circle\"},\"mode\":\"markers\",\"name\":\"1.0\",\"scene\":\"scene\",\"showlegend\":true,\"x\":[-1.3037753290710525,2.1138595764086188,-1.7396689983559952,-1.6474128516293305,-0.1320683709110543,-2.2610271609546126,-1.1791879005718546,1.2415400131854637,-1.788979870166847,-0.10923853303818068,-0.9217052832402517,-1.7658417598348783,-1.2084614244499803,-0.3681441867613629,-1.5508789569625863,-1.4709503524650231,1.8356580816461145,-1.6415916096418972,-1.3556294025359075,0.7421939565310037,-1.3089369322757696,-0.5674583903321466,2.592376204778225,0.1072193786953302,-1.9611451042430499,1.5549387195930089,-0.9146035425749157,-1.3288054847375632,-0.7006676117017281,-1.12077875448368,-1.9229404566880712,1.5097742357264914,-2.3136139546606853,-2.096757955099158,-1.8072941102427975,-0.8524790834336445,-2.085007705516317,-0.3016642470225889,-1.0993208841938253,-0.4552052667257832,1.343190513938199,-0.6067397206165898,-1.6564563381304034,0.048023625183301256,-1.8221912372025515,0.3186190672461769,-1.4687343239107418,-1.2732401873725265,-1.4675446499840596,-0.7318237268060411,-1.1315843173248092,-1.0233065466630153,-0.2730922447077436,-1.5775788090545628,3.7866714037620715,-1.6137939489216448,0.16967458771576696,-0.987428573461631,-1.7254910373106045,0.34957907162733204,1.5633586705510158,-0.8124196172864833,-1.8871695907180752,0.23015110801075137,-0.9368233916511148,-1.739365200742352,-0.2737884925721342,-1.3433006238972554,-1.31701624246566,-1.4107825569743309,-1.76518590608997,-0.38472966015999976,1.4042798104143162,-1.2471507363468752,1.8842645694008775,0.5769870080947076,4.235964721726801,-0.9820806355152999,0.19051348098343918,-0.723228958373993,2.8682913500670693,-2.1237531621237378,-0.6285755796691637,1.639791162809707,-1.5098699166256813,-1.5978070213111073,-1.775858421648261,1.6592720985157354,0.2774878241337523,1.8405713347984891,0.2838746256739084,-1.8983624284622576,-1.4635814101119304,-2.343854739686676,0.46961282467643334,-1.8031806529829049,-1.905735944981473,-1.30222116105689,-0.9508388303320007,-1.6199165126250346,-0.1526066843861883,-1.2726741817698894,-0.7728428108610066,-1.0009197962482155,-0.30112766648690154,-0.1809629898341744,-1.72012632062348,-1.3715574077109505,-0.32617411027665616,2.6183661798930054,-1.6514523182905696,-0.18126925691752496,-2.0734978777088098,-1.8338242400916631,-1.21398282110496,-0.862794325759273,-0.5642014203511584,-1.2679281717760993,1.5256987545556273,-1.1907920420919575,-1.4618244744347446,-1.249385108229701,-0.8638241738311393,0.6089000681531679,-0.8944579373286634,0.8807888865871173,-0.519715663237218,0.35077582191488854,-0.8720954324311757,-1.8628466721037247,-1.8412598379935288,0.882523116178924,-1.5539440684262118,-1.9996134499580747,-1.161927938924532,1.0829566313563899,-0.132708502378765,1.9315732228488702,-1.8463662679832815,-1.6099837680869808,1.8394613562742461,-2.300431243620079,-0.8870178511318857,-1.5707450726195007,1.8276213358414448,0.028110322263294126,-1.0195298304304001,-1.7006329850143826,-1.171145375451442,-2.0054215366327957,-1.3600159421369922,0.9589925162208951,-0.6016113310269914,-1.933513969342025,-0.2599506544558518,3.52747498734316,-1.6896873564500896,-1.2055170212815367,-0.10257744336530795,0.026286102923234425,-0.24794319255317454,-0.43315986358337294,1.6950492682138159,-0.8371030844060896,-0.19062321664256798,-0.9009034589802734,2.2533498854591096,-1.2915694864352216,-0.7030384051419453,-1.4786437692909253,-1.390672203919746,-0.7558033825206155,-1.083151753014051,-1.2748977176904954,-1.8158453023121222,-0.49206595999031316,0.5162063035677877,0.6086941262417443,-1.9668725946648546,0.37932157290754476,-0.7845998047605471,0.6466855266340701,-1.1579826680816048,-1.4644980246224197,-0.5490383622642092,-1.6392865727216077,2.9159149874851193,-0.10012073262315248,-1.2487698851128748,0.5000366764642756,-0.873583881326249,4.486374864181114,1.9980900878231938,-0.8001965247006434,-1.735110441048224,0.36506231644644654,4.458242876959934,-1.3641732727488836,-1.9726565162954766,-1.698972080846386,-1.6167419100143743,-1.8760299291001916,-0.8133777857975956,1.354546388465578,0.8664697810664218,3.5884859434720475,-0.19113106634887903,0.2468234233695062,-1.2526297666108313,2.0494016977714162,-0.3843666617087986,-1.1373318271804271,-0.016480456479635478,-0.8041567778063456,-1.145779709632718,-1.072579913470687,-1.3999582541995164,1.7037136661563126,-1.3895715305187994,-0.8451976989163967,-1.5772255186663091,-1.6471887182821137,-0.27063266490188453,-1.4905455666801128,1.8980910638772064,-1.061304371544036,-0.4253140176519075,-0.8203508457986061,-1.7945614911248478,-0.9929629425674394,-1.6480549339916317,-0.6466115572391387,-1.9486237841202758,0.48926537398889003,-1.2938685076717695,-1.1514236299428315,-1.7138910045072673,0.4934573100429081,-2.3252125974865283,0.407121484298256,1.7811447591851097,-1.0549098853714258,-0.4905891462477671,-0.06465416568296004,-1.6259744075917284,0.8423931076723163,1.9205583454983015,3.1030271152245223,-0.043912916057811086,-0.10670220132397326,-0.13194476136169012,-1.1003028513487216,-0.13154472387079896,-0.5907066732220808,-1.1045929446674432,2.30589084789603,-1.4059579814384844,2.000155780215749,-0.8571220683043349,-1.6064605355484598,-0.18152012276167045,-1.0695500803772575,-0.6829548715209002,2.196605275676643,-0.9608930559123894,3.888841083031886,0.2487142117833111,0.9867032284963507,2.6207511316685226,-0.4722088045841006,0.6486142619209367,-1.5802293605949993,0.527957708172022,5.0310415396010395,-0.9774208521994806,-1.11241002426633,2.19279264087633,-0.6216668183198416,-1.816862523332505,0.8766987185884448,1.5255605445275322,-0.10480240868239385,-1.555843175920038,-0.017793710493345827,2.847345921249371,-1.028710666961635,-0.4888403647439205,-2.045643446320264,2.2773749294678067,-1.30439064853812,-1.0579830435058377,-2.4060030995479935,-0.3823432460717485,-0.05327059397178533,1.1314254523654055,-1.27004175685185,0.05377809994698687,-1.5436695322296392,-1.2404873850668716,-1.0245374883522467,-0.829001654655772,-0.9492818779807644,-1.6466254214765437,-0.02272863630949893,2.441623536219801,-1.2377440768469488,1.322600809459724,-1.9481185124217508,-0.7888132801619258,-1.4849132067467592,0.13604803706864216,-0.6417303169374242,-0.8205618184527096,-1.8978333898361117,-0.602742888605239,0.212407674527113,-1.0420653254432806,-1.5232340566185494,1.0024782846224622,-1.733231400466487,-1.4320962684142826,1.5482599471400649,0.13798098053199134,-1.801881005897459,-0.015446273155796327],\"y\":[0.9172142825775202,-1.4299483266625581,0.012666252452080966,-0.4432975661587833,1.9808801865566068,-0.4337144895015605,3.67526460122381,0.7825268360337473,-1.6645211759012088,1.2405784251787446,1.5291918079999938,-2.4907908625849173,0.6837889033158047,-1.0959581963016107,-2.4567098586999725,0.459683861322848,1.3449591204913816,-0.06122143385403965,0.1403108599155116,0.11426136413045689,-0.17146388540183735,0.5177408495697277,1.7595614733750367,4.342582364677004,-1.1439859782789743,1.5155568368079873,0.8016674095170049,-0.6813109606801325,3.811151837934998,0.6010971667535586,0.26805091744611076,-3.4280162681088884,-2.3885112002285482,-1.7335097465858684,-0.07338975030102805,-0.8498636782857865,-0.4037009553635449,2.632058360048754,0.5510157852882313,-0.5963410417293492,-2.371416972370376,2.005901707070864,0.17320879698895483,-0.8673648073570509,0.04954000620505179,-1.1745732533360738,-0.7995905828589434,0.18124807511710866,-1.0642316010081885,-0.7780461489285663,1.471107461782895,-0.911711069171295,-0.5475429696402823,-2.773416796825731,-1.284113715205084,0.23496336171441298,2.3742459107530545,1.2140364586527368,-3.497645172293042,1.808693603815127,0.9542908584958283,3.4450605581626683,-1.3077700382655242,-0.5584558230763782,0.5478673061021307,0.4361023745319665,-0.7935529150950392,0.331913982148099,0.4452544376834438,-1.2837689317853382,-0.3853652418199773,1.940500895277524,0.882711955553615,0.5201573917535584,1.8663478797256172,-0.5974134612016454,-1.2864822739738313,-0.5949240656449195,-1.0636934314315734,0.7727347566250641,-1.5353773332360685,-0.3532426372443908,3.271671486483164,1.0342902799180052,-3.161307946210916,-2.769849404938387,0.11164365681290614,-2.503020711654097,1.4954781568239277,2.9959384060671987,4.577637477572266,-1.1353977260169836,-2.1276531311616056,-2.580298145928207,2.121053194148535,0.4757047922386048,-1.4671538232821149,0.8495344689471988,-1.0157799975217559,0.11441261450320701,-0.5351965178729464,0.02039626480858425,0.6627249198295286,3.360044135604806,0.5061862107474544,2.2470985349724573,-0.13126974897749058,-0.5515304367470055,-1.0751965972402941,0.9157829290879127,-0.2182651112258021,2.4785838354324827,-1.9727819961345436,-0.9667676547285359,-0.8373801639277487,1.6241030410722455,3.774612315885354,-0.018857125996400752,-3.1775889514458253,0.5608057811469562,-2.7292997982246217,-0.8509756380918733,1.107172455077582,-1.1528840420847541,0.3645658149461502,0.15635093392847224,-0.9436809605364302,1.7800945062824824,1.4011849530644498,-0.07016556893272664,0.5592933187615677,-1.0608840843359464,0.18957555786991753,-1.808409477548184,0.268695792826271,0.11594677235570448,2.573254974158405,-3.456372955841637,-0.9205817574853378,0.12774479000251743,1.029804273395639,-2.4551274475623996,-0.746426132695863,-2.062974380596977,2.057002449529934,2.482121977380484,-0.7825990691423544,0.48990959885201857,-0.8254676995718905,-1.634577906909638,0.5645669824062781,-1.2474518760819946,0.6493499108891115,-0.9829291366268402,3.451718077384646,-1.914058922827997,-2.666726706268405,-0.6399704153649115,-0.609427401452442,0.2688980449271886,-1.2228331530777943,3.2149328256294916,0.8123129865260063,3.2878951908167737,2.2136556456479943,-0.877717960926507,3.1012445077135387,-0.03324433805800187,0.5324152357044909,-2.9715660734640266,-1.2511684536376255,1.0879416754931668,0.7054975466995594,0.14891473445538478,-1.4645967266893514,-0.9161793423485871,1.7621039543425359,0.8562181589971839,-0.8706034624406072,4.483909809445025,1.3858295869300037,2.3239483049195986,-0.21562511721524913,-2.7544755786133783,0.6624308530451055,0.28854998412771443,1.075490581125772,-0.535760744184198,0.1789591073538704,-0.6531060918299708,0.8202914606839122,-1.0053211936538142,-2.4515686018563096,1.4144871697628953,-0.36118890915901497,1.95454873547131,-1.012483387115118,-0.014781173997794678,-1.8714565190005041,-0.16464392968556016,-2.4963944152782247,-0.840499546124264,3.2630515274579257,-0.2808381525331505,1.2166571633775112,-1.9462130943754443,-0.4778130091368125,-0.9738154766853007,0.35222871889684876,-2.455511135898576,0.6271727770953234,0.8365400185104497,3.1597892839354715,-0.07857003060249207,-3.389420444602345,-0.00475641894812631,0.09728680543368128,1.4675992331121626,-2.7931575174039076,0.5438722288637452,0.10901503940510432,-1.362661887889559,3.1669228315656013,-2.087144208862386,-3.220704900095159,0.5540054440152046,-1.4204974326711488,-1.0827845881887628,0.38748776455542316,-0.6362739392273448,-0.3519481129188073,1.1057920299466826,-1.7691066702614495,4.361025702907996,-0.07760429494181532,-0.526371417346729,-1.0773057307128153,-0.8385687496828814,-2.5179494837730285,1.7241353479937023,0.7033403774332926,-0.19374933986216802,1.2132357197088754,0.30601117029914354,-0.255450496989357,-0.6446329855900845,1.1221129603832547,0.8463331261092579,2.088762835572184,-0.3684859910558587,2.5587284586186367,-0.886402322597005,-1.293267516860865,0.40927807674436245,-0.45370781656442255,3.200476127191317,-1.3088567049824762,1.9298802630888765,1.208284805357778,-0.18652325869381012,-0.9819219077623695,-0.9115914352298129,1.0342123490356159,-2.41283951703404,-0.4095708020253905,-2.1172617229919077,2.162108281908235,0.02945159205878976,0.9950636615308303,1.0724950870175658,-1.2484602309294701,-0.47328808807138084,4.246883218736414,-1.5228141413441336,0.6689648407667761,-0.1666311527645427,1.9098675284399682,-1.3131268364003599,-0.8529480208772899,1.59089960779317,1.3212550739950504,-1.0906759882524681,-1.3833800115626007,-0.6418677745346532,1.1378799103876,-0.12081749405512408,0.632738674874873,0.06837598305087267,-3.2689014265343483,-1.2713976491643009,-3.481764568662284,-2.3260902236675496,0.8632971694760979,3.1140976681772448,-0.9867780566218284,-2.967726815056753,2.1877271438858132,-0.19050360271369787,0.08309461182508046,-0.5488395439120608,0.23758006703570977,-1.1360501290437472,-0.4006935189784068,2.7065136407011976,3.0528684691957024,-0.08611112855438588,-1.0110877986148767,-1.8793923258007932,3.192574189348092,-2.3592055395637974,0.5032679807960795,0.35878152917235545,0.6215158277995085,-0.922493400111234,-0.7288797658251738,1.110344432928151,0.10091308453559208,-0.13414458550128863,2.0526684330550116,0.21576264235376733,-1.6333867767988728,0.6500182205678703,-0.6743907107124862,-2.3054053350987895,2.434313053870777],\"z\":[0.6672497279766686,0.19041384895894456,0.1627845034997221,1.4284293211754182,0.09463426663730251,1.3156532399931211,1.1714274630627983,-1.872327254621252,1.1430519821626839,3.4110848506207345,1.3285509299340004,-0.11816056408777735,-1.8999770736143469,-0.00935684113429019,-0.06055944983415675,0.975725162144845,0.16066704172025892,0.798814397117872,-0.6529080736043449,-0.7284318335185689,-0.5962923483189659,-0.31346036546625433,-1.1491609880413758,-1.3230805696912067,2.2179984755547975,-0.4774589644138125,0.5079488992567145,-0.22470134595093202,2.1515206796338586,-1.0583016901807336,-2.5607101595501693,0.9634884357153377,1.5594119714870043,1.8870352100955703,1.2361171811275282,0.5618447783234575,1.0321670619077836,0.634014850773314,-1.0387083636724959,-1.5228893793482334,-1.845425759052386,-1.0293966545863447,1.3020776870485948,-0.8400371679301543,-1.1427503308284943,-1.6050821614170212,-0.07116186741715291,-0.028205537773445352,-0.48351981435662894,-1.162478047640521,0.4506145148717495,0.21405085221560677,-0.6862482262707563,0.8935802493691489,-1.0491437910079506,-0.5349215904594052,-1.0663769543863,0.435098833955805,1.3996176697881575,0.13689418060265704,2.2207950499077973,1.2302306446036964,0.1284745357131561,1.1134046195280367,-0.5178616745909006,0.5000770566935061,0.26935667777470385,1.9837844717064843,-0.6703593429189163,0.6044854709708131,1.376274382596292,0.29877471339698064,-1.2090784363597042,0.0052279542828457945,-0.5776727127501762,2.2504437172903864,-0.4552815726637959,0.2955185143180457,0.12012697878493123,0.8784832717798197,-0.10626651346476221,-0.428882719700187,2.1018636942078865,3.03936735183673,1.9319512509386532,-0.11712389261547741,0.7779246811791403,-0.676822567258714,4.719291125272915,-0.7271269519126625,-1.213366180925153,-0.4212364853786353,1.0972077081949088,2.597194438174196,0.476204861019669,2.341907350558781,0.26417426742235495,-1.0393376742180762,0.5599893029449677,-0.04010330323943928,0.5092368124081981,-0.04542134496509953,0.24263053023044848,1.5199189464067941,0.4641793554698976,0.07952474480923148,0.7523658618237636,1.1054652638604512,0.6221450331318923,1.1057012406717566,0.8518461713394655,2.5459305796992373,1.3734470602630855,3.100122175790321,0.6568684348121435,0.47976558406849557,2.9106239481926384,1.2457634513408564,1.2261503934273312,0.9047981506347399,1.414133642123049,0.47604373897026586,1.537775351441477,-0.7121106972741509,-0.04993639629867744,-0.1802438696413956,1.2562601844073495,0.6938319839861807,3.4352419228863305,2.4637938005652935,-0.37086349093916016,-0.5500395276905966,1.8441427734208145,-0.015988403516332985,0.04941236516329078,-0.26230332801824163,1.694520483912204,1.658953661633076,0.5900409973680251,0.9932787723453743,3.281471605527344,2.993183600455558,1.106877370797673,1.5981809484394245,-0.8354732812677522,-0.40149139846686915,-0.15985627672383032,-1.467966577516619,-0.29652160094490204,2.0672045982990355,-1.4829718673902321,-0.11301271659041855,0.21740810007039513,1.8436334774229708,2.44346567048208,-0.5558854374957015,-2.3438913015230565,0.9351077254921288,0.7477693658453826,0.12156187386636415,0.3152205139628475,1.7960754419973204,-1.2627691886541468,1.3054117152126428,-0.7326923958559145,-0.655861280086465,-0.9179565555695718,0.45824120929134315,0.060423896700106214,0.04973479277827692,0.47637511795852117,1.5503614038828808,-0.7885128424003102,-0.5360167363530057,1.1296579010932744,0.31164263705686146,0.41616088021739145,3.096658428827904,1.0010705830859672,-1.1246699747041153,2.9010708715796274,-0.24589340904952475,-0.02638752391247222,1.2129600127377915,1.0648992024245023,0.8751862693151835,0.9545161531555327,0.25241513046841774,-1.4710567789524578,1.9925425295743473,-0.5453704133886256,-0.5764309459072365,-0.8787098944330595,0.21831155455095658,-0.577388076503053,-1.5759219813954177,-1.3081971739078573,-1.43593683004761,-1.0626342792575727,-0.4194090298119781,-0.11513284752624077,0.8184606825628679,0.6396980895644252,-1.356218707015655,2.2071248398683028,-1.8230104302134396,-0.9845741992276276,-2.075067809755917,-2.477229945389812,-2.2155076491597856,-0.6748850000454564,-0.6780873725744109,0.18954643666991225,-0.5285727200800114,-2.5374479501086222,-1.2011411020800715,0.4050141854948073,-1.0580228907664722,0.24011578450969973,-1.0820859746351241,-2.4487693527907286,-0.3146174490667724,0.4629370458401729,-1.9269227535292812,0.5804737973053717,-1.152914313104942,-0.11004924372214156,-1.6589290139270245,-0.06439644215516463,-0.6258722817291017,-0.33138133192690167,-0.2666053155046438,0.8839712637313911,-2.2412004834512453,0.5095252981594013,0.3405157989029982,1.8564893081947524,0.5532882032459865,1.6946086722500022,-0.8821186255775391,-2.2841107962144145,-0.969156910104637,0.9180096686239974,-0.513005661951868,-1.8333910046885709,-1.4547664112595675,1.4227687864799061,0.13964511229836782,-0.9391790403189578,-1.9783741143082705,1.0886454148524856,-0.47855980598065284,-0.5928644647509681,0.7430247693728816,-0.3617395448192256,-2.3955198285967265,0.291018166360267,-1.9900963017092392,-1.5544482146845682,-0.5264703362201756,-1.5947511236125766,-2.0468541468300767,-0.8589029538476087,-2.880389078482124,-1.8632956682552626,-2.0661678246478155,-2.572590394882332,-2.03018937045939,1.0435520974669643,-2.7355028513258697,-1.601495430791795,-0.2583994780245604,-3.439536553457142,-1.8073468662988446,-0.0949576892102937,0.7933004560108781,-2.2891009105106517,-0.08246427993560192,0.23343452709400275,-1.0672408453519864,8.32085296468389,-0.44894542257570724,-1.1188956109651789,-2.131004410876661,-1.1329555363879398,-1.5211151448635043,-1.0710880441047996,-0.7039408288898471,0.2606663779599202,-0.46417469504102465,-2.5387464082327234,0.16840674446182158,-2.193336000777873,-0.6047466178219744,-1.1659687910647314,-1.7766007323435486,-2.119935993547669,0.5125924180352336,-0.08324502847149522,0.12004479761536153,-1.1588896529987436,-1.4200185604681252,-1.1885913635818732,-0.10435754713787172,-1.8193631883198764,-1.7924129872487278,0.03253762760546722,1.7062780936497992,0.41534277370882194,-0.7587331626117896,-2.45710577024759,-1.0735438754678364,-1.2036029867499538,-0.283938890725319,-1.1894760479118822,0.2900003613642433,-3.1287407616,0.09489744285068198,-1.371184553227279,-1.155977016832818,0.42583013429899264,-2.8359971191514823,-1.5071811807563715,0.4024672287287185,0.49486071756274663],\"type\":\"scatter3d\"},{\"customdata\":[[359000.0],[390590.0],[394475.0],[362425.0],[366513.0],[398000.0],[399950.0],[375000.0],[407874.0],[375000.0]],\"hovertemplate\":\"<b>%{hovertext}</b><br><br>Class=%{marker.color}<br>PC 1=%{x}<br>PC 2=%{y}<br>PC 3=%{z}<br>median_listing_price=%{customdata[0]}<extra></extra>\",\"hovertext\":[\"Dare\",\"Transylvania\",\"Harnett\",\"Cleveland\",\"Wayne\",\"Cabarrus\",\"Madison\",\"Currituck\",\"Chowan\",\"Cumberland\"],\"legendgroup\":\"0.0\",\"marker\":{\"color\":[0.0,0.0,0.0,0.0,0.0,0.0,0.0,0.0,0.0,0.0],\"coloraxis\":\"coloraxis\",\"symbol\":\"diamond\"},\"mode\":\"markers\",\"name\":\"0.0\",\"scene\":\"scene\",\"showlegend\":true,\"x\":[11.209825916535733,11.29873770779712,13.363161487753251,13.475876920269586,14.084992733762228,13.913120661591417,14.193099399431023,13.784740915683386,14.572640943489683,14.188575620759929],\"y\":[-1.7851069054363446,0.030694395486548075,-0.1873517237532961,-2.035462814148867,-2.0954968060959427,-0.2163205350079466,-0.21792407808694966,-1.2540781208022138,-0.24010818153215913,-1.30964700565805],\"z\":[0.37685909472888857,0.8100694498231812,2.1507098090720187,1.6507995550690888,1.7161488786136292,1.952706610625245,0.9246795792616692,-0.18799216078105643,0.17219967150678944,-0.22635387208409652],\"type\":\"scatter3d\"}],                        {\"template\":{\"data\":{\"bar\":[{\"error_x\":{\"color\":\"#2a3f5f\"},\"error_y\":{\"color\":\"#2a3f5f\"},\"marker\":{\"line\":{\"color\":\"#E5ECF6\",\"width\":0.5},\"pattern\":{\"fillmode\":\"overlay\",\"size\":10,\"solidity\":0.2}},\"type\":\"bar\"}],\"barpolar\":[{\"marker\":{\"line\":{\"color\":\"#E5ECF6\",\"width\":0.5},\"pattern\":{\"fillmode\":\"overlay\",\"size\":10,\"solidity\":0.2}},\"type\":\"barpolar\"}],\"carpet\":[{\"aaxis\":{\"endlinecolor\":\"#2a3f5f\",\"gridcolor\":\"white\",\"linecolor\":\"white\",\"minorgridcolor\":\"white\",\"startlinecolor\":\"#2a3f5f\"},\"baxis\":{\"endlinecolor\":\"#2a3f5f\",\"gridcolor\":\"white\",\"linecolor\":\"white\",\"minorgridcolor\":\"white\",\"startlinecolor\":\"#2a3f5f\"},\"type\":\"carpet\"}],\"choropleth\":[{\"colorbar\":{\"outlinewidth\":0,\"ticks\":\"\"},\"type\":\"choropleth\"}],\"contour\":[{\"colorbar\":{\"outlinewidth\":0,\"ticks\":\"\"},\"colorscale\":[[0.0,\"#0d0887\"],[0.1111111111111111,\"#46039f\"],[0.2222222222222222,\"#7201a8\"],[0.3333333333333333,\"#9c179e\"],[0.4444444444444444,\"#bd3786\"],[0.5555555555555556,\"#d8576b\"],[0.6666666666666666,\"#ed7953\"],[0.7777777777777778,\"#fb9f3a\"],[0.8888888888888888,\"#fdca26\"],[1.0,\"#f0f921\"]],\"type\":\"contour\"}],\"contourcarpet\":[{\"colorbar\":{\"outlinewidth\":0,\"ticks\":\"\"},\"type\":\"contourcarpet\"}],\"heatmap\":[{\"colorbar\":{\"outlinewidth\":0,\"ticks\":\"\"},\"colorscale\":[[0.0,\"#0d0887\"],[0.1111111111111111,\"#46039f\"],[0.2222222222222222,\"#7201a8\"],[0.3333333333333333,\"#9c179e\"],[0.4444444444444444,\"#bd3786\"],[0.5555555555555556,\"#d8576b\"],[0.6666666666666666,\"#ed7953\"],[0.7777777777777778,\"#fb9f3a\"],[0.8888888888888888,\"#fdca26\"],[1.0,\"#f0f921\"]],\"type\":\"heatmap\"}],\"heatmapgl\":[{\"colorbar\":{\"outlinewidth\":0,\"ticks\":\"\"},\"colorscale\":[[0.0,\"#0d0887\"],[0.1111111111111111,\"#46039f\"],[0.2222222222222222,\"#7201a8\"],[0.3333333333333333,\"#9c179e\"],[0.4444444444444444,\"#bd3786\"],[0.5555555555555556,\"#d8576b\"],[0.6666666666666666,\"#ed7953\"],[0.7777777777777778,\"#fb9f3a\"],[0.8888888888888888,\"#fdca26\"],[1.0,\"#f0f921\"]],\"type\":\"heatmapgl\"}],\"histogram\":[{\"marker\":{\"pattern\":{\"fillmode\":\"overlay\",\"size\":10,\"solidity\":0.2}},\"type\":\"histogram\"}],\"histogram2d\":[{\"colorbar\":{\"outlinewidth\":0,\"ticks\":\"\"},\"colorscale\":[[0.0,\"#0d0887\"],[0.1111111111111111,\"#46039f\"],[0.2222222222222222,\"#7201a8\"],[0.3333333333333333,\"#9c179e\"],[0.4444444444444444,\"#bd3786\"],[0.5555555555555556,\"#d8576b\"],[0.6666666666666666,\"#ed7953\"],[0.7777777777777778,\"#fb9f3a\"],[0.8888888888888888,\"#fdca26\"],[1.0,\"#f0f921\"]],\"type\":\"histogram2d\"}],\"histogram2dcontour\":[{\"colorbar\":{\"outlinewidth\":0,\"ticks\":\"\"},\"colorscale\":[[0.0,\"#0d0887\"],[0.1111111111111111,\"#46039f\"],[0.2222222222222222,\"#7201a8\"],[0.3333333333333333,\"#9c179e\"],[0.4444444444444444,\"#bd3786\"],[0.5555555555555556,\"#d8576b\"],[0.6666666666666666,\"#ed7953\"],[0.7777777777777778,\"#fb9f3a\"],[0.8888888888888888,\"#fdca26\"],[1.0,\"#f0f921\"]],\"type\":\"histogram2dcontour\"}],\"mesh3d\":[{\"colorbar\":{\"outlinewidth\":0,\"ticks\":\"\"},\"type\":\"mesh3d\"}],\"parcoords\":[{\"line\":{\"colorbar\":{\"outlinewidth\":0,\"ticks\":\"\"}},\"type\":\"parcoords\"}],\"pie\":[{\"automargin\":true,\"type\":\"pie\"}],\"scatter\":[{\"marker\":{\"colorbar\":{\"outlinewidth\":0,\"ticks\":\"\"}},\"type\":\"scatter\"}],\"scatter3d\":[{\"line\":{\"colorbar\":{\"outlinewidth\":0,\"ticks\":\"\"}},\"marker\":{\"colorbar\":{\"outlinewidth\":0,\"ticks\":\"\"}},\"type\":\"scatter3d\"}],\"scattercarpet\":[{\"marker\":{\"colorbar\":{\"outlinewidth\":0,\"ticks\":\"\"}},\"type\":\"scattercarpet\"}],\"scattergeo\":[{\"marker\":{\"colorbar\":{\"outlinewidth\":0,\"ticks\":\"\"}},\"type\":\"scattergeo\"}],\"scattergl\":[{\"marker\":{\"colorbar\":{\"outlinewidth\":0,\"ticks\":\"\"}},\"type\":\"scattergl\"}],\"scattermapbox\":[{\"marker\":{\"colorbar\":{\"outlinewidth\":0,\"ticks\":\"\"}},\"type\":\"scattermapbox\"}],\"scatterpolar\":[{\"marker\":{\"colorbar\":{\"outlinewidth\":0,\"ticks\":\"\"}},\"type\":\"scatterpolar\"}],\"scatterpolargl\":[{\"marker\":{\"colorbar\":{\"outlinewidth\":0,\"ticks\":\"\"}},\"type\":\"scatterpolargl\"}],\"scatterternary\":[{\"marker\":{\"colorbar\":{\"outlinewidth\":0,\"ticks\":\"\"}},\"type\":\"scatterternary\"}],\"surface\":[{\"colorbar\":{\"outlinewidth\":0,\"ticks\":\"\"},\"colorscale\":[[0.0,\"#0d0887\"],[0.1111111111111111,\"#46039f\"],[0.2222222222222222,\"#7201a8\"],[0.3333333333333333,\"#9c179e\"],[0.4444444444444444,\"#bd3786\"],[0.5555555555555556,\"#d8576b\"],[0.6666666666666666,\"#ed7953\"],[0.7777777777777778,\"#fb9f3a\"],[0.8888888888888888,\"#fdca26\"],[1.0,\"#f0f921\"]],\"type\":\"surface\"}],\"table\":[{\"cells\":{\"fill\":{\"color\":\"#EBF0F8\"},\"line\":{\"color\":\"white\"}},\"header\":{\"fill\":{\"color\":\"#C8D4E3\"},\"line\":{\"color\":\"white\"}},\"type\":\"table\"}]},\"layout\":{\"annotationdefaults\":{\"arrowcolor\":\"#2a3f5f\",\"arrowhead\":0,\"arrowwidth\":1},\"autotypenumbers\":\"strict\",\"coloraxis\":{\"colorbar\":{\"outlinewidth\":0,\"ticks\":\"\"}},\"colorscale\":{\"diverging\":[[0,\"#8e0152\"],[0.1,\"#c51b7d\"],[0.2,\"#de77ae\"],[0.3,\"#f1b6da\"],[0.4,\"#fde0ef\"],[0.5,\"#f7f7f7\"],[0.6,\"#e6f5d0\"],[0.7,\"#b8e186\"],[0.8,\"#7fbc41\"],[0.9,\"#4d9221\"],[1,\"#276419\"]],\"sequential\":[[0.0,\"#0d0887\"],[0.1111111111111111,\"#46039f\"],[0.2222222222222222,\"#7201a8\"],[0.3333333333333333,\"#9c179e\"],[0.4444444444444444,\"#bd3786\"],[0.5555555555555556,\"#d8576b\"],[0.6666666666666666,\"#ed7953\"],[0.7777777777777778,\"#fb9f3a\"],[0.8888888888888888,\"#fdca26\"],[1.0,\"#f0f921\"]],\"sequentialminus\":[[0.0,\"#0d0887\"],[0.1111111111111111,\"#46039f\"],[0.2222222222222222,\"#7201a8\"],[0.3333333333333333,\"#9c179e\"],[0.4444444444444444,\"#bd3786\"],[0.5555555555555556,\"#d8576b\"],[0.6666666666666666,\"#ed7953\"],[0.7777777777777778,\"#fb9f3a\"],[0.8888888888888888,\"#fdca26\"],[1.0,\"#f0f921\"]]},\"colorway\":[\"#636efa\",\"#EF553B\",\"#00cc96\",\"#ab63fa\",\"#FFA15A\",\"#19d3f3\",\"#FF6692\",\"#B6E880\",\"#FF97FF\",\"#FECB52\"],\"font\":{\"color\":\"#2a3f5f\"},\"geo\":{\"bgcolor\":\"white\",\"lakecolor\":\"white\",\"landcolor\":\"#E5ECF6\",\"showlakes\":true,\"showland\":true,\"subunitcolor\":\"white\"},\"hoverlabel\":{\"align\":\"left\"},\"hovermode\":\"closest\",\"mapbox\":{\"style\":\"light\"},\"paper_bgcolor\":\"white\",\"plot_bgcolor\":\"#E5ECF6\",\"polar\":{\"angularaxis\":{\"gridcolor\":\"white\",\"linecolor\":\"white\",\"ticks\":\"\"},\"bgcolor\":\"#E5ECF6\",\"radialaxis\":{\"gridcolor\":\"white\",\"linecolor\":\"white\",\"ticks\":\"\"}},\"scene\":{\"xaxis\":{\"backgroundcolor\":\"#E5ECF6\",\"gridcolor\":\"white\",\"gridwidth\":2,\"linecolor\":\"white\",\"showbackground\":true,\"ticks\":\"\",\"zerolinecolor\":\"white\"},\"yaxis\":{\"backgroundcolor\":\"#E5ECF6\",\"gridcolor\":\"white\",\"gridwidth\":2,\"linecolor\":\"white\",\"showbackground\":true,\"ticks\":\"\",\"zerolinecolor\":\"white\"},\"zaxis\":{\"backgroundcolor\":\"#E5ECF6\",\"gridcolor\":\"white\",\"gridwidth\":2,\"linecolor\":\"white\",\"showbackground\":true,\"ticks\":\"\",\"zerolinecolor\":\"white\"}},\"shapedefaults\":{\"line\":{\"color\":\"#2a3f5f\"}},\"ternary\":{\"aaxis\":{\"gridcolor\":\"white\",\"linecolor\":\"white\",\"ticks\":\"\"},\"baxis\":{\"gridcolor\":\"white\",\"linecolor\":\"white\",\"ticks\":\"\"},\"bgcolor\":\"#E5ECF6\",\"caxis\":{\"gridcolor\":\"white\",\"linecolor\":\"white\",\"ticks\":\"\"}},\"title\":{\"x\":0.05},\"xaxis\":{\"automargin\":true,\"gridcolor\":\"white\",\"linecolor\":\"white\",\"ticks\":\"\",\"title\":{\"standoff\":15},\"zerolinecolor\":\"white\",\"zerolinewidth\":2},\"yaxis\":{\"automargin\":true,\"gridcolor\":\"white\",\"linecolor\":\"white\",\"ticks\":\"\",\"title\":{\"standoff\":15},\"zerolinecolor\":\"white\",\"zerolinewidth\":2}}},\"scene\":{\"domain\":{\"x\":[0.0,1.0],\"y\":[0.0,1.0]},\"xaxis\":{\"title\":{\"text\":\"PC 1\"}},\"yaxis\":{\"title\":{\"text\":\"PC 2\"}},\"zaxis\":{\"title\":{\"text\":\"PC 3\"}}},\"coloraxis\":{\"colorbar\":{\"title\":{\"text\":\"Class\"}},\"colorscale\":[[0.0,\"#0d0887\"],[0.1111111111111111,\"#46039f\"],[0.2222222222222222,\"#7201a8\"],[0.3333333333333333,\"#9c179e\"],[0.4444444444444444,\"#bd3786\"],[0.5555555555555556,\"#d8576b\"],[0.6666666666666666,\"#ed7953\"],[0.7777777777777778,\"#fb9f3a\"],[0.8888888888888888,\"#fdca26\"],[1.0,\"#f0f921\"]]},\"legend\":{\"title\":{\"text\":\"Class\"},\"tracegroupgap\":0,\"x\":0,\"y\":1},\"margin\":{\"t\":60},\"width\":800},                        {\"responsive\": true}                    ).then(function(){\n",
       "                            \n",
       "var gd = document.getElementById('c8001eb9-f476-4fc5-8241-8ea9ea7885eb');\n",
       "var x = new MutationObserver(function (mutations, observer) {{\n",
       "        var display = window.getComputedStyle(gd).display;\n",
       "        if (!display || display === 'none') {{\n",
       "            console.log([gd, 'removed!']);\n",
       "            Plotly.purge(gd);\n",
       "            observer.disconnect();\n",
       "        }}\n",
       "}});\n",
       "\n",
       "// Listen for the removal of the full notebook cells\n",
       "var notebookContainer = gd.closest('#notebook-container');\n",
       "if (notebookContainer) {{\n",
       "    x.observe(notebookContainer, {childList: true});\n",
       "}}\n",
       "\n",
       "// Listen for the clearing of the current output cell\n",
       "var outputEl = gd.closest('.output');\n",
       "if (outputEl) {{\n",
       "    x.observe(outputEl, {childList: true});\n",
       "}}\n",
       "\n",
       "                        })                };                });            </script>        </div>"
      ]
     },
     "metadata": {},
     "output_type": "display_data"
    }
   ],
   "source": [
    "# adding \"class\" creates Nans b/c dataframes are different lengths, drop to graph.\n",
    "clustered_df1 = clustered_df.dropna()\n",
    "# Creating a 3D-Scatter with the PCA data and the clusters\n",
    "\n",
    "fig = px.scatter_3d(\n",
    "    clustered_df1,\n",
    "    x=\"PC 1\",\n",
    "    y=\"PC 2\",\n",
    "    z=\"PC 3\",\n",
    "    hover_data=[\"median_listing_price\"],\n",
    "    hover_name=\"County\",\n",
    "    color=\"Class\",\n",
    "    symbol=\"Class\",\n",
    "    width=800,\n",
    ")\n",
    "fig.update_layout(legend=dict(x=0, y=1))\n",
    "fig.show()"
   ]
  },
  {
   "cell_type": "code",
   "execution_count": null,
   "metadata": {},
   "outputs": [],
   "source": []
  }
 ],
 "metadata": {
  "file_extension": ".py",
  "kernelspec": {
   "display_name": "mlenv",
   "language": "python",
   "name": "mlenv"
  },
  "language_info": {
   "codemirror_mode": {
    "name": "ipython",
    "version": 3
   },
   "file_extension": ".py",
   "mimetype": "text/x-python",
   "name": "python",
   "nbconvert_exporter": "python",
   "pygments_lexer": "ipython3",
   "version": "3.7.13"
  },
  "latex_envs": {
   "LaTeX_envs_menu_present": true,
   "autoclose": false,
   "autocomplete": true,
   "bibliofile": "biblio.bib",
   "cite_by": "apalike",
   "current_citInitial": 1,
   "eqLabelWithNumbers": true,
   "eqNumInitial": 1,
   "hotkeys": {
    "equation": "Ctrl-E",
    "itemize": "Ctrl-I"
   },
   "labels_anchors": false,
   "latex_user_defs": false,
   "report_style_numbering": false,
   "user_envs_cfg": false
  },
  "mimetype": "text/x-python",
  "name": "python",
  "npconvert_exporter": "python",
  "pygments_lexer": "ipython3",
  "version": 3
 },
 "nbformat": 4,
 "nbformat_minor": 2
}
